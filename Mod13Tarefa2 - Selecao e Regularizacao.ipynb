{
 "cells": [
  {
   "cell_type": "markdown",
   "metadata": {},
   "source": [
    "# EBAC - Regressão II - regressão múltipla\n",
    "\n",
    "## Tarefa I"
   ]
  },
  {
   "cell_type": "markdown",
   "metadata": {},
   "source": [
    "#### Previsão de renda II\n",
    "\n",
    "Vamos continuar trabalhando com a base 'previsao_de_renda.csv', que é a base do seu próximo projeto. Vamos usar os recursos que vimos até aqui nesta base.\n",
    "\n",
    "|variavel|descrição|\n",
    "|-|-|\n",
    "|data_ref                | Data de referência de coleta das variáveis |\n",
    "|index                   | Código de identificação do cliente|\n",
    "|sexo                    | Sexo do cliente|\n",
    "|posse_de_veiculo        | Indica se o cliente possui veículo|\n",
    "|posse_de_imovel         | Indica se o cliente possui imóvel|\n",
    "|qtd_filhos              | Quantidade de filhos do cliente|\n",
    "|tipo_renda              | Tipo de renda do cliente|\n",
    "|educacao                | Grau de instrução do cliente|\n",
    "|estado_civil            | Estado civil do cliente|\n",
    "|tipo_residencia         | Tipo de residência do cliente (própria, alugada etc)|\n",
    "|idade                   | Idade do cliente|\n",
    "|tempo_emprego           | Tempo no emprego atual|\n",
    "|qt_pessoas_residencia   | Quantidade de pessoas que moram na residência|\n",
    "|renda                   | Renda em reais|"
   ]
  },
  {
   "cell_type": "code",
   "execution_count": 5,
   "metadata": {},
   "outputs": [],
   "source": [
    "import numpy as np\n",
    "import pandas as pd\n",
    "import seaborn as sns\n",
    "import matplotlib.pyplot as plt\n",
    "import statsmodels.formula.api as smf\n",
    "import statsmodels.api as sm\n",
    "import patsy\n",
    "from sklearn.tree import plot_tree\n",
    "from sklearn.tree import DecisionTreeClassifier\n",
    "from sklearn.metrics import accuracy_score\n",
    "from sklearn.metrics import confusion_matrix\n",
    "from sklearn.metrics import plot_confusion_matrix\n",
    "from sklearn.model_selection import train_test_split\n",
    "from sklearn.model_selection import cross_val_score\n",
    "from sklearn.metrics import mean_squared_error\n",
    "from sklearn.tree import DecisionTreeRegressor\n",
    "from sklearn import tree"
   ]
  },
  {
   "cell_type": "code",
   "execution_count": 7,
   "metadata": {},
   "outputs": [],
   "source": [
    "renda = (pd.read_csv('https://raw.githubusercontent.com/paulobrunini/EBAC/main/previsao_de_renda.csv'))"
   ]
  },
  {
   "cell_type": "code",
   "execution_count": 8,
   "metadata": {},
   "outputs": [],
   "source": [
    "renda.drop(columns=['Unnamed: 0', 'data_ref', 'id_cliente'], axis=1, inplace=True)"
   ]
  },
  {
   "cell_type": "code",
   "execution_count": 9,
   "metadata": {},
   "outputs": [],
   "source": [
    "renda.dropna(inplace=True)"
   ]
  },
  {
   "cell_type": "markdown",
   "metadata": {},
   "source": [
    "1. Separe a base em treinamento e teste (25% para teste, 75% para treinamento).\n",
    "2. Rode uma regularização *ridge* com alpha = [0, 0.001, 0.005, 0.01, 0.05, 0.1] e avalie o $R^2$ na base de testes. Qual o melhor modelo?\n",
    "3. Faça o mesmo que no passo 2, com uma regressão *LASSO*. Qual método chega a um melhor resultado?\n",
    "4. Rode um modelo *stepwise*. Avalie o $R^2$ na vase de testes. Qual o melhor resultado?\n",
    "5. Compare os parâmetros e avalie eventuais diferenças. Qual modelo você acha o melhor de todos?\n",
    "6. Partindo dos modelos que você ajustou, tente melhorar o $R^2$ na base de testes. Use a criatividade, veja se consegue inserir alguma transformação ou combinação de variáveis.\n",
    "7. Ajuste uma árvore de regressão e veja se consegue um $R^2$ melhor com ela."
   ]
  },
  {
   "cell_type": "code",
   "execution_count": 10,
   "metadata": {},
   "outputs": [],
   "source": [
    "# 1. \n",
    "x = renda.drop(columns='renda', axis = 1)\n",
    "y = renda['renda']"
   ]
  },
  {
   "cell_type": "code",
   "execution_count": 11,
   "metadata": {},
   "outputs": [],
   "source": [
    "x_treino, x_teste, y_treino, y_teste = train_test_split(x, y, test_size=0.25, random_state=100)"
   ]
  },
  {
   "cell_type": "code",
   "execution_count": 12,
   "metadata": {},
   "outputs": [],
   "source": [
    "y_treino  = pd.Series(data = y_treino, name = 'renda')"
   ]
  },
  {
   "cell_type": "code",
   "execution_count": 13,
   "metadata": {},
   "outputs": [
    {
     "data": {
      "text/plain": [
       "Index(['sexo', 'posse_de_veiculo', 'posse_de_imovel', 'qtd_filhos',\n",
       "       'tipo_renda', 'educacao', 'estado_civil', 'tipo_residencia', 'idade',\n",
       "       'tempo_emprego', 'qt_pessoas_residencia'],\n",
       "      dtype='object')"
      ]
     },
     "execution_count": 13,
     "metadata": {},
     "output_type": "execute_result"
    }
   ],
   "source": [
    "x_treino.columns"
   ]
  },
  {
   "cell_type": "code",
   "execution_count": 14,
   "metadata": {},
   "outputs": [],
   "source": [
    "concat = pd.concat([x_treino,y_treino], axis =1)"
   ]
  },
  {
   "cell_type": "code",
   "execution_count": 16,
   "metadata": {},
   "outputs": [
    {
     "name": "stdout",
     "output_type": "stream",
     "text": [
      "(9320, 11)\n",
      "(9320,)\n"
     ]
    },
    {
     "data": {
      "text/plain": [
       "Index(['sexo', 'posse_de_veiculo', 'posse_de_imovel', 'qtd_filhos',\n",
       "       'tipo_renda', 'educacao', 'estado_civil', 'tipo_residencia', 'idade',\n",
       "       'tempo_emprego', 'qt_pessoas_residencia', 'renda'],\n",
       "      dtype='object')"
      ]
     },
     "execution_count": 16,
     "metadata": {},
     "output_type": "execute_result"
    }
   ],
   "source": [
    "print(x_treino.shape)\n",
    "print(y_treino.shape)\n",
    "concat.columns\n"
   ]
  },
  {
   "cell_type": "code",
   "execution_count": 17,
   "metadata": {},
   "outputs": [],
   "source": [
    "y1, x1 = patsy.dmatrices('np.log(renda) ~ sexo+posse_de_veiculo+posse_de_imovel+qtd_filhos+tipo_renda+educacao+' \n",
    "                         'estado_civil+tipo_residencia+idade+tempo_emprego+qt_pessoas_residencia'\n",
    "                         , data = concat)"
   ]
  },
  {
   "cell_type": "code",
   "execution_count": 18,
   "metadata": {},
   "outputs": [],
   "source": [
    "alfa =  [0 , 0.001, 0.005, 0.01, 0.05, 0.1 ]\n",
    "results = []\n",
    "for a in alfa:\n",
    "    reg1 = sm.OLS(y1,x1).fit_regularized( method = 'elastic_net'\n",
    "                                       , refit = True\n",
    "                                       , L1_wt = 0.0000000001\n",
    "                                       , alpha = a)\n",
    "    results.append(reg1)"
   ]
  },
  {
   "cell_type": "code",
   "execution_count": 19,
   "metadata": {},
   "outputs": [
    {
     "name": "stdout",
     "output_type": "stream",
     "text": [
      "                            OLS Regression Results                            \n",
      "==============================================================================\n",
      "Dep. Variable:          np.log(renda)   R-squared:                       0.354\n",
      "Model:                            OLS   Adj. R-squared:                  0.352\n",
      "Method:                 Least Squares   F-statistic:                     203.7\n",
      "Date:                Mon, 19 Jun 2023   Prob (F-statistic):               0.00\n",
      "Time:                        16:57:38   Log-Likelihood:                -10198.\n",
      "No. Observations:                9320   AIC:                         2.045e+04\n",
      "Df Residuals:                    9295   BIC:                         2.063e+04\n",
      "Df Model:                          25                                         \n",
      "Covariance Type:            nonrobust                                         \n",
      "====================================================================================================\n",
      "                                       coef    std err          t      P>|t|      [0.025      0.975]\n",
      "----------------------------------------------------------------------------------------------------\n",
      "Intercept                            6.6533      0.246     27.027      0.000       6.171       7.136\n",
      "sexo[T.M]                            0.7881      0.017     46.436      0.000       0.755       0.821\n",
      "posse_de_veiculo[T.True]             0.0332      0.016      2.022      0.043       0.001       0.065\n",
      "posse_de_imovel[T.True]              0.0754      0.016      4.673      0.000       0.044       0.107\n",
      "tipo_renda[T.Bolsista]               0.1648      0.362      0.455      0.649      -0.546       0.875\n",
      "tipo_renda[T.Empresário]             0.1509      0.017      8.727      0.000       0.117       0.185\n",
      "tipo_renda[T.Pensionista]           -0.2912      0.257     -1.134      0.257      -0.794       0.212\n",
      "tipo_renda[T.Servidor público]       0.0476      0.026      1.848      0.065      -0.003       0.098\n",
      "educacao[T.Pós graduação]            0.2175      0.175      1.245      0.213      -0.125       0.560\n",
      "educacao[T.Secundário]               0.0085      0.082      0.105      0.917      -0.151       0.168\n",
      "educacao[T.Superior completo]        0.1081      0.082      1.320      0.187      -0.052       0.269\n",
      "educacao[T.Superior incompleto]      0.0294      0.088      0.333      0.739      -0.143       0.202\n",
      "estado_civil[T.Separado]             0.3259      0.115      2.834      0.005       0.101       0.551\n",
      "estado_civil[T.Solteiro]             0.2408      0.112      2.145      0.032       0.021       0.461\n",
      "estado_civil[T.União]               -0.0145      0.029     -0.501      0.617      -0.071       0.042\n",
      "estado_civil[T.Viúvo]                0.3546      0.121      2.931      0.003       0.117       0.592\n",
      "tipo_residencia[T.Casa]             -0.0849      0.063     -1.348      0.178      -0.208       0.039\n",
      "tipo_residencia[T.Com os pais]      -0.0609      0.070     -0.870      0.384      -0.198       0.076\n",
      "tipo_residencia[T.Comunitário]      -0.1043      0.124     -0.840      0.401      -0.348       0.139\n",
      "tipo_residencia[T.Estúdio]           0.0390      0.119      0.327      0.744      -0.195       0.273\n",
      "tipo_residencia[T.Governamental]    -0.1078      0.077     -1.405      0.160      -0.258       0.043\n",
      "qtd_filhos                          -0.2588      0.111     -2.336      0.020      -0.476      -0.042\n",
      "idade                                0.0052      0.001      5.666      0.000       0.003       0.007\n",
      "tempo_emprego                        0.0617      0.001     51.478      0.000       0.059       0.064\n",
      "qt_pessoas_residencia                0.2759      0.111      2.495      0.013       0.059       0.493\n",
      "==============================================================================\n",
      "Omnibus:                        0.349   Durbin-Watson:                   2.015\n",
      "Prob(Omnibus):                  0.840   Jarque-Bera (JB):                0.320\n",
      "Skew:                           0.010   Prob(JB):                        0.852\n",
      "Kurtosis:                       3.021   Cond. No.                     2.06e+03\n",
      "==============================================================================\n",
      "\n",
      "Notes:\n",
      "[1] Standard Errors assume that the covariance matrix of the errors is correctly specified.\n",
      "[2] The condition number is large, 2.06e+03. This might indicate that there are\n",
      "strong multicollinearity or other numerical problems.\n",
      "                            OLS Regression Results                            \n",
      "==============================================================================\n",
      "Dep. Variable:          np.log(renda)   R-squared:                       0.354\n",
      "Model:                            OLS   Adj. R-squared:                  0.352\n",
      "Method:                 Least Squares   F-statistic:                     203.7\n",
      "Date:                Mon, 19 Jun 2023   Prob (F-statistic):               0.00\n",
      "Time:                        16:57:38   Log-Likelihood:                -10198.\n",
      "No. Observations:                9320   AIC:                         2.045e+04\n",
      "Df Residuals:                    9295   BIC:                         2.063e+04\n",
      "Df Model:                          25                                         \n",
      "Covariance Type:            nonrobust                                         \n",
      "====================================================================================================\n",
      "                                       coef    std err          t      P>|t|      [0.025      0.975]\n",
      "----------------------------------------------------------------------------------------------------\n",
      "Intercept                            6.6533      0.246     27.027      0.000       6.171       7.136\n",
      "sexo[T.M]                            0.7881      0.017     46.436      0.000       0.755       0.821\n",
      "posse_de_veiculo[T.True]             0.0332      0.016      2.022      0.043       0.001       0.065\n",
      "posse_de_imovel[T.True]              0.0754      0.016      4.673      0.000       0.044       0.107\n",
      "tipo_renda[T.Bolsista]               0.1648      0.362      0.455      0.649      -0.546       0.875\n",
      "tipo_renda[T.Empresário]             0.1509      0.017      8.727      0.000       0.117       0.185\n",
      "tipo_renda[T.Pensionista]           -0.2912      0.257     -1.134      0.257      -0.794       0.212\n",
      "tipo_renda[T.Servidor público]       0.0476      0.026      1.848      0.065      -0.003       0.098\n",
      "educacao[T.Pós graduação]            0.2175      0.175      1.245      0.213      -0.125       0.560\n",
      "educacao[T.Secundário]               0.0085      0.082      0.105      0.917      -0.151       0.168\n",
      "educacao[T.Superior completo]        0.1081      0.082      1.320      0.187      -0.052       0.269\n",
      "educacao[T.Superior incompleto]      0.0294      0.088      0.333      0.739      -0.143       0.202\n",
      "estado_civil[T.Separado]             0.3259      0.115      2.834      0.005       0.101       0.551\n",
      "estado_civil[T.Solteiro]             0.2408      0.112      2.145      0.032       0.021       0.461\n",
      "estado_civil[T.União]               -0.0145      0.029     -0.501      0.617      -0.071       0.042\n",
      "estado_civil[T.Viúvo]                0.3546      0.121      2.931      0.003       0.117       0.592\n",
      "tipo_residencia[T.Casa]             -0.0849      0.063     -1.348      0.178      -0.208       0.039\n",
      "tipo_residencia[T.Com os pais]      -0.0609      0.070     -0.870      0.384      -0.198       0.076\n",
      "tipo_residencia[T.Comunitário]      -0.1043      0.124     -0.840      0.401      -0.348       0.139\n",
      "tipo_residencia[T.Estúdio]           0.0390      0.119      0.327      0.744      -0.195       0.273\n",
      "tipo_residencia[T.Governamental]    -0.1078      0.077     -1.405      0.160      -0.258       0.043\n",
      "qtd_filhos                          -0.2588      0.111     -2.336      0.020      -0.476      -0.042\n",
      "idade                                0.0052      0.001      5.666      0.000       0.003       0.007\n",
      "tempo_emprego                        0.0617      0.001     51.478      0.000       0.059       0.064\n",
      "qt_pessoas_residencia                0.2759      0.111      2.495      0.013       0.059       0.493\n",
      "==============================================================================\n",
      "Omnibus:                        0.349   Durbin-Watson:                   2.015\n",
      "Prob(Omnibus):                  0.840   Jarque-Bera (JB):                0.320\n",
      "Skew:                           0.010   Prob(JB):                        0.852\n",
      "Kurtosis:                       3.021   Cond. No.                     2.06e+03\n",
      "==============================================================================\n",
      "\n",
      "Notes:\n",
      "[1] Standard Errors assume that the covariance matrix of the errors is correctly specified.\n",
      "[2] The condition number is large, 2.06e+03. This might indicate that there are\n",
      "strong multicollinearity or other numerical problems.\n",
      "                            OLS Regression Results                            \n",
      "==============================================================================\n",
      "Dep. Variable:          np.log(renda)   R-squared:                       0.354\n",
      "Model:                            OLS   Adj. R-squared:                  0.352\n",
      "Method:                 Least Squares   F-statistic:                     203.7\n",
      "Date:                Mon, 19 Jun 2023   Prob (F-statistic):               0.00\n",
      "Time:                        16:57:38   Log-Likelihood:                -10198.\n",
      "No. Observations:                9320   AIC:                         2.045e+04\n",
      "Df Residuals:                    9295   BIC:                         2.063e+04\n",
      "Df Model:                          25                                         \n",
      "Covariance Type:            nonrobust                                         \n",
      "====================================================================================================\n",
      "                                       coef    std err          t      P>|t|      [0.025      0.975]\n",
      "----------------------------------------------------------------------------------------------------\n",
      "Intercept                            6.6533      0.246     27.027      0.000       6.171       7.136\n",
      "sexo[T.M]                            0.7881      0.017     46.436      0.000       0.755       0.821\n",
      "posse_de_veiculo[T.True]             0.0332      0.016      2.022      0.043       0.001       0.065\n",
      "posse_de_imovel[T.True]              0.0754      0.016      4.673      0.000       0.044       0.107\n",
      "tipo_renda[T.Bolsista]               0.1648      0.362      0.455      0.649      -0.546       0.875\n",
      "tipo_renda[T.Empresário]             0.1509      0.017      8.727      0.000       0.117       0.185\n",
      "tipo_renda[T.Pensionista]           -0.2912      0.257     -1.134      0.257      -0.794       0.212\n",
      "tipo_renda[T.Servidor público]       0.0476      0.026      1.848      0.065      -0.003       0.098\n",
      "educacao[T.Pós graduação]            0.2175      0.175      1.245      0.213      -0.125       0.560\n",
      "educacao[T.Secundário]               0.0085      0.082      0.105      0.917      -0.151       0.168\n",
      "educacao[T.Superior completo]        0.1081      0.082      1.320      0.187      -0.052       0.269\n",
      "educacao[T.Superior incompleto]      0.0294      0.088      0.333      0.739      -0.143       0.202\n",
      "estado_civil[T.Separado]             0.3259      0.115      2.834      0.005       0.101       0.551\n",
      "estado_civil[T.Solteiro]             0.2408      0.112      2.145      0.032       0.021       0.461\n",
      "estado_civil[T.União]               -0.0145      0.029     -0.501      0.617      -0.071       0.042\n",
      "estado_civil[T.Viúvo]                0.3546      0.121      2.931      0.003       0.117       0.592\n",
      "tipo_residencia[T.Casa]             -0.0849      0.063     -1.348      0.178      -0.208       0.039\n",
      "tipo_residencia[T.Com os pais]      -0.0609      0.070     -0.870      0.384      -0.198       0.076\n",
      "tipo_residencia[T.Comunitário]      -0.1043      0.124     -0.840      0.401      -0.348       0.139\n",
      "tipo_residencia[T.Estúdio]           0.0390      0.119      0.327      0.744      -0.195       0.273\n",
      "tipo_residencia[T.Governamental]    -0.1078      0.077     -1.405      0.160      -0.258       0.043\n",
      "qtd_filhos                          -0.2588      0.111     -2.336      0.020      -0.476      -0.042\n",
      "idade                                0.0052      0.001      5.666      0.000       0.003       0.007\n",
      "tempo_emprego                        0.0617      0.001     51.478      0.000       0.059       0.064\n",
      "qt_pessoas_residencia                0.2759      0.111      2.495      0.013       0.059       0.493\n",
      "==============================================================================\n",
      "Omnibus:                        0.349   Durbin-Watson:                   2.015\n",
      "Prob(Omnibus):                  0.840   Jarque-Bera (JB):                0.320\n",
      "Skew:                           0.010   Prob(JB):                        0.852\n",
      "Kurtosis:                       3.021   Cond. No.                     2.06e+03\n",
      "==============================================================================\n",
      "\n",
      "Notes:\n",
      "[1] Standard Errors assume that the covariance matrix of the errors is correctly specified.\n",
      "[2] The condition number is large, 2.06e+03. This might indicate that there are\n",
      "strong multicollinearity or other numerical problems.\n",
      "                            OLS Regression Results                            \n",
      "==============================================================================\n",
      "Dep. Variable:          np.log(renda)   R-squared:                       0.354\n",
      "Model:                            OLS   Adj. R-squared:                  0.352\n",
      "Method:                 Least Squares   F-statistic:                     203.7\n",
      "Date:                Mon, 19 Jun 2023   Prob (F-statistic):               0.00\n",
      "Time:                        16:57:38   Log-Likelihood:                -10198.\n",
      "No. Observations:                9320   AIC:                         2.045e+04\n",
      "Df Residuals:                    9295   BIC:                         2.063e+04\n",
      "Df Model:                          25                                         \n",
      "Covariance Type:            nonrobust                                         \n",
      "====================================================================================================\n",
      "                                       coef    std err          t      P>|t|      [0.025      0.975]\n",
      "----------------------------------------------------------------------------------------------------\n",
      "Intercept                            6.6533      0.246     27.027      0.000       6.171       7.136\n",
      "sexo[T.M]                            0.7881      0.017     46.436      0.000       0.755       0.821\n",
      "posse_de_veiculo[T.True]             0.0332      0.016      2.022      0.043       0.001       0.065\n",
      "posse_de_imovel[T.True]              0.0754      0.016      4.673      0.000       0.044       0.107\n",
      "tipo_renda[T.Bolsista]               0.1648      0.362      0.455      0.649      -0.546       0.875\n",
      "tipo_renda[T.Empresário]             0.1509      0.017      8.727      0.000       0.117       0.185\n",
      "tipo_renda[T.Pensionista]           -0.2912      0.257     -1.134      0.257      -0.794       0.212\n",
      "tipo_renda[T.Servidor público]       0.0476      0.026      1.848      0.065      -0.003       0.098\n",
      "educacao[T.Pós graduação]            0.2175      0.175      1.245      0.213      -0.125       0.560\n",
      "educacao[T.Secundário]               0.0085      0.082      0.105      0.917      -0.151       0.168\n",
      "educacao[T.Superior completo]        0.1081      0.082      1.320      0.187      -0.052       0.269\n",
      "educacao[T.Superior incompleto]      0.0294      0.088      0.333      0.739      -0.143       0.202\n",
      "estado_civil[T.Separado]             0.3259      0.115      2.834      0.005       0.101       0.551\n",
      "estado_civil[T.Solteiro]             0.2408      0.112      2.145      0.032       0.021       0.461\n",
      "estado_civil[T.União]               -0.0145      0.029     -0.501      0.617      -0.071       0.042\n",
      "estado_civil[T.Viúvo]                0.3546      0.121      2.931      0.003       0.117       0.592\n",
      "tipo_residencia[T.Casa]             -0.0849      0.063     -1.348      0.178      -0.208       0.039\n",
      "tipo_residencia[T.Com os pais]      -0.0609      0.070     -0.870      0.384      -0.198       0.076\n",
      "tipo_residencia[T.Comunitário]      -0.1043      0.124     -0.840      0.401      -0.348       0.139\n",
      "tipo_residencia[T.Estúdio]           0.0390      0.119      0.327      0.744      -0.195       0.273\n",
      "tipo_residencia[T.Governamental]    -0.1078      0.077     -1.405      0.160      -0.258       0.043\n",
      "qtd_filhos                          -0.2588      0.111     -2.336      0.020      -0.476      -0.042\n",
      "idade                                0.0052      0.001      5.666      0.000       0.003       0.007\n",
      "tempo_emprego                        0.0617      0.001     51.478      0.000       0.059       0.064\n",
      "qt_pessoas_residencia                0.2759      0.111      2.495      0.013       0.059       0.493\n",
      "==============================================================================\n",
      "Omnibus:                        0.349   Durbin-Watson:                   2.015\n",
      "Prob(Omnibus):                  0.840   Jarque-Bera (JB):                0.320\n",
      "Skew:                           0.010   Prob(JB):                        0.852\n",
      "Kurtosis:                       3.021   Cond. No.                     2.06e+03\n",
      "==============================================================================\n",
      "\n",
      "Notes:\n",
      "[1] Standard Errors assume that the covariance matrix of the errors is correctly specified.\n",
      "[2] The condition number is large, 2.06e+03. This might indicate that there are\n",
      "strong multicollinearity or other numerical problems.\n",
      "                            OLS Regression Results                            \n",
      "==============================================================================\n",
      "Dep. Variable:          np.log(renda)   R-squared:                       0.354\n",
      "Model:                            OLS   Adj. R-squared:                  0.352\n",
      "Method:                 Least Squares   F-statistic:                     203.7\n",
      "Date:                Mon, 19 Jun 2023   Prob (F-statistic):               0.00\n",
      "Time:                        16:57:38   Log-Likelihood:                -10198.\n",
      "No. Observations:                9320   AIC:                         2.045e+04\n",
      "Df Residuals:                    9295   BIC:                         2.063e+04\n",
      "Df Model:                          25                                         \n",
      "Covariance Type:            nonrobust                                         \n",
      "====================================================================================================\n",
      "                                       coef    std err          t      P>|t|      [0.025      0.975]\n",
      "----------------------------------------------------------------------------------------------------\n",
      "Intercept                            6.6533      0.246     27.027      0.000       6.171       7.136\n",
      "sexo[T.M]                            0.7881      0.017     46.436      0.000       0.755       0.821\n",
      "posse_de_veiculo[T.True]             0.0332      0.016      2.022      0.043       0.001       0.065\n",
      "posse_de_imovel[T.True]              0.0754      0.016      4.673      0.000       0.044       0.107\n",
      "tipo_renda[T.Bolsista]               0.1648      0.362      0.455      0.649      -0.546       0.875\n",
      "tipo_renda[T.Empresário]             0.1509      0.017      8.727      0.000       0.117       0.185\n",
      "tipo_renda[T.Pensionista]           -0.2912      0.257     -1.134      0.257      -0.794       0.212\n",
      "tipo_renda[T.Servidor público]       0.0476      0.026      1.848      0.065      -0.003       0.098\n",
      "educacao[T.Pós graduação]            0.2175      0.175      1.245      0.213      -0.125       0.560\n",
      "educacao[T.Secundário]               0.0085      0.082      0.105      0.917      -0.151       0.168\n",
      "educacao[T.Superior completo]        0.1081      0.082      1.320      0.187      -0.052       0.269\n",
      "educacao[T.Superior incompleto]      0.0294      0.088      0.333      0.739      -0.143       0.202\n",
      "estado_civil[T.Separado]             0.3259      0.115      2.834      0.005       0.101       0.551\n",
      "estado_civil[T.Solteiro]             0.2408      0.112      2.145      0.032       0.021       0.461\n",
      "estado_civil[T.União]               -0.0145      0.029     -0.501      0.617      -0.071       0.042\n",
      "estado_civil[T.Viúvo]                0.3546      0.121      2.931      0.003       0.117       0.592\n",
      "tipo_residencia[T.Casa]             -0.0849      0.063     -1.348      0.178      -0.208       0.039\n",
      "tipo_residencia[T.Com os pais]      -0.0609      0.070     -0.870      0.384      -0.198       0.076\n",
      "tipo_residencia[T.Comunitário]      -0.1043      0.124     -0.840      0.401      -0.348       0.139\n",
      "tipo_residencia[T.Estúdio]           0.0390      0.119      0.327      0.744      -0.195       0.273\n",
      "tipo_residencia[T.Governamental]    -0.1078      0.077     -1.405      0.160      -0.258       0.043\n",
      "qtd_filhos                          -0.2588      0.111     -2.336      0.020      -0.476      -0.042\n",
      "idade                                0.0052      0.001      5.666      0.000       0.003       0.007\n",
      "tempo_emprego                        0.0617      0.001     51.478      0.000       0.059       0.064\n",
      "qt_pessoas_residencia                0.2759      0.111      2.495      0.013       0.059       0.493\n",
      "==============================================================================\n",
      "Omnibus:                        0.349   Durbin-Watson:                   2.015\n",
      "Prob(Omnibus):                  0.840   Jarque-Bera (JB):                0.320\n",
      "Skew:                           0.010   Prob(JB):                        0.852\n",
      "Kurtosis:                       3.021   Cond. No.                     2.06e+03\n",
      "==============================================================================\n",
      "\n",
      "Notes:\n",
      "[1] Standard Errors assume that the covariance matrix of the errors is correctly specified.\n",
      "[2] The condition number is large, 2.06e+03. This might indicate that there are\n",
      "strong multicollinearity or other numerical problems.\n",
      "                            OLS Regression Results                            \n",
      "==============================================================================\n",
      "Dep. Variable:          np.log(renda)   R-squared:                       0.354\n",
      "Model:                            OLS   Adj. R-squared:                  0.352\n",
      "Method:                 Least Squares   F-statistic:                     203.7\n",
      "Date:                Mon, 19 Jun 2023   Prob (F-statistic):               0.00\n",
      "Time:                        16:57:38   Log-Likelihood:                -10198.\n",
      "No. Observations:                9320   AIC:                         2.045e+04\n",
      "Df Residuals:                    9295   BIC:                         2.063e+04\n",
      "Df Model:                          25                                         \n",
      "Covariance Type:            nonrobust                                         \n",
      "====================================================================================================\n",
      "                                       coef    std err          t      P>|t|      [0.025      0.975]\n",
      "----------------------------------------------------------------------------------------------------\n",
      "Intercept                            6.6533      0.246     27.027      0.000       6.171       7.136\n",
      "sexo[T.M]                            0.7881      0.017     46.436      0.000       0.755       0.821\n",
      "posse_de_veiculo[T.True]             0.0332      0.016      2.022      0.043       0.001       0.065\n",
      "posse_de_imovel[T.True]              0.0754      0.016      4.673      0.000       0.044       0.107\n",
      "tipo_renda[T.Bolsista]               0.1648      0.362      0.455      0.649      -0.546       0.875\n",
      "tipo_renda[T.Empresário]             0.1509      0.017      8.727      0.000       0.117       0.185\n",
      "tipo_renda[T.Pensionista]           -0.2912      0.257     -1.134      0.257      -0.794       0.212\n",
      "tipo_renda[T.Servidor público]       0.0476      0.026      1.848      0.065      -0.003       0.098\n",
      "educacao[T.Pós graduação]            0.2175      0.175      1.245      0.213      -0.125       0.560\n",
      "educacao[T.Secundário]               0.0085      0.082      0.105      0.917      -0.151       0.168\n",
      "educacao[T.Superior completo]        0.1081      0.082      1.320      0.187      -0.052       0.269\n",
      "educacao[T.Superior incompleto]      0.0294      0.088      0.333      0.739      -0.143       0.202\n",
      "estado_civil[T.Separado]             0.3259      0.115      2.834      0.005       0.101       0.551\n",
      "estado_civil[T.Solteiro]             0.2408      0.112      2.145      0.032       0.021       0.461\n",
      "estado_civil[T.União]               -0.0145      0.029     -0.501      0.617      -0.071       0.042\n",
      "estado_civil[T.Viúvo]                0.3546      0.121      2.931      0.003       0.117       0.592\n",
      "tipo_residencia[T.Casa]             -0.0849      0.063     -1.348      0.178      -0.208       0.039\n",
      "tipo_residencia[T.Com os pais]      -0.0609      0.070     -0.870      0.384      -0.198       0.076\n",
      "tipo_residencia[T.Comunitário]      -0.1043      0.124     -0.840      0.401      -0.348       0.139\n",
      "tipo_residencia[T.Estúdio]           0.0390      0.119      0.327      0.744      -0.195       0.273\n",
      "tipo_residencia[T.Governamental]    -0.1078      0.077     -1.405      0.160      -0.258       0.043\n",
      "qtd_filhos                          -0.2588      0.111     -2.336      0.020      -0.476      -0.042\n",
      "idade                                0.0052      0.001      5.666      0.000       0.003       0.007\n",
      "tempo_emprego                        0.0617      0.001     51.478      0.000       0.059       0.064\n",
      "qt_pessoas_residencia                0.2759      0.111      2.495      0.013       0.059       0.493\n",
      "==============================================================================\n",
      "Omnibus:                        0.349   Durbin-Watson:                   2.015\n",
      "Prob(Omnibus):                  0.840   Jarque-Bera (JB):                0.320\n",
      "Skew:                           0.010   Prob(JB):                        0.852\n",
      "Kurtosis:                       3.021   Cond. No.                     2.06e+03\n",
      "==============================================================================\n",
      "\n",
      "Notes:\n",
      "[1] Standard Errors assume that the covariance matrix of the errors is correctly specified.\n",
      "[2] The condition number is large, 2.06e+03. This might indicate that there are\n",
      "strong multicollinearity or other numerical problems.\n"
     ]
    }
   ],
   "source": [
    "print(results[0].summary())\n",
    "print(results[1].summary())\n",
    "print(results[2].summary())\n",
    "print(results[3].summary())\n",
    "print(results[4].summary())\n",
    "print(results[5].summary())"
   ]
  },
  {
   "cell_type": "markdown",
   "metadata": {},
   "source": [
    "##### sem diferenças - uma ressalva com o lasso - quanto maior o alpha menor é o R²\n"
   ]
  },
  {
   "cell_type": "code",
   "execution_count": 20,
   "metadata": {},
   "outputs": [],
   "source": [
    "x_treino = pd.get_dummies(data = x_treino, drop_first= True)"
   ]
  },
  {
   "cell_type": "code",
   "execution_count": 21,
   "metadata": {},
   "outputs": [
    {
     "data": {
      "text/plain": [
       "Index(['posse_de_veiculo', 'posse_de_imovel', 'qtd_filhos', 'idade',\n",
       "       'tempo_emprego', 'qt_pessoas_residencia', 'sexo_M',\n",
       "       'tipo_renda_Bolsista', 'tipo_renda_Empresário',\n",
       "       'tipo_renda_Pensionista', 'tipo_renda_Servidor público',\n",
       "       'educacao_Pós graduação', 'educacao_Secundário',\n",
       "       'educacao_Superior completo', 'educacao_Superior incompleto',\n",
       "       'estado_civil_Separado', 'estado_civil_Solteiro', 'estado_civil_União',\n",
       "       'estado_civil_Viúvo', 'tipo_residencia_Casa',\n",
       "       'tipo_residencia_Com os pais', 'tipo_residencia_Comunitário',\n",
       "       'tipo_residencia_Estúdio', 'tipo_residencia_Governamental'],\n",
       "      dtype='object')"
      ]
     },
     "execution_count": 21,
     "metadata": {},
     "output_type": "execute_result"
    }
   ],
   "source": [
    "x_treino.columns"
   ]
  },
  {
   "cell_type": "code",
   "execution_count": 22,
   "metadata": {},
   "outputs": [],
   "source": [
    "x_treino.rename(columns={'tipo_renda_Servidor público': 'tipo_renda_Servidor_público',\n",
    "                             'educacao_Pós graduação':'educacao_Pós_graduação',\n",
    "                             'educacao_Superior completo':'educacao_Superior_completo',\n",
    "                             'educacao_Superior incompleto':'educacao_Superior_incompleto',\n",
    "                             'tipo_residencia_Com os pais':'tipo_residencia_Com_os_pais'},inplace=True)"
   ]
  },
  {
   "cell_type": "code",
   "execution_count": 23,
   "metadata": {},
   "outputs": [],
   "source": [
    "X = pd.get_dummies(data = x_treino , columns=['posse_de_veiculo','posse_de_imovel'], drop_first=True)"
   ]
  },
  {
   "cell_type": "code",
   "execution_count": 24,
   "metadata": {},
   "outputs": [
    {
     "data": {
      "text/html": [
       "<div>\n",
       "<style scoped>\n",
       "    .dataframe tbody tr th:only-of-type {\n",
       "        vertical-align: middle;\n",
       "    }\n",
       "\n",
       "    .dataframe tbody tr th {\n",
       "        vertical-align: top;\n",
       "    }\n",
       "\n",
       "    .dataframe thead th {\n",
       "        text-align: right;\n",
       "    }\n",
       "</style>\n",
       "<table border=\"1\" class=\"dataframe\">\n",
       "  <thead>\n",
       "    <tr style=\"text-align: right;\">\n",
       "      <th></th>\n",
       "      <th>qtd_filhos</th>\n",
       "      <th>idade</th>\n",
       "      <th>tempo_emprego</th>\n",
       "      <th>qt_pessoas_residencia</th>\n",
       "      <th>sexo_M</th>\n",
       "      <th>tipo_renda_Bolsista</th>\n",
       "      <th>tipo_renda_Empresário</th>\n",
       "      <th>tipo_renda_Pensionista</th>\n",
       "      <th>tipo_renda_Servidor_público</th>\n",
       "      <th>educacao_Pós_graduação</th>\n",
       "      <th>...</th>\n",
       "      <th>estado_civil_Solteiro</th>\n",
       "      <th>estado_civil_União</th>\n",
       "      <th>estado_civil_Viúvo</th>\n",
       "      <th>tipo_residencia_Casa</th>\n",
       "      <th>tipo_residencia_Com_os_pais</th>\n",
       "      <th>tipo_residencia_Comunitário</th>\n",
       "      <th>tipo_residencia_Estúdio</th>\n",
       "      <th>tipo_residencia_Governamental</th>\n",
       "      <th>posse_de_veiculo_True</th>\n",
       "      <th>posse_de_imovel_True</th>\n",
       "    </tr>\n",
       "  </thead>\n",
       "  <tbody>\n",
       "    <tr>\n",
       "      <th>3889</th>\n",
       "      <td>0</td>\n",
       "      <td>50</td>\n",
       "      <td>3.441096</td>\n",
       "      <td>2.0</td>\n",
       "      <td>1</td>\n",
       "      <td>0</td>\n",
       "      <td>0</td>\n",
       "      <td>0</td>\n",
       "      <td>0</td>\n",
       "      <td>0</td>\n",
       "      <td>...</td>\n",
       "      <td>0</td>\n",
       "      <td>0</td>\n",
       "      <td>0</td>\n",
       "      <td>0</td>\n",
       "      <td>0</td>\n",
       "      <td>1</td>\n",
       "      <td>0</td>\n",
       "      <td>0</td>\n",
       "      <td>1</td>\n",
       "      <td>0</td>\n",
       "    </tr>\n",
       "    <tr>\n",
       "      <th>14483</th>\n",
       "      <td>0</td>\n",
       "      <td>52</td>\n",
       "      <td>2.745205</td>\n",
       "      <td>1.0</td>\n",
       "      <td>0</td>\n",
       "      <td>0</td>\n",
       "      <td>0</td>\n",
       "      <td>0</td>\n",
       "      <td>0</td>\n",
       "      <td>0</td>\n",
       "      <td>...</td>\n",
       "      <td>0</td>\n",
       "      <td>0</td>\n",
       "      <td>0</td>\n",
       "      <td>1</td>\n",
       "      <td>0</td>\n",
       "      <td>0</td>\n",
       "      <td>0</td>\n",
       "      <td>0</td>\n",
       "      <td>0</td>\n",
       "      <td>0</td>\n",
       "    </tr>\n",
       "    <tr>\n",
       "      <th>762</th>\n",
       "      <td>0</td>\n",
       "      <td>38</td>\n",
       "      <td>6.539726</td>\n",
       "      <td>2.0</td>\n",
       "      <td>0</td>\n",
       "      <td>0</td>\n",
       "      <td>0</td>\n",
       "      <td>0</td>\n",
       "      <td>0</td>\n",
       "      <td>0</td>\n",
       "      <td>...</td>\n",
       "      <td>0</td>\n",
       "      <td>0</td>\n",
       "      <td>0</td>\n",
       "      <td>1</td>\n",
       "      <td>0</td>\n",
       "      <td>0</td>\n",
       "      <td>0</td>\n",
       "      <td>0</td>\n",
       "      <td>1</td>\n",
       "      <td>0</td>\n",
       "    </tr>\n",
       "    <tr>\n",
       "      <th>3078</th>\n",
       "      <td>0</td>\n",
       "      <td>27</td>\n",
       "      <td>7.624658</td>\n",
       "      <td>2.0</td>\n",
       "      <td>0</td>\n",
       "      <td>0</td>\n",
       "      <td>1</td>\n",
       "      <td>0</td>\n",
       "      <td>0</td>\n",
       "      <td>0</td>\n",
       "      <td>...</td>\n",
       "      <td>0</td>\n",
       "      <td>0</td>\n",
       "      <td>0</td>\n",
       "      <td>1</td>\n",
       "      <td>0</td>\n",
       "      <td>0</td>\n",
       "      <td>0</td>\n",
       "      <td>0</td>\n",
       "      <td>1</td>\n",
       "      <td>1</td>\n",
       "    </tr>\n",
       "    <tr>\n",
       "      <th>10423</th>\n",
       "      <td>0</td>\n",
       "      <td>47</td>\n",
       "      <td>4.550685</td>\n",
       "      <td>2.0</td>\n",
       "      <td>0</td>\n",
       "      <td>0</td>\n",
       "      <td>0</td>\n",
       "      <td>0</td>\n",
       "      <td>0</td>\n",
       "      <td>0</td>\n",
       "      <td>...</td>\n",
       "      <td>0</td>\n",
       "      <td>0</td>\n",
       "      <td>0</td>\n",
       "      <td>1</td>\n",
       "      <td>0</td>\n",
       "      <td>0</td>\n",
       "      <td>0</td>\n",
       "      <td>0</td>\n",
       "      <td>0</td>\n",
       "      <td>0</td>\n",
       "    </tr>\n",
       "    <tr>\n",
       "      <th>...</th>\n",
       "      <td>...</td>\n",
       "      <td>...</td>\n",
       "      <td>...</td>\n",
       "      <td>...</td>\n",
       "      <td>...</td>\n",
       "      <td>...</td>\n",
       "      <td>...</td>\n",
       "      <td>...</td>\n",
       "      <td>...</td>\n",
       "      <td>...</td>\n",
       "      <td>...</td>\n",
       "      <td>...</td>\n",
       "      <td>...</td>\n",
       "      <td>...</td>\n",
       "      <td>...</td>\n",
       "      <td>...</td>\n",
       "      <td>...</td>\n",
       "      <td>...</td>\n",
       "      <td>...</td>\n",
       "      <td>...</td>\n",
       "      <td>...</td>\n",
       "    </tr>\n",
       "    <tr>\n",
       "      <th>92</th>\n",
       "      <td>1</td>\n",
       "      <td>37</td>\n",
       "      <td>0.265753</td>\n",
       "      <td>3.0</td>\n",
       "      <td>1</td>\n",
       "      <td>0</td>\n",
       "      <td>0</td>\n",
       "      <td>0</td>\n",
       "      <td>0</td>\n",
       "      <td>0</td>\n",
       "      <td>...</td>\n",
       "      <td>0</td>\n",
       "      <td>0</td>\n",
       "      <td>0</td>\n",
       "      <td>1</td>\n",
       "      <td>0</td>\n",
       "      <td>0</td>\n",
       "      <td>0</td>\n",
       "      <td>0</td>\n",
       "      <td>1</td>\n",
       "      <td>1</td>\n",
       "    </tr>\n",
       "    <tr>\n",
       "      <th>14610</th>\n",
       "      <td>1</td>\n",
       "      <td>41</td>\n",
       "      <td>4.016438</td>\n",
       "      <td>3.0</td>\n",
       "      <td>1</td>\n",
       "      <td>0</td>\n",
       "      <td>1</td>\n",
       "      <td>0</td>\n",
       "      <td>0</td>\n",
       "      <td>0</td>\n",
       "      <td>...</td>\n",
       "      <td>0</td>\n",
       "      <td>0</td>\n",
       "      <td>0</td>\n",
       "      <td>1</td>\n",
       "      <td>0</td>\n",
       "      <td>0</td>\n",
       "      <td>0</td>\n",
       "      <td>0</td>\n",
       "      <td>1</td>\n",
       "      <td>1</td>\n",
       "    </tr>\n",
       "    <tr>\n",
       "      <th>9679</th>\n",
       "      <td>2</td>\n",
       "      <td>36</td>\n",
       "      <td>18.043836</td>\n",
       "      <td>4.0</td>\n",
       "      <td>0</td>\n",
       "      <td>0</td>\n",
       "      <td>0</td>\n",
       "      <td>0</td>\n",
       "      <td>0</td>\n",
       "      <td>0</td>\n",
       "      <td>...</td>\n",
       "      <td>0</td>\n",
       "      <td>0</td>\n",
       "      <td>0</td>\n",
       "      <td>1</td>\n",
       "      <td>0</td>\n",
       "      <td>0</td>\n",
       "      <td>0</td>\n",
       "      <td>0</td>\n",
       "      <td>0</td>\n",
       "      <td>1</td>\n",
       "    </tr>\n",
       "    <tr>\n",
       "      <th>8373</th>\n",
       "      <td>0</td>\n",
       "      <td>37</td>\n",
       "      <td>2.701370</td>\n",
       "      <td>2.0</td>\n",
       "      <td>1</td>\n",
       "      <td>0</td>\n",
       "      <td>0</td>\n",
       "      <td>0</td>\n",
       "      <td>0</td>\n",
       "      <td>0</td>\n",
       "      <td>...</td>\n",
       "      <td>0</td>\n",
       "      <td>0</td>\n",
       "      <td>0</td>\n",
       "      <td>1</td>\n",
       "      <td>0</td>\n",
       "      <td>0</td>\n",
       "      <td>0</td>\n",
       "      <td>0</td>\n",
       "      <td>0</td>\n",
       "      <td>1</td>\n",
       "    </tr>\n",
       "    <tr>\n",
       "      <th>6803</th>\n",
       "      <td>0</td>\n",
       "      <td>49</td>\n",
       "      <td>5.493151</td>\n",
       "      <td>2.0</td>\n",
       "      <td>0</td>\n",
       "      <td>0</td>\n",
       "      <td>0</td>\n",
       "      <td>0</td>\n",
       "      <td>0</td>\n",
       "      <td>0</td>\n",
       "      <td>...</td>\n",
       "      <td>0</td>\n",
       "      <td>0</td>\n",
       "      <td>0</td>\n",
       "      <td>0</td>\n",
       "      <td>0</td>\n",
       "      <td>0</td>\n",
       "      <td>0</td>\n",
       "      <td>1</td>\n",
       "      <td>1</td>\n",
       "      <td>0</td>\n",
       "    </tr>\n",
       "  </tbody>\n",
       "</table>\n",
       "<p>9320 rows × 24 columns</p>\n",
       "</div>"
      ],
      "text/plain": [
       "       qtd_filhos  idade  tempo_emprego  qt_pessoas_residencia  sexo_M  \\\n",
       "3889            0     50       3.441096                    2.0       1   \n",
       "14483           0     52       2.745205                    1.0       0   \n",
       "762             0     38       6.539726                    2.0       0   \n",
       "3078            0     27       7.624658                    2.0       0   \n",
       "10423           0     47       4.550685                    2.0       0   \n",
       "...           ...    ...            ...                    ...     ...   \n",
       "92              1     37       0.265753                    3.0       1   \n",
       "14610           1     41       4.016438                    3.0       1   \n",
       "9679            2     36      18.043836                    4.0       0   \n",
       "8373            0     37       2.701370                    2.0       1   \n",
       "6803            0     49       5.493151                    2.0       0   \n",
       "\n",
       "       tipo_renda_Bolsista  tipo_renda_Empresário  tipo_renda_Pensionista  \\\n",
       "3889                     0                      0                       0   \n",
       "14483                    0                      0                       0   \n",
       "762                      0                      0                       0   \n",
       "3078                     0                      1                       0   \n",
       "10423                    0                      0                       0   \n",
       "...                    ...                    ...                     ...   \n",
       "92                       0                      0                       0   \n",
       "14610                    0                      1                       0   \n",
       "9679                     0                      0                       0   \n",
       "8373                     0                      0                       0   \n",
       "6803                     0                      0                       0   \n",
       "\n",
       "       tipo_renda_Servidor_público  educacao_Pós_graduação  ...  \\\n",
       "3889                             0                       0  ...   \n",
       "14483                            0                       0  ...   \n",
       "762                              0                       0  ...   \n",
       "3078                             0                       0  ...   \n",
       "10423                            0                       0  ...   \n",
       "...                            ...                     ...  ...   \n",
       "92                               0                       0  ...   \n",
       "14610                            0                       0  ...   \n",
       "9679                             0                       0  ...   \n",
       "8373                             0                       0  ...   \n",
       "6803                             0                       0  ...   \n",
       "\n",
       "       estado_civil_Solteiro  estado_civil_União  estado_civil_Viúvo  \\\n",
       "3889                       0                   0                   0   \n",
       "14483                      0                   0                   0   \n",
       "762                        0                   0                   0   \n",
       "3078                       0                   0                   0   \n",
       "10423                      0                   0                   0   \n",
       "...                      ...                 ...                 ...   \n",
       "92                         0                   0                   0   \n",
       "14610                      0                   0                   0   \n",
       "9679                       0                   0                   0   \n",
       "8373                       0                   0                   0   \n",
       "6803                       0                   0                   0   \n",
       "\n",
       "       tipo_residencia_Casa  tipo_residencia_Com_os_pais  \\\n",
       "3889                      0                            0   \n",
       "14483                     1                            0   \n",
       "762                       1                            0   \n",
       "3078                      1                            0   \n",
       "10423                     1                            0   \n",
       "...                     ...                          ...   \n",
       "92                        1                            0   \n",
       "14610                     1                            0   \n",
       "9679                      1                            0   \n",
       "8373                      1                            0   \n",
       "6803                      0                            0   \n",
       "\n",
       "       tipo_residencia_Comunitário  tipo_residencia_Estúdio  \\\n",
       "3889                             1                        0   \n",
       "14483                            0                        0   \n",
       "762                              0                        0   \n",
       "3078                             0                        0   \n",
       "10423                            0                        0   \n",
       "...                            ...                      ...   \n",
       "92                               0                        0   \n",
       "14610                            0                        0   \n",
       "9679                             0                        0   \n",
       "8373                             0                        0   \n",
       "6803                             0                        0   \n",
       "\n",
       "       tipo_residencia_Governamental  posse_de_veiculo_True  \\\n",
       "3889                               0                      1   \n",
       "14483                              0                      0   \n",
       "762                                0                      1   \n",
       "3078                               0                      1   \n",
       "10423                              0                      0   \n",
       "...                              ...                    ...   \n",
       "92                                 0                      1   \n",
       "14610                              0                      1   \n",
       "9679                               0                      0   \n",
       "8373                               0                      0   \n",
       "6803                               1                      1   \n",
       "\n",
       "       posse_de_imovel_True  \n",
       "3889                      0  \n",
       "14483                     0  \n",
       "762                       0  \n",
       "3078                      1  \n",
       "10423                     0  \n",
       "...                     ...  \n",
       "92                        1  \n",
       "14610                     1  \n",
       "9679                      1  \n",
       "8373                      1  \n",
       "6803                      0  \n",
       "\n",
       "[9320 rows x 24 columns]"
      ]
     },
     "execution_count": 24,
     "metadata": {},
     "output_type": "execute_result"
    }
   ],
   "source": [
    "X"
   ]
  },
  {
   "cell_type": "code",
   "execution_count": 25,
   "metadata": {},
   "outputs": [],
   "source": [
    "y = y_treino"
   ]
  },
  {
   "cell_type": "code",
   "execution_count": 26,
   "metadata": {},
   "outputs": [
    {
     "name": "stdout",
     "output_type": "stream",
     "text": [
      "Add  tempo_emprego                  with p-value 0.0\n",
      "#############\n",
      "['tempo_emprego']\n",
      "Add  sexo_M                         with p-value 2.85907e-248\n",
      "#############\n",
      "['tempo_emprego', 'sexo_M']\n",
      "Add  idade                          with p-value 6.86247e-06\n",
      "#############\n",
      "['tempo_emprego', 'sexo_M', 'idade']\n",
      "Add  tipo_renda_Empresário          with p-value 3.02238e-05\n",
      "#############\n",
      "['tempo_emprego', 'sexo_M', 'idade', 'tipo_renda_Empresário']\n",
      "Add  educacao_Superior_completo     with p-value 0.00798815\n",
      "#############\n",
      "['tempo_emprego', 'sexo_M', 'idade', 'tipo_renda_Empresário', 'educacao_Superior_completo']\n",
      "#############\n",
      "['tempo_emprego', 'sexo_M', 'idade', 'tipo_renda_Empresário', 'educacao_Superior_completo']\n",
      "resulting features:\n",
      "['tempo_emprego', 'sexo_M', 'idade', 'tipo_renda_Empresário', 'educacao_Superior_completo']\n"
     ]
    }
   ],
   "source": [
    "def stepwise_selection(X, y, \n",
    "                       initial_list=[], \n",
    "                       threshold_in=0.05, \n",
    "                       threshold_out = 0.05, \n",
    "                       verbose=True):\n",
    "    \"\"\" Perform a forward-backward feature selection \n",
    "    based on p-value from statsmodels.api.OLS\n",
    "    Arguments:\n",
    "        X - pandas.DataFrame with candidate features\n",
    "        y - list-like with the target\n",
    "        initial_list - list of features to start with (column names of X)\n",
    "        threshold_in - include a feature if its p-value < threshold_in\n",
    "        threshold_out - exclude a feature if its p-value > threshold_out\n",
    "        verbose - whether to print the sequence of inclusions and exclusions\n",
    "    Returns: list of selected features \n",
    "    Always set threshold_in < threshold_out to avoid infinite looping.\n",
    "    See https://en.wikipedia.org/wiki/Stepwise_regression for the details\n",
    "    \"\"\"\n",
    "    included = list(initial_list)\n",
    "    while True:\n",
    "        changed=False\n",
    "        # forward step\n",
    "        excluded = list(set(X.columns)-set(included))\n",
    "        new_pval = pd.Series(index=excluded, dtype=np.dtype('float64'))\n",
    "        for new_column in excluded:\n",
    "            model = sm.OLS(y, sm.add_constant(pd.DataFrame(X[included+[new_column]]))).fit()\n",
    "            new_pval[new_column] = model.pvalues[new_column]\n",
    "        best_pval = new_pval.min()\n",
    "        if best_pval < threshold_in:\n",
    "            best_feature = new_pval.index[new_pval.argmin()]\n",
    "            included.append(best_feature)\n",
    "            changed=True\n",
    "            if verbose:\n",
    "                 print('Add  {:30} with p-value {:.6}'.format(best_feature, best_pval))\n",
    "\n",
    "        # backward step\n",
    "        print(\"#############\")\n",
    "        print(included)\n",
    "        model = sm.OLS(y, sm.add_constant(pd.DataFrame(X[included]))).fit()\n",
    "        # use all coefs except intercept\n",
    "        pvalues = model.pvalues.iloc[1:]\n",
    "        worst_pval = pvalues.max() # null if pvalues is empty\n",
    "        if worst_pval > threshold_out:\n",
    "            changed=True\n",
    "            worst_feature = pvalues.argmax()\n",
    "            included.remove(worst_feature)\n",
    "            if verbose:\n",
    "                print('Drop {:30} with p-value {:.6}'.format(worst_feature, worst_pval))\n",
    "        if not changed:\n",
    "            break\n",
    "    return included\n",
    "\n",
    "variaveis = stepwise_selection(X, y)\n",
    "\n",
    "print('resulting features:')\n",
    "print(variaveis)"
   ]
  },
  {
   "cell_type": "code",
   "execution_count": 27,
   "metadata": {},
   "outputs": [],
   "source": [
    "concat1 = pd.concat([X,y], axis =1)"
   ]
  },
  {
   "cell_type": "code",
   "execution_count": 28,
   "metadata": {},
   "outputs": [],
   "source": [
    "y2,x2= patsy.dmatrices('np.log(renda) ~ tempo_emprego+sexo_M+idade+tipo_renda_Empresário+educacao_Superior_completo', data = concat1 )"
   ]
  },
  {
   "cell_type": "code",
   "execution_count": 29,
   "metadata": {},
   "outputs": [],
   "source": [
    "reg2 = sm.OLS(y2,x2).fit()"
   ]
  },
  {
   "cell_type": "code",
   "execution_count": 30,
   "metadata": {},
   "outputs": [
    {
     "data": {
      "text/html": [
       "<table class=\"simpletable\">\n",
       "<caption>OLS Regression Results</caption>\n",
       "<tr>\n",
       "  <th>Dep. Variable:</th>      <td>np.log(renda)</td>  <th>  R-squared:         </th> <td>   0.350</td> \n",
       "</tr>\n",
       "<tr>\n",
       "  <th>Model:</th>                   <td>OLS</td>       <th>  Adj. R-squared:    </th> <td>   0.350</td> \n",
       "</tr>\n",
       "<tr>\n",
       "  <th>Method:</th>             <td>Least Squares</td>  <th>  F-statistic:       </th> <td>   1003.</td> \n",
       "</tr>\n",
       "<tr>\n",
       "  <th>Date:</th>             <td>Mon, 19 Jun 2023</td> <th>  Prob (F-statistic):</th>  <td>  0.00</td>  \n",
       "</tr>\n",
       "<tr>\n",
       "  <th>Time:</th>                 <td>17:01:19</td>     <th>  Log-Likelihood:    </th> <td> -10226.</td> \n",
       "</tr>\n",
       "<tr>\n",
       "  <th>No. Observations:</th>      <td>  9320</td>      <th>  AIC:               </th> <td>2.046e+04</td>\n",
       "</tr>\n",
       "<tr>\n",
       "  <th>Df Residuals:</th>          <td>  9314</td>      <th>  BIC:               </th> <td>2.051e+04</td>\n",
       "</tr>\n",
       "<tr>\n",
       "  <th>Df Model:</th>              <td>     5</td>      <th>                     </th>     <td> </td>    \n",
       "</tr>\n",
       "<tr>\n",
       "  <th>Covariance Type:</th>      <td>nonrobust</td>    <th>                     </th>     <td> </td>    \n",
       "</tr>\n",
       "</table>\n",
       "<table class=\"simpletable\">\n",
       "<tr>\n",
       "               <td></td>                 <th>coef</th>     <th>std err</th>      <th>t</th>      <th>P>|t|</th>  <th>[0.025</th>    <th>0.975]</th>  \n",
       "</tr>\n",
       "<tr>\n",
       "  <th>Intercept</th>                  <td>    7.1994</td> <td>    0.037</td> <td>  196.052</td> <td> 0.000</td> <td>    7.127</td> <td>    7.271</td>\n",
       "</tr>\n",
       "<tr>\n",
       "  <th>tempo_emprego</th>              <td>    0.0616</td> <td>    0.001</td> <td>   51.795</td> <td> 0.000</td> <td>    0.059</td> <td>    0.064</td>\n",
       "</tr>\n",
       "<tr>\n",
       "  <th>sexo_M</th>                     <td>    0.7962</td> <td>    0.016</td> <td>   50.160</td> <td> 0.000</td> <td>    0.765</td> <td>    0.827</td>\n",
       "</tr>\n",
       "<tr>\n",
       "  <th>idade</th>                      <td>    0.0054</td> <td>    0.001</td> <td>    6.345</td> <td> 0.000</td> <td>    0.004</td> <td>    0.007</td>\n",
       "</tr>\n",
       "<tr>\n",
       "  <th>tipo_renda_Empresário</th>      <td>    0.1422</td> <td>    0.017</td> <td>    8.437</td> <td> 0.000</td> <td>    0.109</td> <td>    0.175</td>\n",
       "</tr>\n",
       "<tr>\n",
       "  <th>educacao_Superior_completo</th> <td>    0.1048</td> <td>    0.016</td> <td>    6.713</td> <td> 0.000</td> <td>    0.074</td> <td>    0.135</td>\n",
       "</tr>\n",
       "</table>\n",
       "<table class=\"simpletable\">\n",
       "<tr>\n",
       "  <th>Omnibus:</th>       <td> 0.232</td> <th>  Durbin-Watson:     </th> <td>   2.013</td>\n",
       "</tr>\n",
       "<tr>\n",
       "  <th>Prob(Omnibus):</th> <td> 0.890</td> <th>  Jarque-Bera (JB):  </th> <td>   0.203</td>\n",
       "</tr>\n",
       "<tr>\n",
       "  <th>Skew:</th>          <td> 0.005</td> <th>  Prob(JB):          </th> <td>   0.903</td>\n",
       "</tr>\n",
       "<tr>\n",
       "  <th>Kurtosis:</th>      <td> 3.021</td> <th>  Cond. No.          </th> <td>    212.</td>\n",
       "</tr>\n",
       "</table><br/><br/>Notes:<br/>[1] Standard Errors assume that the covariance matrix of the errors is correctly specified."
      ],
      "text/plain": [
       "<class 'statsmodels.iolib.summary.Summary'>\n",
       "\"\"\"\n",
       "                            OLS Regression Results                            \n",
       "==============================================================================\n",
       "Dep. Variable:          np.log(renda)   R-squared:                       0.350\n",
       "Model:                            OLS   Adj. R-squared:                  0.350\n",
       "Method:                 Least Squares   F-statistic:                     1003.\n",
       "Date:                Mon, 19 Jun 2023   Prob (F-statistic):               0.00\n",
       "Time:                        17:01:19   Log-Likelihood:                -10226.\n",
       "No. Observations:                9320   AIC:                         2.046e+04\n",
       "Df Residuals:                    9314   BIC:                         2.051e+04\n",
       "Df Model:                           5                                         \n",
       "Covariance Type:            nonrobust                                         \n",
       "==============================================================================================\n",
       "                                 coef    std err          t      P>|t|      [0.025      0.975]\n",
       "----------------------------------------------------------------------------------------------\n",
       "Intercept                      7.1994      0.037    196.052      0.000       7.127       7.271\n",
       "tempo_emprego                  0.0616      0.001     51.795      0.000       0.059       0.064\n",
       "sexo_M                         0.7962      0.016     50.160      0.000       0.765       0.827\n",
       "idade                          0.0054      0.001      6.345      0.000       0.004       0.007\n",
       "tipo_renda_Empresário          0.1422      0.017      8.437      0.000       0.109       0.175\n",
       "educacao_Superior_completo     0.1048      0.016      6.713      0.000       0.074       0.135\n",
       "==============================================================================\n",
       "Omnibus:                        0.232   Durbin-Watson:                   2.013\n",
       "Prob(Omnibus):                  0.890   Jarque-Bera (JB):                0.203\n",
       "Skew:                           0.005   Prob(JB):                        0.903\n",
       "Kurtosis:                       3.021   Cond. No.                         212.\n",
       "==============================================================================\n",
       "\n",
       "Notes:\n",
       "[1] Standard Errors assume that the covariance matrix of the errors is correctly specified.\n",
       "\"\"\""
      ]
     },
     "execution_count": 30,
     "metadata": {},
     "output_type": "execute_result"
    }
   ],
   "source": [
    "reg2.summary()"
   ]
  },
  {
   "cell_type": "markdown",
   "metadata": {},
   "source": [
    "##### O modelo que deu um melhor resultado de R² foi o ridge"
   ]
  },
  {
   "cell_type": "code",
   "execution_count": 31,
   "metadata": {},
   "outputs": [],
   "source": [
    "y3,x3= patsy.dmatrices('np.log(renda) ~ tempo_emprego+sexo_M+idade+tipo_renda_Empresário+educacao_Superior_completo', data = concat1 )"
   ]
  },
  {
   "cell_type": "code",
   "execution_count": 32,
   "metadata": {},
   "outputs": [],
   "source": [
    "reg3 = sm.OLS(y3,x3).fit_regularized(method = 'elastic_net'\n",
    "                                       , refit = True\n",
    "                                       , L1_wt = 0.001\n",
    "                                       , alpha = 0)"
   ]
  },
  {
   "cell_type": "code",
   "execution_count": 33,
   "metadata": {},
   "outputs": [
    {
     "data": {
      "text/html": [
       "<table class=\"simpletable\">\n",
       "<caption>OLS Regression Results</caption>\n",
       "<tr>\n",
       "  <th>Dep. Variable:</th>      <td>np.log(renda)</td>  <th>  R-squared:         </th> <td>   0.350</td> \n",
       "</tr>\n",
       "<tr>\n",
       "  <th>Model:</th>                   <td>OLS</td>       <th>  Adj. R-squared:    </th> <td>   0.350</td> \n",
       "</tr>\n",
       "<tr>\n",
       "  <th>Method:</th>             <td>Least Squares</td>  <th>  F-statistic:       </th> <td>   836.2</td> \n",
       "</tr>\n",
       "<tr>\n",
       "  <th>Date:</th>             <td>Mon, 19 Jun 2023</td> <th>  Prob (F-statistic):</th>  <td>  0.00</td>  \n",
       "</tr>\n",
       "<tr>\n",
       "  <th>Time:</th>                 <td>17:02:08</td>     <th>  Log-Likelihood:    </th> <td> -10226.</td> \n",
       "</tr>\n",
       "<tr>\n",
       "  <th>No. Observations:</th>      <td>  9320</td>      <th>  AIC:               </th> <td>2.047e+04</td>\n",
       "</tr>\n",
       "<tr>\n",
       "  <th>Df Residuals:</th>          <td>  9314</td>      <th>  BIC:               </th> <td>2.052e+04</td>\n",
       "</tr>\n",
       "<tr>\n",
       "  <th>Df Model:</th>              <td>     6</td>      <th>                     </th>     <td> </td>    \n",
       "</tr>\n",
       "<tr>\n",
       "  <th>Covariance Type:</th>      <td>nonrobust</td>    <th>                     </th>     <td> </td>    \n",
       "</tr>\n",
       "</table>\n",
       "<table class=\"simpletable\">\n",
       "<tr>\n",
       "               <td></td>                 <th>coef</th>     <th>std err</th>      <th>t</th>      <th>P>|t|</th>  <th>[0.025</th>    <th>0.975]</th>  \n",
       "</tr>\n",
       "<tr>\n",
       "  <th>Intercept</th>                  <td>    7.1994</td> <td>    0.037</td> <td>  196.052</td> <td> 0.000</td> <td>    7.127</td> <td>    7.271</td>\n",
       "</tr>\n",
       "<tr>\n",
       "  <th>tempo_emprego</th>              <td>    0.0616</td> <td>    0.001</td> <td>   51.795</td> <td> 0.000</td> <td>    0.059</td> <td>    0.064</td>\n",
       "</tr>\n",
       "<tr>\n",
       "  <th>sexo_M</th>                     <td>    0.7962</td> <td>    0.016</td> <td>   50.160</td> <td> 0.000</td> <td>    0.765</td> <td>    0.827</td>\n",
       "</tr>\n",
       "<tr>\n",
       "  <th>idade</th>                      <td>    0.0054</td> <td>    0.001</td> <td>    6.345</td> <td> 0.000</td> <td>    0.004</td> <td>    0.007</td>\n",
       "</tr>\n",
       "<tr>\n",
       "  <th>tipo_renda_Empresário</th>      <td>    0.1422</td> <td>    0.017</td> <td>    8.437</td> <td> 0.000</td> <td>    0.109</td> <td>    0.175</td>\n",
       "</tr>\n",
       "<tr>\n",
       "  <th>educacao_Superior_completo</th> <td>    0.1048</td> <td>    0.016</td> <td>    6.713</td> <td> 0.000</td> <td>    0.074</td> <td>    0.135</td>\n",
       "</tr>\n",
       "</table>\n",
       "<table class=\"simpletable\">\n",
       "<tr>\n",
       "  <th>Omnibus:</th>       <td> 0.232</td> <th>  Durbin-Watson:     </th> <td>   2.013</td>\n",
       "</tr>\n",
       "<tr>\n",
       "  <th>Prob(Omnibus):</th> <td> 0.890</td> <th>  Jarque-Bera (JB):  </th> <td>   0.203</td>\n",
       "</tr>\n",
       "<tr>\n",
       "  <th>Skew:</th>          <td> 0.005</td> <th>  Prob(JB):          </th> <td>   0.903</td>\n",
       "</tr>\n",
       "<tr>\n",
       "  <th>Kurtosis:</th>      <td> 3.021</td> <th>  Cond. No.          </th> <td>    212.</td>\n",
       "</tr>\n",
       "</table><br/><br/>Notes:<br/>[1] Standard Errors assume that the covariance matrix of the errors is correctly specified."
      ],
      "text/plain": [
       "<class 'statsmodels.iolib.summary.Summary'>\n",
       "\"\"\"\n",
       "                            OLS Regression Results                            \n",
       "==============================================================================\n",
       "Dep. Variable:          np.log(renda)   R-squared:                       0.350\n",
       "Model:                            OLS   Adj. R-squared:                  0.350\n",
       "Method:                 Least Squares   F-statistic:                     836.2\n",
       "Date:                Mon, 19 Jun 2023   Prob (F-statistic):               0.00\n",
       "Time:                        17:02:08   Log-Likelihood:                -10226.\n",
       "No. Observations:                9320   AIC:                         2.047e+04\n",
       "Df Residuals:                    9314   BIC:                         2.052e+04\n",
       "Df Model:                           6                                         \n",
       "Covariance Type:            nonrobust                                         \n",
       "==============================================================================================\n",
       "                                 coef    std err          t      P>|t|      [0.025      0.975]\n",
       "----------------------------------------------------------------------------------------------\n",
       "Intercept                      7.1994      0.037    196.052      0.000       7.127       7.271\n",
       "tempo_emprego                  0.0616      0.001     51.795      0.000       0.059       0.064\n",
       "sexo_M                         0.7962      0.016     50.160      0.000       0.765       0.827\n",
       "idade                          0.0054      0.001      6.345      0.000       0.004       0.007\n",
       "tipo_renda_Empresário          0.1422      0.017      8.437      0.000       0.109       0.175\n",
       "educacao_Superior_completo     0.1048      0.016      6.713      0.000       0.074       0.135\n",
       "==============================================================================\n",
       "Omnibus:                        0.232   Durbin-Watson:                   2.013\n",
       "Prob(Omnibus):                  0.890   Jarque-Bera (JB):                0.203\n",
       "Skew:                           0.005   Prob(JB):                        0.903\n",
       "Kurtosis:                       3.021   Cond. No.                         212.\n",
       "==============================================================================\n",
       "\n",
       "Notes:\n",
       "[1] Standard Errors assume that the covariance matrix of the errors is correctly specified.\n",
       "\"\"\""
      ]
     },
     "execution_count": 33,
     "metadata": {},
     "output_type": "execute_result"
    }
   ],
   "source": [
    "reg3.summary()"
   ]
  },
  {
   "cell_type": "code",
   "execution_count": 34,
   "metadata": {},
   "outputs": [
    {
     "data": {
      "text/plain": [
       "<seaborn.matrix.ClusterGrid at 0x7fd72b575880>"
      ]
     },
     "execution_count": 34,
     "metadata": {},
     "output_type": "execute_result"
    },
    {
     "data": {
      "image/png": "[encoded data removed]",
      "text/plain": [
       "<Figure size 1000x1000 with 4 Axes>"
      ]
     },
     "metadata": {},
     "output_type": "display_data"
    }
   ],
   "source": [
    "#utilizar o clustermap para verificar as melhores correlações\n",
    "cmap = sns.diverging_palette(h_neg=125, h_pos=350, as_cmap=True, sep = 60, center = 'light')\n",
    "sns.clustermap(concat.corr(), figsize=(10, 10), center = 0, cmap=cmap);"
   ]
  },
  {
   "cell_type": "markdown",
   "metadata": {},
   "source": [
    "##### vemos que renda se relaciona muito bem apenas com tempo_empego"
   ]
  },
  {
   "cell_type": "code",
   "execution_count": 35,
   "metadata": {},
   "outputs": [],
   "source": [
    "arv1 = DecisionTreeRegressor(max_depth=3)"
   ]
  },
  {
   "cell_type": "code",
   "execution_count": 36,
   "metadata": {},
   "outputs": [
    {
     "data": {
      "text/plain": [
       "DecisionTreeRegressor(max_depth=3)"
      ]
     },
     "execution_count": 36,
     "metadata": {},
     "output_type": "execute_result"
    }
   ],
   "source": [
    "arv1.fit(x_treino,y_treino)"
   ]
  },
  {
   "cell_type": "code",
   "execution_count": 37,
   "metadata": {},
   "outputs": [
    {
     "data": {
      "text/plain": [
       "0.42"
      ]
     },
     "execution_count": 37,
     "metadata": {},
     "output_type": "execute_result"
    }
   ],
   "source": [
    "r_2=arv1.score(x_treino, y_treino)\n",
    "round(r_2,2)"
   ]
  },
  {
   "cell_type": "markdown",
   "metadata": {},
   "source": [
    "##### # R² deu uma boa melhorada, vamos tenta melhorar o modelo verificando o ccp_alpha\n"
   ]
  },
  {
   "cell_type": "code",
   "execution_count": 38,
   "metadata": {},
   "outputs": [],
   "source": [
    "path = arv1.cost_complexity_pruning_path(x_treino, y_treino)"
   ]
  },
  {
   "cell_type": "code",
   "execution_count": 39,
   "metadata": {},
   "outputs": [
    {
     "data": {
      "text/plain": [
       "array([       0.        ,   378510.964796  ,   641867.26178052,\n",
       "        3159550.59138362,  3467707.48621313,  7613160.90207768,\n",
       "       10053706.34156496])"
      ]
     },
     "execution_count": 39,
     "metadata": {},
     "output_type": "execute_result"
    }
   ],
   "source": [
    "path.ccp_alphas"
   ]
  },
  {
   "cell_type": "code",
   "execution_count": 40,
   "metadata": {},
   "outputs": [],
   "source": [
    "arvores = [] # lista de árvores, inicialmente vazia\n",
    "\n",
    "for ccp_a in path.ccp_alphas:\n",
    "    clf = DecisionTreeRegressor(random_state=100, ccp_alpha=ccp_a)\n",
    "    clf.fit(x_treino,y_treino)\n",
    "    arvores.append(clf)"
   ]
  },
  {
   "cell_type": "code",
   "execution_count": 41,
   "metadata": {},
   "outputs": [
    {
     "data": {
      "text/plain": [
       "[DecisionTreeRegressor(random_state=100),\n",
       " DecisionTreeRegressor(ccp_alpha=378510.964796002, random_state=100),\n",
       " DecisionTreeRegressor(ccp_alpha=641867.2617805162, random_state=100),\n",
       " DecisionTreeRegressor(ccp_alpha=3159550.591383625, random_state=100),\n",
       " DecisionTreeRegressor(ccp_alpha=3467707.486213129, random_state=100),\n",
       " DecisionTreeRegressor(ccp_alpha=7613160.902077682, random_state=100),\n",
       " DecisionTreeRegressor(ccp_alpha=10053706.341564965, random_state=100)]"
      ]
     },
     "execution_count": 41,
     "metadata": {},
     "output_type": "execute_result"
    }
   ],
   "source": [
    "arvores"
   ]
  },
  {
   "cell_type": "code",
   "execution_count": 42,
   "metadata": {},
   "outputs": [],
   "source": [
    "treino = []\n",
    "for arvore in arvores:\n",
    "    y_chapeu = arvore.predict(x_treino)\n",
    "    t = mean_squared_error(y_treino,y_chapeu)\n",
    "    treino.append(t)"
   ]
  },
  {
   "cell_type": "code",
   "execution_count": 43,
   "metadata": {},
   "outputs": [],
   "source": [
    "y_teste  = pd.Series(data = y_teste, name = 'renda' )"
   ]
  },
  {
   "cell_type": "code",
   "execution_count": 44,
   "metadata": {},
   "outputs": [],
   "source": [
    "x_teste = pd.get_dummies(data = x_teste, drop_first= True)"
   ]
  },
  {
   "cell_type": "code",
   "execution_count": 45,
   "metadata": {},
   "outputs": [
    {
     "name": "stdout",
     "output_type": "stream",
     "text": [
      "<class 'pandas.core.frame.DataFrame'>\n",
      "Int64Index: 3107 entries, 3740 to 10639\n",
      "Data columns (total 24 columns):\n",
      " #   Column                         Non-Null Count  Dtype  \n",
      "---  ------                         --------------  -----  \n",
      " 0   posse_de_veiculo               3107 non-null   bool   \n",
      " 1   posse_de_imovel                3107 non-null   bool   \n",
      " 2   qtd_filhos                     3107 non-null   int64  \n",
      " 3   idade                          3107 non-null   int64  \n",
      " 4   tempo_emprego                  3107 non-null   float64\n",
      " 5   qt_pessoas_residencia          3107 non-null   float64\n",
      " 6   sexo_M                         3107 non-null   uint8  \n",
      " 7   tipo_renda_Bolsista            3107 non-null   uint8  \n",
      " 8   tipo_renda_Empresário          3107 non-null   uint8  \n",
      " 9   tipo_renda_Pensionista         3107 non-null   uint8  \n",
      " 10  tipo_renda_Servidor público    3107 non-null   uint8  \n",
      " 11  educacao_Pós graduação         3107 non-null   uint8  \n",
      " 12  educacao_Secundário            3107 non-null   uint8  \n",
      " 13  educacao_Superior completo     3107 non-null   uint8  \n",
      " 14  educacao_Superior incompleto   3107 non-null   uint8  \n",
      " 15  estado_civil_Separado          3107 non-null   uint8  \n",
      " 16  estado_civil_Solteiro          3107 non-null   uint8  \n",
      " 17  estado_civil_União             3107 non-null   uint8  \n",
      " 18  estado_civil_Viúvo             3107 non-null   uint8  \n",
      " 19  tipo_residencia_Casa           3107 non-null   uint8  \n",
      " 20  tipo_residencia_Com os pais    3107 non-null   uint8  \n",
      " 21  tipo_residencia_Comunitário    3107 non-null   uint8  \n",
      " 22  tipo_residencia_Estúdio        3107 non-null   uint8  \n",
      " 23  tipo_residencia_Governamental  3107 non-null   uint8  \n",
      "dtypes: bool(2), float64(2), int64(2), uint8(18)\n",
      "memory usage: 182.1 KB\n"
     ]
    }
   ],
   "source": [
    "x_teste.info()"
   ]
  },
  {
   "cell_type": "code",
   "execution_count": 46,
   "metadata": {},
   "outputs": [],
   "source": [
    "x_teste = pd.get_dummies(data = x_teste, columns=['posse_de_veiculo','posse_de_imovel'], drop_first=True)\n"
   ]
  },
  {
   "cell_type": "code",
   "execution_count": 47,
   "metadata": {},
   "outputs": [
    {
     "name": "stderr",
     "output_type": "stream",
     "text": [
      "/Users/tsumano/opt/anaconda3/lib/python3.9/site-packages/sklearn/base.py:493: FutureWarning: The feature names should match those that were passed during fit. Starting version 1.2, an error will be raised.\n",
      "Feature names unseen at fit time:\n",
      "- educacao_Pós graduação\n",
      "- educacao_Superior completo\n",
      "- educacao_Superior incompleto\n",
      "- posse_de_imovel_True\n",
      "- posse_de_veiculo_True\n",
      "- ...\n",
      "Feature names seen at fit time, yet now missing:\n",
      "- educacao_Pós_graduação\n",
      "- educacao_Superior_completo\n",
      "- educacao_Superior_incompleto\n",
      "- posse_de_imovel\n",
      "- posse_de_veiculo\n",
      "- ...\n",
      "\n",
      "  warnings.warn(message, FutureWarning)\n",
      "/Users/tsumano/opt/anaconda3/lib/python3.9/site-packages/sklearn/base.py:493: FutureWarning: The feature names should match those that were passed during fit. Starting version 1.2, an error will be raised.\n",
      "Feature names unseen at fit time:\n",
      "- educacao_Pós graduação\n",
      "- educacao_Superior completo\n",
      "- educacao_Superior incompleto\n",
      "- posse_de_imovel_True\n",
      "- posse_de_veiculo_True\n",
      "- ...\n",
      "Feature names seen at fit time, yet now missing:\n",
      "- educacao_Pós_graduação\n",
      "- educacao_Superior_completo\n",
      "- educacao_Superior_incompleto\n",
      "- posse_de_imovel\n",
      "- posse_de_veiculo\n",
      "- ...\n",
      "\n",
      "  warnings.warn(message, FutureWarning)\n",
      "/Users/tsumano/opt/anaconda3/lib/python3.9/site-packages/sklearn/base.py:493: FutureWarning: The feature names should match those that were passed during fit. Starting version 1.2, an error will be raised.\n",
      "Feature names unseen at fit time:\n",
      "- educacao_Pós graduação\n",
      "- educacao_Superior completo\n",
      "- educacao_Superior incompleto\n",
      "- posse_de_imovel_True\n",
      "- posse_de_veiculo_True\n",
      "- ...\n",
      "Feature names seen at fit time, yet now missing:\n",
      "- educacao_Pós_graduação\n",
      "- educacao_Superior_completo\n",
      "- educacao_Superior_incompleto\n",
      "- posse_de_imovel\n",
      "- posse_de_veiculo\n",
      "- ...\n",
      "\n",
      "  warnings.warn(message, FutureWarning)\n",
      "/Users/tsumano/opt/anaconda3/lib/python3.9/site-packages/sklearn/base.py:493: FutureWarning: The feature names should match those that were passed during fit. Starting version 1.2, an error will be raised.\n",
      "Feature names unseen at fit time:\n",
      "- educacao_Pós graduação\n",
      "- educacao_Superior completo\n",
      "- educacao_Superior incompleto\n",
      "- posse_de_imovel_True\n",
      "- posse_de_veiculo_True\n",
      "- ...\n",
      "Feature names seen at fit time, yet now missing:\n",
      "- educacao_Pós_graduação\n",
      "- educacao_Superior_completo\n",
      "- educacao_Superior_incompleto\n",
      "- posse_de_imovel\n",
      "- posse_de_veiculo\n",
      "- ...\n",
      "\n",
      "  warnings.warn(message, FutureWarning)\n",
      "/Users/tsumano/opt/anaconda3/lib/python3.9/site-packages/sklearn/base.py:493: FutureWarning: The feature names should match those that were passed during fit. Starting version 1.2, an error will be raised.\n",
      "Feature names unseen at fit time:\n",
      "- educacao_Pós graduação\n",
      "- educacao_Superior completo\n",
      "- educacao_Superior incompleto\n",
      "- posse_de_imovel_True\n",
      "- posse_de_veiculo_True\n",
      "- ...\n",
      "Feature names seen at fit time, yet now missing:\n",
      "- educacao_Pós_graduação\n",
      "- educacao_Superior_completo\n",
      "- educacao_Superior_incompleto\n",
      "- posse_de_imovel\n",
      "- posse_de_veiculo\n",
      "- ...\n",
      "\n",
      "  warnings.warn(message, FutureWarning)\n",
      "/Users/tsumano/opt/anaconda3/lib/python3.9/site-packages/sklearn/base.py:493: FutureWarning: The feature names should match those that were passed during fit. Starting version 1.2, an error will be raised.\n",
      "Feature names unseen at fit time:\n",
      "- educacao_Pós graduação\n",
      "- educacao_Superior completo\n",
      "- educacao_Superior incompleto\n",
      "- posse_de_imovel_True\n",
      "- posse_de_veiculo_True\n",
      "- ...\n",
      "Feature names seen at fit time, yet now missing:\n",
      "- educacao_Pós_graduação\n",
      "- educacao_Superior_completo\n",
      "- educacao_Superior_incompleto\n",
      "- posse_de_imovel\n",
      "- posse_de_veiculo\n",
      "- ...\n",
      "\n",
      "  warnings.warn(message, FutureWarning)\n",
      "/Users/tsumano/opt/anaconda3/lib/python3.9/site-packages/sklearn/base.py:493: FutureWarning: The feature names should match those that were passed during fit. Starting version 1.2, an error will be raised.\n",
      "Feature names unseen at fit time:\n",
      "- educacao_Pós graduação\n",
      "- educacao_Superior completo\n",
      "- educacao_Superior incompleto\n",
      "- posse_de_imovel_True\n",
      "- posse_de_veiculo_True\n",
      "- ...\n",
      "Feature names seen at fit time, yet now missing:\n",
      "- educacao_Pós_graduação\n",
      "- educacao_Superior_completo\n",
      "- educacao_Superior_incompleto\n",
      "- posse_de_imovel\n",
      "- posse_de_veiculo\n",
      "- ...\n",
      "\n",
      "  warnings.warn(message, FutureWarning)\n"
     ]
    }
   ],
   "source": [
    "teste = []\n",
    "for arvore in arvores:\n",
    "    y_chapeu = arvore.predict(x_teste)\n",
    "    t = mean_squared_error(y_teste,y_chapeu)\n",
    "    teste.append(t)"
   ]
  },
  {
   "cell_type": "code",
   "execution_count": 48,
   "metadata": {},
   "outputs": [
    {
     "data": {
      "text/plain": [
       "7"
      ]
     },
     "execution_count": 48,
     "metadata": {},
     "output_type": "execute_result"
    }
   ],
   "source": [
    "len(treino)"
   ]
  },
  {
   "cell_type": "code",
   "execution_count": 49,
   "metadata": {},
   "outputs": [
    {
     "data": {
      "text/plain": [
       "7"
      ]
     },
     "execution_count": 49,
     "metadata": {},
     "output_type": "execute_result"
    }
   ],
   "source": [
    "len(teste)"
   ]
  },
  {
   "cell_type": "code",
   "execution_count": 50,
   "metadata": {},
   "outputs": [
    {
     "data": {
      "image/png": "[encoded data removed]",
      "text/plain": [
       "<Figure size 640x480 with 1 Axes>"
      ]
     },
     "metadata": {},
     "output_type": "display_data"
    }
   ],
   "source": [
    "fig, ax = plt.subplots()\n",
    "ax.set_xlabel(\"alpha\")\n",
    "ax.set_ylabel(\"MSE\")\n",
    "ax.set_title(\"MSE x alpha do conjunto de dados de treino e teste\")\n",
    "ax.plot(path.ccp_alphas[:-1], treino[:-1], marker='o', label=\"treino\",\n",
    "        drawstyle=\"steps-post\")\n",
    "ax.plot(path.ccp_alphas[:-1], teste[:-1], marker='o', label=\"teste\",\n",
    "        drawstyle=\"steps-post\")\n",
    "ax.legend()\n",
    "plt.show()"
   ]
  },
  {
   "cell_type": "code",
   "execution_count": 51,
   "metadata": {},
   "outputs": [
    {
     "data": {
      "text/plain": [
       "DecisionTreeRegressor(ccp_alpha=0.2, max_depth=7)"
      ]
     },
     "execution_count": 51,
     "metadata": {},
     "output_type": "execute_result"
    }
   ],
   "source": [
    "arv1_post_prunning = DecisionTreeRegressor(max_depth=7, ccp_alpha=0.2)\n",
    "\n",
    "arv1_post_prunning.fit(x_treino, y_treino)"
   ]
  },
  {
   "cell_type": "code",
   "execution_count": 52,
   "metadata": {},
   "outputs": [
    {
     "data": {
      "text/plain": [
       "0.61"
      ]
     },
     "execution_count": 52,
     "metadata": {},
     "output_type": "execute_result"
    }
   ],
   "source": [
    "r_2=arv1_post_prunning.score(x_treino, y_treino)\n",
    "round(r_2,2)"
   ]
  },
  {
   "cell_type": "code",
   "execution_count": 53,
   "metadata": {},
   "outputs": [
    {
     "data": {
      "text/plain": [
       "DecisionTreeRegressor(ccp_alpha=5, max_depth=10)"
      ]
     },
     "execution_count": 53,
     "metadata": {},
     "output_type": "execute_result"
    }
   ],
   "source": [
    "arv2_post_prunning = DecisionTreeRegressor(max_depth=10, ccp_alpha=5)\n",
    "\n",
    "arv2_post_prunning.fit(x_treino, y_treino)"
   ]
  },
  {
   "cell_type": "code",
   "execution_count": 54,
   "metadata": {},
   "outputs": [
    {
     "data": {
      "text/plain": [
       "0.7"
      ]
     },
     "execution_count": 54,
     "metadata": {},
     "output_type": "execute_result"
    }
   ],
   "source": [
    "r_2=arv2_post_prunning.score(x_treino, y_treino)\n",
    "round(r_2,2)"
   ]
  },
  {
   "cell_type": "markdown",
   "metadata": {},
   "source": [
    "##### # se aumentar mais a profundidade o R² ficará maior, mas aumentará também a possibilidade de overfitting"
   ]
  }
 ],
 "metadata": {
  "kernelspec": {
   "display_name": "Python 3 (ipykernel)",
   "language": "python",
   "name": "python3"
  },
  "language_info": {
   "codemirror_mode": {
    "name": "ipython",
    "version": 3
   },
   "file_extension": ".py",
   "mimetype": "text/x-python",
   "name": "python",
   "nbconvert_exporter": "python",
   "pygments_lexer": "ipython3",
   "version": "3.9.13"
  }
 },
 "nbformat": 4,
 "nbformat_minor": 4
}
