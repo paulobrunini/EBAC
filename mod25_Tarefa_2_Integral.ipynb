{
 "cells": [
  {
   "cell_type": "markdown",
   "metadata": {},
   "source": [
    "# Cálculo - Tarefa 02\n",
    "\n",
    "1- Calcule de forma numérica a integral da função $x^3$ avaliada entre os pontos $1$ e $2$. Identifique o número de retângulos que você usou.  "
   ]
  },
  {
   "cell_type": "code",
   "execution_count": 1,
   "metadata": {},
   "outputs": [],
   "source": [
    "import numpy as np"
   ]
  },
  {
   "cell_type": "code",
   "execution_count": 7,
   "metadata": {},
   "outputs": [
    {
     "name": "stdout",
     "output_type": "stream",
     "text": [
      "Área calculada numericamente: 3.7350000000000008\n",
      "Foram usados 5 retângulos.\n"
     ]
    }
   ],
   "source": [
    "def f(x):\n",
    "    return x**3\n",
    "\n",
    "def calcula_area(a, b, func, frame_num):\n",
    "    num_bins=frame_num+1 # Quantidade de retângulos\n",
    "    delta = (b-a)/num_bins # largura do retângulo\n",
    "    x_cols = np.linspace(a, b-delta, num_bins)+delta/2 # Divisão do eixo X\n",
    "    y_cols = f(x_cols) # alturas dos retângulos\n",
    "    return sum(delta*y_cols)\n",
    "\n",
    "a = 1\n",
    "b = 2\n",
    "frame_num = 4\n",
    "area_numerica = calcula_area(a, b, f, frame_num)\n",
    "\n",
    "print(\"Área calculada numericamente:\", area_numerica)\n",
    "print(f\"Foram usados {frame_num + 1} retângulos.\")"
   ]
  },
  {
   "cell_type": "markdown",
   "metadata": {},
   "source": [
    "2- Calcule essa área de forma analítica."
   ]
  },
  {
   "cell_type": "markdown",
   "metadata": {},
   "source": [
    "<span style=\"color: darkolivegreen;\">\n",
    "A integral definida da função 𝑓(𝑥) = 𝑥³ de 1 a 2 pode ser calculada usando a fórmula da integral:<br><br>\n",
    "\n",
    "$$\n",
    "\\int_{1}^{2} x^3 dx = \\frac{1}{4}x^4 \\bigg|_{1}^{2} = \\frac{1}{4}(2^4 - 1^4) = \\frac{1}{4}(16 - 1) = \\frac{15}{4} = 3.75\n",
    "$$\n",
    "<br><br>A área sob a curva da função 𝑓(𝑥) = 𝑥³ de 1 a 2 é igual a 3.75.\n",
    "</span>"
   ]
  }
 ],
 "metadata": {
  "kernelspec": {
   "display_name": "Python 3 (ipykernel)",
   "language": "python",
   "name": "python3"
  },
  "language_info": {
   "codemirror_mode": {
    "name": "ipython",
    "version": 3
   },
   "file_extension": ".py",
   "mimetype": "text/x-python",
   "name": "python",
   "nbconvert_exporter": "python",
   "pygments_lexer": "ipython3",
   "version": "3.9.13"
  },
  "toc": {
   "base_numbering": 1,
   "nav_menu": {},
   "number_sections": true,
   "sideBar": true,
   "skip_h1_title": true,
   "title_cell": "Índice",
   "title_sidebar": "Conteúdo",
   "toc_cell": false,
   "toc_position": {},
   "toc_section_display": true,
   "toc_window_display": false
  },
  "varInspector": {
   "cols": {
    "lenName": 16,
    "lenType": 16,
    "lenVar": 40
   },
   "kernels_config": {
    "python": {
     "delete_cmd_postfix": "",
     "delete_cmd_prefix": "del ",
     "library": "var_list.py",
     "varRefreshCmd": "print(var_dic_list())"
    },
    "r": {
     "delete_cmd_postfix": ") ",
     "delete_cmd_prefix": "rm(",
     "library": "var_list.r",
     "varRefreshCmd": "cat(var_dic_list()) "
    }
   },
   "types_to_exclude": [
    "module",
    "function",
    "builtin_function_or_method",
    "instance",
    "_Feature"
   ],
   "window_display": false
  }
 },
 "nbformat": 4,
 "nbformat_minor": 4
}
