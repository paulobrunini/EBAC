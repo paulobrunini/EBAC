{
 "cells": [
  {
   "cell_type": "markdown",
   "metadata": {},
   "source": [
    "# Árvores II - Tarefa 2"
   ]
  },
  {
   "cell_type": "markdown",
   "metadata": {},
   "source": [
    "### 1. Carregar as bases\n",
    "\n",
    "Vamos carregar as bases lidas na tarefa passada. Se você salvou essas bases em arquivo texto, basta fazer a leitura com o comando ```pd.read_csv``` das seguintes bases:\n",
    "\n",
    "- X_train\n",
    "- Y_train\n",
    "- X_test\n",
    "- Y_test\n",
    "\n",
    "Não se esqueça de considerar a leitura dos índices dos arquivos no ```read_csv()```!"
   ]
  },
  {
   "cell_type": "code",
   "execution_count": 1,
   "metadata": {},
   "outputs": [],
   "source": [
    "import pandas as pd\n",
    "import seaborn as sns\n",
    "import matplotlib.pyplot as plt\n",
    "import numpy as np\n",
    "from sklearn.tree import DecisionTreeClassifier, export_graphviz\n",
    "from sklearn.model_selection import train_test_split\n",
    "from sklearn.metrics import confusion_matrix, ConfusionMatrixDisplay\n",
    "import graphviz"
   ]
  },
  {
   "cell_type": "code",
   "execution_count": 2,
   "metadata": {},
   "outputs": [],
   "source": [
    "# Carregando as bases X_train, y_train, X_test e y_test\n",
    "X_train = pd.read_csv('X_train_processed.csv', index_col=[0,1])\n",
    "y_train = pd.read_csv('UCI HAR Dataset/train/y_train.txt', header=None, sep='\\s+').iloc[:,0]\n",
    "\n",
    "X_test = pd.read_csv('X_test_processed.csv', index_col=[0, 1])\n",
    "y_test = pd.read_csv('UCI HAR Dataset/test/y_test.txt', header=None, sep='\\s+').iloc[:, 0]"
   ]
  },
  {
   "cell_type": "markdown",
   "metadata": {},
   "source": [
    "### 2. Divisão da base em Treino, Validação e Teste\n",
    "\n",
    "A base já se encontra dividida em Treino e Validação. O que vamos fazer então é extrair uma base de Validação da base de Treino.\n",
    "\n",
    "Extraia 25% da base de treino como base de validação."
   ]
  },
  {
   "cell_type": "code",
   "execution_count": 3,
   "metadata": {},
   "outputs": [],
   "source": [
    "X_train, X_val, y_train, y_val = train_test_split(X_train, y_train, test_size=0.25, random_state=23)"
   ]
  },
  {
   "cell_type": "markdown",
   "metadata": {},
   "source": [
    "### 3. Melhores 3 variáveis\n",
    "\n",
    "Rode uma árvore com profundidade máxima igual a 4 para prever a atividade humana com todas as variáveis.\n",
    "Observe a importância das variáveis e considere as 3 variáveis com maior importância para os próximos passos.\n",
    "Dica: utilize o atributo ```clf.feature_importances_``` da árvore treinada."
   ]
  },
  {
   "cell_type": "code",
   "execution_count": 4,
   "metadata": {},
   "outputs": [
    {
     "name": "stdout",
     "output_type": "stream",
     "text": [
      "                          Variavel  Importancia\n",
      "52     (53, 'tGravityAcc-min()-X')     0.283604\n",
      "271      (272, 'fBodyAcc-mad()-X')     0.254843\n",
      "559  (560, 'angle(Y,gravityMean)')     0.168656\n"
     ]
    }
   ],
   "source": [
    "# Criando o modelo de árvore de decisão e ajustando-o aos dados de treinamento\n",
    "modelo = DecisionTreeClassifier(max_depth=4, random_state=23).fit(X_train, y_train)\n",
    "\n",
    "# Obtendo a importância das variáveis\n",
    "importances = modelo.feature_importances_\n",
    "\n",
    "# Criando um dataframe com as variáveis e suas importâncias\n",
    "importances_df = pd.DataFrame({'Variavel': X_train.columns, 'Importancia': importances})\n",
    "\n",
    "# Ordenando o dataframe pela importância de forma decrescente\n",
    "importances_df = importances_df.sort_values(by='Importancia', ascending=False)                              \n",
    "\n",
    "# Selecionando as 3 variáveis com maior importância\n",
    "melhores_variaveis = importances_df.head(3)\n",
    "\n",
    "print(melhores_variaveis)"
   ]
  },
  {
   "cell_type": "markdown",
   "metadata": {},
   "source": [
    "### 4. Construa uma árvore com as 3 melhores variáveis\n",
    "\n",
    "Utilizando as três variáveis encontradas acima, construa uma árvore de decisão. Encontre o melhor ```ccp_alpha``` utilizando a base de validação, conforme a estrutura que vimos em aula."
   ]
  },
  {
   "cell_type": "code",
   "execution_count": 5,
   "metadata": {},
   "outputs": [
    {
     "name": "stdout",
     "output_type": "stream",
     "text": [
      "Melhor ccp_alpha: 0.00032471457933917145\n",
      "CPU times: user 1.37 s, sys: 49.9 ms, total: 1.42 s\n",
      "Wall time: 1.84 s\n"
     ]
    },
    {
     "data": {
      "text/plain": [
       "'arvore_decisao.pdf'"
      ]
     },
     "execution_count": 5,
     "metadata": {},
     "output_type": "execute_result"
    }
   ],
   "source": [
    "%%time\n",
    "X_train_best = X_train[melhores_variaveis['Variavel']]\n",
    "X_val_best = X_val[melhores_variaveis['Variavel']]\n",
    "# Selecionando apenas as três melhores variáveis\n",
    "\n",
    "\n",
    "# Criando o modelo de árvore de decisão\n",
    "modelo_best = DecisionTreeClassifier(random_state=23)\n",
    "\n",
    "# Calculando os ccp_alphas\n",
    "path = modelo_best.cost_complexity_pruning_path(X_train_best, y_train)\n",
    "ccp_alphas, impurities = path.ccp_alphas, path.impurities\n",
    "\n",
    "# Selecionando apenas alguns valores de ccp_alpha\n",
    "ccp_alphas = ccp_alphas[::5]\n",
    "\n",
    "# Ajustando o modelo aos dados de treinamento e validação para cada valor de ccp_alpha\n",
    "melhores_modelos = []\n",
    "for ccp_alpha in ccp_alphas:\n",
    "    modelo = DecisionTreeClassifier(random_state=23, ccp_alpha=ccp_alpha)\n",
    "    modelo.fit(X_train_best, y_train)\n",
    "    melhores_modelos.append(modelo)\n",
    "\n",
    "# Avaliando a acurácia de cada modelo na base de validação\n",
    "val_acuracia = [modelo.score(X_val_best, y_val) for modelo in melhores_modelos]\n",
    "\n",
    "# Encontrando o melhor ccp_alpha com base na acurácia de validação\n",
    "melhor_ccp_alpha = ccp_alphas[np.argmax(val_acuracia)]\n",
    "print(\"Melhor ccp_alpha:\", melhor_ccp_alpha)\n",
    "\n",
    "# Visualizando a árvore de decisão\n",
    "modelo_final = DecisionTreeClassifier(random_state=23, ccp_alpha=melhor_ccp_alpha, max_depth=4)\n",
    "modelo_final.fit(X_train_best, y_train)\n",
    "\n",
    "dot_data = export_graphviz(\n",
    "    modelo_final,\n",
    "    out_file=None,\n",
    "    feature_names=melhores_variaveis['Variavel'].tolist(),\n",
    "    class_names=['1', '2', '3', '4', '5', '6'],\n",
    "    filled=True,\n",
    "    rounded=True,\n",
    "    special_characters=True\n",
    ")\n",
    "\n",
    "graph = graphviz.Source(dot_data)\n",
    "graph.render('arvore_decisao', view=True)\n"
   ]
  },
  {
   "cell_type": "markdown",
   "metadata": {},
   "source": [
    "### 5. Avaliação do modelo\n",
    "\n",
    "Avalie a árvore encontrada no item anterior na base de testes."
   ]
  },
  {
   "cell_type": "code",
   "execution_count": 6,
   "metadata": {},
   "outputs": [
    {
     "name": "stdout",
     "output_type": "stream",
     "text": [
      "Acurácia na base de testes: 0.7336274177129284\n"
     ]
    }
   ],
   "source": [
    "# Selecionando apenas as três melhores variáveis\n",
    "X_test_best = X_test[melhores_variaveis['Variavel']]\n",
    "\n",
    "# Criando o modelo de árvore de decisão com o melhor ccp_alpha encontrado na validação\n",
    "modelo_final = DecisionTreeClassifier(random_state=23, ccp_alpha=melhor_ccp_alpha)\n",
    "\n",
    "# Ajustando o modelo aos dados de treinamento\n",
    "modelo_final.fit(X_train_best, y_train)\n",
    "\n",
    "# Avaliando a acurácia do modelo na base de testes\n",
    "test_auracia = modelo_final.score(X_test_best, y_test)\n",
    "print(\"Acurácia na base de testes:\", test_auracia)\n"
   ]
  }
 ],
 "metadata": {
  "kernelspec": {
   "display_name": "Python 3 (ipykernel)",
   "language": "python",
   "name": "python3"
  },
  "language_info": {
   "codemirror_mode": {
    "name": "ipython",
    "version": 3
   },
   "file_extension": ".py",
   "mimetype": "text/x-python",
   "name": "python",
   "nbconvert_exporter": "python",
   "pygments_lexer": "ipython3",
   "version": "3.11.4"
  }
 },
 "nbformat": 4,
 "nbformat_minor": 4
}
