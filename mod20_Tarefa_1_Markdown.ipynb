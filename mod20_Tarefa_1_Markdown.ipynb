{
 "cells": [
  {
   "cell_type": "markdown",
   "id": "00a1cbcb",
   "metadata": {},
   "source": [
    "### <span style=\"color:darkolivegreen\"> Fórmula de Bhaskara</span>\n"
   ]
  },
  {
   "cell_type": "markdown",
   "id": "8c13bfc5",
   "metadata": {},
   "source": [
    "A solução para uma função de segundo grau depende das suas raízes (valores de x). Como já vimos, os coeficientes\n",
    "precisam ser números reais e o angular diferente de zero. Sendo assim, temos a seguinte fórmula de Bhaskara:"
   ]
  },
  {
   "cell_type": "markdown",
   "id": "cdf1bdb3",
   "metadata": {},
   "source": [
    " $$\\Large X = \\LARGE\\frac {– b  ±  \\sqrt{b^2} – 4.a.c}{2.a}$$\n",
    " \n",
    " \n",
    "<br><center>Fórmula de Bhaskara</center>\n",
    "\n"
   ]
  },
  {
   "cell_type": "markdown",
   "id": "baa757f5",
   "metadata": {},
   "source": [
    "Para melhor compreensão o seu calculo é dividido em duas partes: discriminante da equação e operações para\n",
    "determinar as raizes."
   ]
  },
  {
   "cell_type": "markdown",
   "id": "3c80d638",
   "metadata": {},
   "source": [
    "**Discriminante**"
   ]
  },
  {
   "cell_type": "markdown",
   "id": "a5f2ae21",
   "metadata": {},
   "source": [
    "A figura dentro da raiz na fórmula de Bhaskara é nomeada discriminante. Seu símbolo é a letra grega delta e apresenta a determinada fórmula:\n",
    "\n"
   ]
  },
  {
   "cell_type": "markdown",
   "id": "678d33e6",
   "metadata": {},
   "source": [
    "$$\\huge\\Delta \\LARGE= {b^2} – 4.a.c $$\n",
    "\n",
    "<br><center>Fórmula da Discriminante</center>"
   ]
  },
  {
   "cell_type": "markdown",
   "id": "3ee015cd",
   "metadata": {},
   "source": [
    "- Se o delta for maior que zero, a equação terá dois valores reais e distintos.\n",
    "- Se o delta for igual a zero, a equação terá somente um valor real ou dois resultados iguais.\n",
    "- Se o delta for menor que zero, a equação não possuirá valores reais."
   ]
  }
 ],
 "metadata": {
  "kernelspec": {
   "display_name": "Python 3 (ipykernel)",
   "language": "python",
   "name": "python3"
  },
  "language_info": {
   "codemirror_mode": {
    "name": "ipython",
    "version": 3
   },
   "file_extension": ".py",
   "mimetype": "text/x-python",
   "name": "python",
   "nbconvert_exporter": "python",
   "pygments_lexer": "ipython3",
   "version": "3.9.13"
  }
 },
 "nbformat": 4,
 "nbformat_minor": 5
}
