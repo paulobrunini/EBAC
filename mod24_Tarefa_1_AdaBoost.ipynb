{
 "cells": [
  {
   "cell_type": "markdown",
   "id": "2eec78fd",
   "metadata": {},
   "source": [
    "### Tarefa 1\n",
    "#### 1. Cite 5 diferenças entre o Random Forest e o AdaBoost"
   ]
  },
  {
   "cell_type": "markdown",
   "id": "d919a195",
   "metadata": {},
   "source": [
    "<span style=\"color: limegreen;\">\n",
    "1.Algoritmo Base:<br>\n",
    "Random Forest: Usa múltiplas árvores de decisão independentes.<br>\n",
    "AdaBoost: Usa um único algoritmo base, geralmente árvores de decisão fracas.<br>\n",
    "    \n",
    "2.Peso das Instâncias:<br>\n",
    "Random Forest: Não atribui pesos diferentes às instâncias.<br>\n",
    "AdaBoost: Atribui pesos maiores às instâncias classificadas incorretamente.\n",
    "    \n",
    "3.Ponderação das Árvores:<br>\n",
    "Random Forest: Cada árvore tem peso igual na decisão final.<br>\n",
    "AdaBoost: As árvores são ponderadas de acordo com o desempenho.\n",
    "\n",
    "4.Forma de Agregação:<br>\n",
    "Random Forest: Usa votação majoritária das árvores.<br>\n",
    "AdaBoost: Combina as previsões das árvores com base em seus pesos.\n",
    "\n",
    "5.Sensibilidade ao Ruído:<br>\n",
    "Random Forest: Menos sensível a dados ruidosos e outliers.<br>\n",
    "AdaBoost: Pode ser sensível a dados ruidosos devido à atualização iterativa.\n",
    "\n",
    "</span>\n"
   ]
  },
  {
   "cell_type": "markdown",
   "id": "f20a6b5a",
   "metadata": {},
   "source": [
    "#### 2. Acesse o link Scikit-learn – adaboost, leia a explicação (traduza se for preciso) e crie um jupyter notebook contendo o exemplo do AdaBoost."
   ]
  },
  {
   "cell_type": "code",
   "execution_count": 1,
   "id": "bfd3aa66",
   "metadata": {},
   "outputs": [
    {
     "data": {
      "text/plain": [
       "0.9466666666666665"
      ]
     },
     "execution_count": 1,
     "metadata": {},
     "output_type": "execute_result"
    }
   ],
   "source": [
    ">>> from sklearn.model_selection import cross_val_score\n",
    ">>> from sklearn.datasets import load_iris\n",
    ">>> from sklearn.ensemble import AdaBoostClassifier\n",
    "\n",
    ">>> X, y = load_iris(return_X_y=True)\n",
    ">>> clf = AdaBoostClassifier(n_estimators=100)\n",
    ">>> scores = cross_val_score(clf, X, y, cv=5)\n",
    ">>> scores.mean()"
   ]
  },
  {
   "cell_type": "markdown",
   "id": "288aed05",
   "metadata": {},
   "source": [
    "#### 3. Cite 5 Hyperparametros importantes no AdaBoost."
   ]
  },
  {
   "cell_type": "markdown",
   "id": "b36a15a6",
   "metadata": {},
   "source": [
    "<span style=\"color: limegreen;\">1. **n_estimators:** Número de estimadores  a serem criados.<br>\n",
    "2. **learning_rate:** Taxa de aprendizado que controla a contribuição de cada classificador fraco.<br>\n",
    "3. **estimator:** O tipo de estimador fraco a ser utilizado.<br>\n",
    "4. **algorithm:** Algoritmo para o boosting.<br>\n",
    "5. **random_state:** Semente para controle de aleatoriedade durante o treinamento.</span>\n"
   ]
  },
  {
   "cell_type": "markdown",
   "id": "3f19257e",
   "metadata": {},
   "source": [
    "#### 4. (Opcional) Utilize o GridSearch para encontrar os melhores hyperparametros para o conjunto de dados do exemplo (load_iris)"
   ]
  },
  {
   "cell_type": "code",
   "execution_count": 6,
   "id": "0460cdd7",
   "metadata": {},
   "outputs": [
    {
     "name": "stdout",
     "output_type": "stream",
     "text": [
      "Melhores hiperparâmetros encontrados:\n",
      "{'algorithm': 'SAMME', 'estimator': DecisionTreeClassifier(max_depth=2), 'learning_rate': 1.0, 'n_estimators': 100}\n",
      "CPU times: user 47.2 s, sys: 281 ms, total: 47.5 s\n",
      "Wall time: 47.6 s\n"
     ]
    }
   ],
   "source": [
    "%%time\n",
    "from sklearn.model_selection import GridSearchCV\n",
    "from sklearn.tree import DecisionTreeClassifier\n",
    "\n",
    "# Carregando o conjunto de dados\n",
    "X, y = load_iris(return_X_y=True)\n",
    "\n",
    "# Definindo os valores possíveis para os hiperparâmetros\n",
    "param_grid = {\n",
    "    'n_estimators': [50, 100, 150],\n",
    "    'learning_rate': [0.01, 0.1, 1.0],\n",
    "    'estimator': [None, DecisionTreeClassifier(max_depth=1), DecisionTreeClassifier(max_depth=2)],\n",
    "    'algorithm': ['SAMME', 'SAMME.R']}\n",
    "\n",
    "# Criando o modelo de classificação\n",
    "clf = AdaBoostClassifier()\n",
    "\n",
    "# Realizando a busca em grid\n",
    "grid_search = GridSearchCV(clf, param_grid, cv=5)\n",
    "grid_search.fit(X, y)\n",
    "\n",
    "# Imprimindo os melhores hiperparâmetros encontrados\n",
    "print(\"Melhores hiperparâmetros encontrados:\")\n",
    "print(grid_search.best_params_)"
   ]
  }
 ],
 "metadata": {
  "kernelspec": {
   "display_name": "Python 3 (ipykernel)",
   "language": "python",
   "name": "python3"
  },
  "language_info": {
   "codemirror_mode": {
    "name": "ipython",
    "version": 3
   },
   "file_extension": ".py",
   "mimetype": "text/x-python",
   "name": "python",
   "nbconvert_exporter": "python",
   "pygments_lexer": "ipython3",
   "version": "3.9.13"
  }
 },
 "nbformat": 4,
 "nbformat_minor": 5
}
