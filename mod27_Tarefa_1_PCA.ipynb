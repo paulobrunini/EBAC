{
 "cells": [
  {
   "cell_type": "markdown",
   "metadata": {},
   "source": [
    "![Cabec%CC%A7alho_notebook.png](cabecalho_notebook.png)"
   ]
  },
  {
   "cell_type": "markdown",
   "metadata": {},
   "source": [
    "# PCA - Tarefa 01: *HAR* com PCA\n",
    "\n",
    "Vamos trabalhar com a base da demonstração feita em aula, mas vamos explorar um pouco melhor como é o desempenho da árvore variando o número de componentes principais."
   ]
  },
  {
   "cell_type": "code",
   "execution_count": 1,
   "metadata": {},
   "outputs": [],
   "source": [
    "import pandas as pd\n",
    "\n",
    "from sklearn.tree import DecisionTreeClassifier\n",
    "\n",
    "from sklearn.decomposition import PCA\n",
    "from sklearn.metrics import accuracy_score\n",
    "from sklearn.model_selection import cross_val_score\n",
    "import time\n",
    "\n",
    "filename_features = \"UCI HAR Dataset/features.txt\"\n",
    "filename_labels = \"UCI HAR Dataset/activity_labels.txt\"\n",
    "\n",
    "filename_subtrain = \"UCI HAR Dataset/train/subject_train.txt\"\n",
    "filename_xtrain = \"UCI HAR Dataset/train/X_train.txt\"\n",
    "filename_ytrain = \"UCI HAR Dataset/train/y_train.txt\"\n",
    "\n",
    "filename_subtest = \"UCI HAR Dataset/test/subject_test.txt\"\n",
    "ffilename_xtest = \"UCI HAR Dataset/test/X_test.txt\"\n",
    "filename_ytest = \"UCI HAR Dataset/test/y_test.txt\"\n",
    "\n",
    "features = pd.read_csv(filename_features, header=None, names=['nome_var'], sep=\"#\").squeeze(\"columns\")\n",
    "labels = pd.read_csv(filename_labels, delim_whitespace=True, header=None, names=['cod_label', 'label'])\n",
    "\n",
    "subject_train = pd.read_csv(filename_subtrain, header=None, names=['subject_id']).squeeze(\"columns\")\n",
    "X_train = pd.read_csv(filename_xtrain, delim_whitespace=True, header=None, names=features.tolist())\n",
    "y_train = pd.read_csv(filename_ytrain, header=None, names=['cod_label'])\n",
    "\n",
    "subject_test = pd.read_csv(filename_subtest, header=None, names=['subject_id']).squeeze(\"columns\")\n",
    "X_test = pd.read_csv(ffilename_xtest, delim_whitespace=True, header=None, names=features.tolist())\n",
    "y_test = pd.read_csv(filename_ytest, header=None, names=['cod_label'])"
   ]
  },
  {
   "cell_type": "markdown",
   "metadata": {},
   "source": [
    "## Árvore de decisão\n",
    "\n",
    "Rode uma árvore de decisão com todas as variáveis, utilizando o ```ccp_alpha=0.001```. Avalie a acurácia nas bases de treinamento e teste. Avalie o tempo de processamento."
   ]
  },
  {
   "cell_type": "code",
   "execution_count": 2,
   "metadata": {},
   "outputs": [
    {
     "name": "stdout",
     "output_type": "stream",
     "text": [
      "Acurácia da árvore na base de treino:97.58\n",
      "Acurácia da árvore na base de teste: 88.02\n",
      "CPU times: user 5.47 s, sys: 27.5 ms, total: 5.5 s\n",
      "Wall time: 5.51 s\n"
     ]
    }
   ],
   "source": [
    "%%time\n",
    "# Criando o modelo de Árvore de Decisão com ccp_alpha=0.001\n",
    "clf = DecisionTreeClassifier(random_state=23, ccp_alpha=0.001).fit(X_train, y_train)\n",
    "\n",
    "# Calculando a acurácia nos dados de treinamento e teste\n",
    "train_score = clf.score(X_train, y_train)\n",
    "test_score = clf.score(X_test, y_test)\n",
    "\n",
    "print(f'Acurácia da árvore na base de treino:{train_score*100:.2f}')\n",
    "print(f'Acurácia da árvore na base de teste: {test_score*100:.2f}')"
   ]
  },
  {
   "cell_type": "markdown",
   "metadata": {},
   "source": [
    "## Árvore com PCA\n",
    "\n",
    "Faça uma análise de componemtes principais das variáveis originais. Utilize apenas uma componente. Faça uma árvore de decisão com esta componente como variável explicativa.\n",
    "\n",
    "- Avalie a acurácia nas bases de treinamento e teste\n",
    "- Avalie o tempo de processamento"
   ]
  },
  {
   "cell_type": "code",
   "execution_count": 3,
   "metadata": {},
   "outputs": [
    {
     "name": "stdout",
     "output_type": "stream",
     "text": [
      "Acurácia da árvore com PCA na base de treino: 49.97\n",
      "Acurácia da árvore com PCA na base de teste: 45.71\n",
      "CPU times: user 742 ms, sys: 80.5 ms, total: 822 ms\n",
      "Wall time: 236 ms\n"
     ]
    }
   ],
   "source": [
    "%%time\n",
    "# Aplicando o PCA com apenas uma componente principal\n",
    "pca = PCA(n_components=1).fit(X_train)\n",
    "X_train_pca = pca.transform(X_train)\n",
    "X_test_pca = pca.transform(X_test)\n",
    "\n",
    "# Criando o modelo de Árvore de Decisão com a componente principal do PCA\n",
    "clf_pca = DecisionTreeClassifier(random_state=23, ccp_alpha=0.001).fit(X_train_pca, y_train)\n",
    "\n",
    "# Calculando a acurácia nos dados de treinamento e teste\n",
    "train_score_pca = clf_pca.score(X_train_pca, y_train)\n",
    "test_score_pca = clf_pca.score(X_test_pca, y_test)\n",
    "\n",
    "print(f'Acurácia da árvore com PCA na base de treino: {train_score_pca*100:.2f}')\n",
    "print(f'Acurácia da árvore com PCA na base de teste: {test_score_pca*100:.2f}')"
   ]
  },
  {
   "cell_type": "markdown",
   "metadata": {},
   "source": [
    "## Testando o número de componentes\n",
    "\n",
    "Com base no código acima, teste a árvore de classificação com pelo menos as seguintes possibilidades de quantidades de componentes: ```[1, 2, 5, 10, 50]```. Avalie para cada uma delas:\n",
    "\n",
    "- Acurácia nas bases de treino e teste\n",
    "- Tempo de processamento\n"
   ]
  },
  {
   "cell_type": "code",
   "execution_count": 4,
   "metadata": {},
   "outputs": [
    {
     "name": "stdout",
     "output_type": "stream",
     "text": [
      "Número de Componentes: 1\n",
      "Acurácia da árvore com PCA na base de treino: 49.97\n",
      "Acurácia da árvore com PCA na base de teste: 45.71\n",
      "Tempo de processamento: 0.0641 segundos\n",
      "\n",
      "Número de Componentes: 2\n",
      "Acurácia da árvore com PCA na base de treino: 61.28\n",
      "Acurácia da árvore com PCA na base de teste: 58.47\n",
      "Tempo de processamento: 0.0545 segundos\n",
      "\n",
      "Número de Componentes: 5\n",
      "Acurácia da árvore com PCA na base de treino: 84.60\n",
      "Acurácia da árvore com PCA na base de teste: 78.89\n",
      "Tempo de processamento: 0.0663 segundos\n",
      "\n",
      "Número de Componentes: 10\n",
      "Acurácia da árvore com PCA na base de treino: 89.27\n",
      "Acurácia da árvore com PCA na base de teste: 82.39\n",
      "Tempo de processamento: 0.1334 segundos\n",
      "\n",
      "Número de Componentes: 50\n",
      "Acurácia da árvore com PCA na base de treino: 92.07\n",
      "Acurácia da árvore com PCA na base de teste: 83.31\n",
      "Tempo de processamento: 0.7012 segundos\n",
      "\n",
      "CPU times: user 5.54 s, sys: 460 ms, total: 6 s\n",
      "Wall time: 2.08 s\n"
     ]
    }
   ],
   "source": [
    "%%time\n",
    "\n",
    "# Lista de possibilidades de quantidades de componentes\n",
    "lista = [1, 2, 5, 10, 50]\n",
    "\n",
    "for n in lista:\n",
    "    print(f\"Número de Componentes: {n}\")\n",
    "    \n",
    "    # Aplicando o PCA com o número de componentes escolhido\n",
    "    pca = PCA(n_components=n).fit(X_train)\n",
    "    X_train_pca = pca.transform(X_train)\n",
    "    X_test_pca = pca.transform(X_test)\n",
    "    \n",
    "    # Criando o modelo de Árvore de Decisão\n",
    "    clf_pca = DecisionTreeClassifier(random_state=23, ccp_alpha=0.001)\n",
    "    \n",
    "    # Medindo o tempo de processamento\n",
    "    start_time = time.time()\n",
    "    \n",
    "    # Treinando o modelo\n",
    "    clf_pca.fit(X_train_pca, y_train)\n",
    "    \n",
    "    # Calculando a acurácia nos dados de treinamento e teste\n",
    "    train_score_pca = clf_pca.score(X_train_pca, y_train)\n",
    "    test_score_pca = clf_pca.score(X_test_pca, y_test)\n",
    "    \n",
    "    # Calculando o tempo de processamento\n",
    "    end_time = time.time()\n",
    "    processing_time = end_time - start_time\n",
    "    \n",
    "    print(f'Acurácia da árvore com PCA na base de treino: {train_score_pca*100:.2f}')\n",
    "    print(f'Acurácia da árvore com PCA na base de teste: {test_score_pca*100:.2f}')\n",
    "    print(f'Tempo de processamento: {processing_time:.4f} segundos')\n",
    "    print()\n"
   ]
  },
  {
   "cell_type": "markdown",
   "metadata": {},
   "source": [
    "## Conclua\n",
    "\n",
    "- O que aconteceu com a acurácia?"
   ]
  },
  {
   "cell_type": "markdown",
   "metadata": {},
   "source": [
    "<span style=\"color: darkolivegreen;\">Conforme o número de componentes principais aumenta, a acurácia da árvore de decisão com PCA aumenta tanto na base de treino quanto na base de teste. Isso já era esperado, porque quanto mais variáveis são utilizadas para a modelagem, o modelo tem mais chance de fazer previsões precisas.</span>"
   ]
  },
  {
   "cell_type": "markdown",
   "metadata": {},
   "source": [
    "- O que aconteceu com o tempo de processamento?"
   ]
  },
  {
   "cell_type": "markdown",
   "metadata": {},
   "source": [
    "<span style=\"color: darkolivegreen;\">Conforme o número de componentes aumenta, o tempo de processamento também aumenta. Isso ocorre porque, com mais componentes, a complexidade do modelo aumenta, e a árvore de decisão com PCA precisa fazer mais cálculos durante o treinamento e previsões.</span>"
   ]
  }
 ],
 "metadata": {
  "kernelspec": {
   "display_name": "Python 3 (ipykernel)",
   "language": "python",
   "name": "python3"
  },
  "language_info": {
   "codemirror_mode": {
    "name": "ipython",
    "version": 3
   },
   "file_extension": ".py",
   "mimetype": "text/x-python",
   "name": "python",
   "nbconvert_exporter": "python",
   "pygments_lexer": "ipython3",
   "version": "3.9.13"
  },
  "toc": {
   "base_numbering": 1,
   "nav_menu": {},
   "number_sections": true,
   "sideBar": true,
   "skip_h1_title": true,
   "title_cell": "Índice",
   "title_sidebar": "Conteúdo",
   "toc_cell": false,
   "toc_position": {},
   "toc_section_display": true,
   "toc_window_display": false
  },
  "varInspector": {
   "cols": {
    "lenName": 16,
    "lenType": 16,
    "lenVar": 40
   },
   "kernels_config": {
    "python": {
     "delete_cmd_postfix": "",
     "delete_cmd_prefix": "del ",
     "library": "var_list.py",
     "varRefreshCmd": "print(var_dic_list())"
    },
    "r": {
     "delete_cmd_postfix": ") ",
     "delete_cmd_prefix": "rm(",
     "library": "var_list.r",
     "varRefreshCmd": "cat(var_dic_list()) "
    }
   },
   "types_to_exclude": [
    "module",
    "function",
    "builtin_function_or_method",
    "instance",
    "_Feature"
   ],
   "window_display": false
  }
 },
 "nbformat": 4,
 "nbformat_minor": 4
}
