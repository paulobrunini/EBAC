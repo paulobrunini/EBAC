{
 "cells": [
  {
   "cell_type": "markdown",
   "metadata": {
    "colab_type": "text",
    "id": "Y57RMM1LEQmR"
   },
   "source": [
    "#  <span style=\"color:orange\">Pycaret usando a base de dados do projeto</span>"
   ]
  },
  {
   "cell_type": "markdown",
   "metadata": {
    "colab_type": "text",
    "id": "Ui_rALqYEQmv"
   },
   "source": [
    "# Carregando os dados"
   ]
  },
  {
   "cell_type": "code",
   "execution_count": 5,
   "metadata": {
    "colab": {
     "base_uri": "https://localhost:8080/",
     "height": 211
    },
    "colab_type": "code",
    "id": "lUvE187JEQm3",
    "outputId": "8741262c-0e33-4ec0-b54d-3c8fb41e52c0"
   },
   "outputs": [],
   "source": [
    "import pandas as pd\n",
    "df = pd.read_feather('credit_scoring.ftr')"
   ]
  },
  {
   "cell_type": "code",
   "execution_count": 6,
   "metadata": {
    "colab": {
     "base_uri": "https://localhost:8080/",
     "height": 33
    },
    "colab_type": "code",
    "id": "kMqDGBkJEQnN",
    "outputId": "b2015b7a-4c1a-4377-d9cf-3e9ac5ce3ea2"
   },
   "outputs": [
    {
     "data": {
      "text/plain": [
       "(750000, 15)"
      ]
     },
     "execution_count": 6,
     "metadata": {},
     "output_type": "execute_result"
    }
   ],
   "source": [
    "df.shape"
   ]
  },
  {
   "cell_type": "code",
   "execution_count": 7,
   "metadata": {},
   "outputs": [
    {
     "data": {
      "text/plain": [
       "Index(['data_ref', 'index', 'sexo', 'posse_de_veiculo', 'posse_de_imovel',\n",
       "       'qtd_filhos', 'tipo_renda', 'educacao', 'estado_civil',\n",
       "       'tipo_residencia', 'idade', 'tempo_emprego', 'qt_pessoas_residencia',\n",
       "       'renda', 'mau'],\n",
       "      dtype='object')"
      ]
     },
     "execution_count": 7,
     "metadata": {},
     "output_type": "execute_result"
    }
   ],
   "source": [
    "df.columns"
   ]
  },
  {
   "cell_type": "code",
   "execution_count": 8,
   "metadata": {},
   "outputs": [],
   "source": [
    "dataset = df.sample(50000)"
   ]
  },
  {
   "cell_type": "code",
   "execution_count": 9,
   "metadata": {},
   "outputs": [],
   "source": [
    "dataset.drop(['data_ref','index'], axis=1, inplace=True)"
   ]
  },
  {
   "cell_type": "code",
   "execution_count": 11,
   "metadata": {},
   "outputs": [
    {
     "name": "stdout",
     "output_type": "stream",
     "text": [
      "Conjunto de dados para modelagem (treino e teste): (47500, 13)\n",
      "Conjunto de dados não usados no treino/teste, apenas como validação: (2500, 13)\n"
     ]
    }
   ],
   "source": [
    "data = dataset.sample(frac=0.95, random_state=786)\n",
    "data_unseen = dataset.drop(data.index)\n",
    "data.reset_index(inplace=True, drop=True)\n",
    "data_unseen.reset_index(inplace=True, drop=True)\n",
    "print('Conjunto de dados para modelagem (treino e teste): ' + str(data.shape))\n",
    "print('Conjunto de dados não usados no treino/teste, apenas como validação: ' + str(data_unseen.shape))"
   ]
  },
  {
   "cell_type": "code",
   "execution_count": 12,
   "metadata": {
    "colab": {},
    "colab_type": "code",
    "id": "BOmRR0deEQoA"
   },
   "outputs": [
    {
     "name": "stderr",
     "output_type": "stream",
     "text": [
      "C:\\Users\\lucas_000\\anaconda3\\lib\\site-packages\\dask\\dataframe\\utils.py:367: FutureWarning: pandas.Int64Index is deprecated and will be removed from pandas in a future version. Use pandas.Index with the appropriate dtype instead.\n",
      "  _numeric_index_types = (pd.Int64Index, pd.Float64Index, pd.UInt64Index)\n",
      "C:\\Users\\lucas_000\\anaconda3\\lib\\site-packages\\dask\\dataframe\\utils.py:367: FutureWarning: pandas.Float64Index is deprecated and will be removed from pandas in a future version. Use pandas.Index with the appropriate dtype instead.\n",
      "  _numeric_index_types = (pd.Int64Index, pd.Float64Index, pd.UInt64Index)\n",
      "C:\\Users\\lucas_000\\anaconda3\\lib\\site-packages\\dask\\dataframe\\utils.py:367: FutureWarning: pandas.UInt64Index is deprecated and will be removed from pandas in a future version. Use pandas.Index with the appropriate dtype instead.\n",
      "  _numeric_index_types = (pd.Int64Index, pd.Float64Index, pd.UInt64Index)\n"
     ]
    }
   ],
   "source": [
    "from pycaret.classification import *"
   ]
  },
  {
   "cell_type": "markdown",
   "metadata": {},
   "source": [
    "# Configurando o pycaret"
   ]
  },
  {
   "cell_type": "code",
   "execution_count": 13,
   "metadata": {
    "colab": {
     "base_uri": "https://localhost:8080/",
     "height": 803
    },
    "colab_type": "code",
    "id": "k2IuvfDHEQoO",
    "outputId": "c7754ae9-b060-4218-b6f0-de65a815aa3a",
    "scrolled": false
   },
   "outputs": [
    {
     "data": {
      "application/vnd.jupyter.widget-view+json": {
       "model_id": "80cb5df624134319a9970688863ead7c",
       "version_major": 2,
       "version_minor": 0
      },
      "text/plain": [
       "IntProgress(value=0, description='Processing: ', max=3)"
      ]
     },
     "metadata": {},
     "output_type": "display_data"
    },
    {
     "data": {
      "text/html": [
       "<div>\n",
       "<style scoped>\n",
       "    .dataframe tbody tr th:only-of-type {\n",
       "        vertical-align: middle;\n",
       "    }\n",
       "\n",
       "    .dataframe tbody tr th {\n",
       "        vertical-align: top;\n",
       "    }\n",
       "\n",
       "    .dataframe thead th {\n",
       "        text-align: right;\n",
       "    }\n",
       "</style>\n",
       "<table border=\"1\" class=\"dataframe\">\n",
       "  <thead>\n",
       "    <tr style=\"text-align: right;\">\n",
       "      <th></th>\n",
       "      <th></th>\n",
       "      <th></th>\n",
       "    </tr>\n",
       "    <tr>\n",
       "      <th></th>\n",
       "      <th></th>\n",
       "      <th></th>\n",
       "    </tr>\n",
       "  </thead>\n",
       "  <tbody>\n",
       "    <tr>\n",
       "      <th>Initiated</th>\n",
       "      <td>. . . . . . . . . . . . . . . . . .</td>\n",
       "      <td>23:02:49</td>\n",
       "    </tr>\n",
       "    <tr>\n",
       "      <th>Status</th>\n",
       "      <td>. . . . . . . . . . . . . . . . . .</td>\n",
       "      <td>Compiling Final Models</td>\n",
       "    </tr>\n",
       "    <tr>\n",
       "      <th>Estimator</th>\n",
       "      <td>. . . . . . . . . . . . . . . . . .</td>\n",
       "      <td>Ada Boost Classifier</td>\n",
       "    </tr>\n",
       "  </tbody>\n",
       "</table>\n",
       "</div>"
      ],
      "text/plain": [
       "                                                                      \n",
       "                                                                      \n",
       "Initiated  . . . . . . . . . . . . . . . . . .                23:02:49\n",
       "Status     . . . . . . . . . . . . . . . . . .  Compiling Final Models\n",
       "Estimator  . . . . . . . . . . . . . . . . . .    Ada Boost Classifier"
      ]
     },
     "metadata": {},
     "output_type": "display_data"
    },
    {
     "data": {
      "application/vnd.jupyter.widget-view+json": {
       "model_id": "132826e782094ad78a6d83c20267f135",
       "version_major": 2,
       "version_minor": 0
      },
      "text/plain": [
       "Text(value=\"Following data types have been inferred automatically, if they are correct press enter to continue…"
      ]
     },
     "metadata": {},
     "output_type": "display_data"
    },
    {
     "data": {
      "text/html": [
       "<div>\n",
       "<style scoped>\n",
       "    .dataframe tbody tr th:only-of-type {\n",
       "        vertical-align: middle;\n",
       "    }\n",
       "\n",
       "    .dataframe tbody tr th {\n",
       "        vertical-align: top;\n",
       "    }\n",
       "\n",
       "    .dataframe thead th {\n",
       "        text-align: right;\n",
       "    }\n",
       "</style>\n",
       "<table border=\"1\" class=\"dataframe\">\n",
       "  <thead>\n",
       "    <tr style=\"text-align: right;\">\n",
       "      <th></th>\n",
       "      <th>Data Type</th>\n",
       "    </tr>\n",
       "  </thead>\n",
       "  <tbody>\n",
       "    <tr>\n",
       "      <th>sexo</th>\n",
       "      <td>Categorical</td>\n",
       "    </tr>\n",
       "    <tr>\n",
       "      <th>posse_de_veiculo</th>\n",
       "      <td>Categorical</td>\n",
       "    </tr>\n",
       "    <tr>\n",
       "      <th>posse_de_imovel</th>\n",
       "      <td>Categorical</td>\n",
       "    </tr>\n",
       "    <tr>\n",
       "      <th>qtd_filhos</th>\n",
       "      <td>Categorical</td>\n",
       "    </tr>\n",
       "    <tr>\n",
       "      <th>tipo_renda</th>\n",
       "      <td>Categorical</td>\n",
       "    </tr>\n",
       "    <tr>\n",
       "      <th>educacao</th>\n",
       "      <td>Categorical</td>\n",
       "    </tr>\n",
       "    <tr>\n",
       "      <th>estado_civil</th>\n",
       "      <td>Categorical</td>\n",
       "    </tr>\n",
       "    <tr>\n",
       "      <th>tipo_residencia</th>\n",
       "      <td>Categorical</td>\n",
       "    </tr>\n",
       "    <tr>\n",
       "      <th>idade</th>\n",
       "      <td>Numeric</td>\n",
       "    </tr>\n",
       "    <tr>\n",
       "      <th>tempo_emprego</th>\n",
       "      <td>Numeric</td>\n",
       "    </tr>\n",
       "    <tr>\n",
       "      <th>qt_pessoas_residencia</th>\n",
       "      <td>Numeric</td>\n",
       "    </tr>\n",
       "    <tr>\n",
       "      <th>renda</th>\n",
       "      <td>Numeric</td>\n",
       "    </tr>\n",
       "    <tr>\n",
       "      <th>mau</th>\n",
       "      <td>Label</td>\n",
       "    </tr>\n",
       "  </tbody>\n",
       "</table>\n",
       "</div>"
      ],
      "text/plain": [
       "                         Data Type\n",
       "sexo                   Categorical\n",
       "posse_de_veiculo       Categorical\n",
       "posse_de_imovel        Categorical\n",
       "qtd_filhos             Categorical\n",
       "tipo_renda             Categorical\n",
       "educacao               Categorical\n",
       "estado_civil           Categorical\n",
       "tipo_residencia        Categorical\n",
       "idade                      Numeric\n",
       "tempo_emprego              Numeric\n",
       "qt_pessoas_residencia      Numeric\n",
       "renda                      Numeric\n",
       "mau                          Label"
      ]
     },
     "metadata": {},
     "output_type": "display_data"
    },
    {
     "name": "stdout",
     "output_type": "stream",
     "text": [
      "quit\n"
     ]
    },
    {
     "ename": "SystemExit",
     "evalue": "Read the documentation of setup to learn how to overwrite data types over the inferred types. setup function must run again before you continue modeling.",
     "output_type": "error",
     "traceback": [
      "An exception has occurred, use %tb to see the full traceback.\n",
      "\u001b[1;31mSystemExit\u001b[0m\u001b[1;31m:\u001b[0m Read the documentation of setup to learn how to overwrite data types over the inferred types. setup function must run again before you continue modeling.\n"
     ]
    }
   ],
   "source": [
    "exp_clf101 = setup(data = data, target = 'mau', session_id=123) "
   ]
  },
  {
   "cell_type": "code",
   "execution_count": 14,
   "metadata": {},
   "outputs": [
    {
     "data": {
      "text/plain": [
       "sexo                      object\n",
       "posse_de_veiculo          object\n",
       "posse_de_imovel           object\n",
       "qtd_filhos                 int64\n",
       "tipo_renda                object\n",
       "educacao                  object\n",
       "estado_civil              object\n",
       "tipo_residencia           object\n",
       "idade                      int64\n",
       "tempo_emprego            float64\n",
       "qt_pessoas_residencia    float64\n",
       "renda                    float64\n",
       "mau                         bool\n",
       "dtype: object"
      ]
     },
     "execution_count": 14,
     "metadata": {},
     "output_type": "execute_result"
    }
   ],
   "source": [
    "data.dtypes"
   ]
  },
  {
   "cell_type": "code",
   "execution_count": 15,
   "metadata": {},
   "outputs": [],
   "source": [
    "#forçando a variável qnt de filhos como numérica\n",
    "data.qtd_filhos = data.qtd_filhos.astype(float)"
   ]
  },
  {
   "cell_type": "code",
   "execution_count": 16,
   "metadata": {},
   "outputs": [
    {
     "data": {
      "text/html": [
       "<style type=\"text/css\">\n",
       "#T_01dfc_row5_col1, #T_01dfc_row44_col1 {\n",
       "  background-color: lightgreen;\n",
       "}\n",
       "</style>\n",
       "<table id=\"T_01dfc\">\n",
       "  <thead>\n",
       "    <tr>\n",
       "      <th class=\"blank level0\" >&nbsp;</th>\n",
       "      <th id=\"T_01dfc_level0_col0\" class=\"col_heading level0 col0\" >Description</th>\n",
       "      <th id=\"T_01dfc_level0_col1\" class=\"col_heading level0 col1\" >Value</th>\n",
       "    </tr>\n",
       "  </thead>\n",
       "  <tbody>\n",
       "    <tr>\n",
       "      <th id=\"T_01dfc_level0_row0\" class=\"row_heading level0 row0\" >0</th>\n",
       "      <td id=\"T_01dfc_row0_col0\" class=\"data row0 col0\" >session_id</td>\n",
       "      <td id=\"T_01dfc_row0_col1\" class=\"data row0 col1\" >123</td>\n",
       "    </tr>\n",
       "    <tr>\n",
       "      <th id=\"T_01dfc_level0_row1\" class=\"row_heading level0 row1\" >1</th>\n",
       "      <td id=\"T_01dfc_row1_col0\" class=\"data row1 col0\" >Target</td>\n",
       "      <td id=\"T_01dfc_row1_col1\" class=\"data row1 col1\" >mau</td>\n",
       "    </tr>\n",
       "    <tr>\n",
       "      <th id=\"T_01dfc_level0_row2\" class=\"row_heading level0 row2\" >2</th>\n",
       "      <td id=\"T_01dfc_row2_col0\" class=\"data row2 col0\" >Target Type</td>\n",
       "      <td id=\"T_01dfc_row2_col1\" class=\"data row2 col1\" >Binary</td>\n",
       "    </tr>\n",
       "    <tr>\n",
       "      <th id=\"T_01dfc_level0_row3\" class=\"row_heading level0 row3\" >3</th>\n",
       "      <td id=\"T_01dfc_row3_col0\" class=\"data row3 col0\" >Label Encoded</td>\n",
       "      <td id=\"T_01dfc_row3_col1\" class=\"data row3 col1\" >False: 0, True: 1</td>\n",
       "    </tr>\n",
       "    <tr>\n",
       "      <th id=\"T_01dfc_level0_row4\" class=\"row_heading level0 row4\" >4</th>\n",
       "      <td id=\"T_01dfc_row4_col0\" class=\"data row4 col0\" >Original Data</td>\n",
       "      <td id=\"T_01dfc_row4_col1\" class=\"data row4 col1\" >(47500, 13)</td>\n",
       "    </tr>\n",
       "    <tr>\n",
       "      <th id=\"T_01dfc_level0_row5\" class=\"row_heading level0 row5\" >5</th>\n",
       "      <td id=\"T_01dfc_row5_col0\" class=\"data row5 col0\" >Missing Values</td>\n",
       "      <td id=\"T_01dfc_row5_col1\" class=\"data row5 col1\" >1</td>\n",
       "    </tr>\n",
       "    <tr>\n",
       "      <th id=\"T_01dfc_level0_row6\" class=\"row_heading level0 row6\" >6</th>\n",
       "      <td id=\"T_01dfc_row6_col0\" class=\"data row6 col0\" >Numeric Features</td>\n",
       "      <td id=\"T_01dfc_row6_col1\" class=\"data row6 col1\" >5</td>\n",
       "    </tr>\n",
       "    <tr>\n",
       "      <th id=\"T_01dfc_level0_row7\" class=\"row_heading level0 row7\" >7</th>\n",
       "      <td id=\"T_01dfc_row7_col0\" class=\"data row7 col0\" >Categorical Features</td>\n",
       "      <td id=\"T_01dfc_row7_col1\" class=\"data row7 col1\" >7</td>\n",
       "    </tr>\n",
       "    <tr>\n",
       "      <th id=\"T_01dfc_level0_row8\" class=\"row_heading level0 row8\" >8</th>\n",
       "      <td id=\"T_01dfc_row8_col0\" class=\"data row8 col0\" >Ordinal Features</td>\n",
       "      <td id=\"T_01dfc_row8_col1\" class=\"data row8 col1\" >0</td>\n",
       "    </tr>\n",
       "    <tr>\n",
       "      <th id=\"T_01dfc_level0_row9\" class=\"row_heading level0 row9\" >9</th>\n",
       "      <td id=\"T_01dfc_row9_col0\" class=\"data row9 col0\" >High Cardinality Features</td>\n",
       "      <td id=\"T_01dfc_row9_col1\" class=\"data row9 col1\" >0</td>\n",
       "    </tr>\n",
       "    <tr>\n",
       "      <th id=\"T_01dfc_level0_row10\" class=\"row_heading level0 row10\" >10</th>\n",
       "      <td id=\"T_01dfc_row10_col0\" class=\"data row10 col0\" >High Cardinality Method</td>\n",
       "      <td id=\"T_01dfc_row10_col1\" class=\"data row10 col1\" >None</td>\n",
       "    </tr>\n",
       "    <tr>\n",
       "      <th id=\"T_01dfc_level0_row11\" class=\"row_heading level0 row11\" >11</th>\n",
       "      <td id=\"T_01dfc_row11_col0\" class=\"data row11 col0\" >Transformed Train Set</td>\n",
       "      <td id=\"T_01dfc_row11_col1\" class=\"data row11 col1\" >(33249, 29)</td>\n",
       "    </tr>\n",
       "    <tr>\n",
       "      <th id=\"T_01dfc_level0_row12\" class=\"row_heading level0 row12\" >12</th>\n",
       "      <td id=\"T_01dfc_row12_col0\" class=\"data row12 col0\" >Transformed Test Set</td>\n",
       "      <td id=\"T_01dfc_row12_col1\" class=\"data row12 col1\" >(14251, 29)</td>\n",
       "    </tr>\n",
       "    <tr>\n",
       "      <th id=\"T_01dfc_level0_row13\" class=\"row_heading level0 row13\" >13</th>\n",
       "      <td id=\"T_01dfc_row13_col0\" class=\"data row13 col0\" >Shuffle Train-Test</td>\n",
       "      <td id=\"T_01dfc_row13_col1\" class=\"data row13 col1\" >True</td>\n",
       "    </tr>\n",
       "    <tr>\n",
       "      <th id=\"T_01dfc_level0_row14\" class=\"row_heading level0 row14\" >14</th>\n",
       "      <td id=\"T_01dfc_row14_col0\" class=\"data row14 col0\" >Stratify Train-Test</td>\n",
       "      <td id=\"T_01dfc_row14_col1\" class=\"data row14 col1\" >False</td>\n",
       "    </tr>\n",
       "    <tr>\n",
       "      <th id=\"T_01dfc_level0_row15\" class=\"row_heading level0 row15\" >15</th>\n",
       "      <td id=\"T_01dfc_row15_col0\" class=\"data row15 col0\" >Fold Generator</td>\n",
       "      <td id=\"T_01dfc_row15_col1\" class=\"data row15 col1\" >StratifiedKFold</td>\n",
       "    </tr>\n",
       "    <tr>\n",
       "      <th id=\"T_01dfc_level0_row16\" class=\"row_heading level0 row16\" >16</th>\n",
       "      <td id=\"T_01dfc_row16_col0\" class=\"data row16 col0\" >Fold Number</td>\n",
       "      <td id=\"T_01dfc_row16_col1\" class=\"data row16 col1\" >10</td>\n",
       "    </tr>\n",
       "    <tr>\n",
       "      <th id=\"T_01dfc_level0_row17\" class=\"row_heading level0 row17\" >17</th>\n",
       "      <td id=\"T_01dfc_row17_col0\" class=\"data row17 col0\" >CPU Jobs</td>\n",
       "      <td id=\"T_01dfc_row17_col1\" class=\"data row17 col1\" >-1</td>\n",
       "    </tr>\n",
       "    <tr>\n",
       "      <th id=\"T_01dfc_level0_row18\" class=\"row_heading level0 row18\" >18</th>\n",
       "      <td id=\"T_01dfc_row18_col0\" class=\"data row18 col0\" >Use GPU</td>\n",
       "      <td id=\"T_01dfc_row18_col1\" class=\"data row18 col1\" >0</td>\n",
       "    </tr>\n",
       "    <tr>\n",
       "      <th id=\"T_01dfc_level0_row19\" class=\"row_heading level0 row19\" >19</th>\n",
       "      <td id=\"T_01dfc_row19_col0\" class=\"data row19 col0\" >Log Experiment</td>\n",
       "      <td id=\"T_01dfc_row19_col1\" class=\"data row19 col1\" >0</td>\n",
       "    </tr>\n",
       "    <tr>\n",
       "      <th id=\"T_01dfc_level0_row20\" class=\"row_heading level0 row20\" >20</th>\n",
       "      <td id=\"T_01dfc_row20_col0\" class=\"data row20 col0\" >Experiment Name</td>\n",
       "      <td id=\"T_01dfc_row20_col1\" class=\"data row20 col1\" >clf-default-name</td>\n",
       "    </tr>\n",
       "    <tr>\n",
       "      <th id=\"T_01dfc_level0_row21\" class=\"row_heading level0 row21\" >21</th>\n",
       "      <td id=\"T_01dfc_row21_col0\" class=\"data row21 col0\" >USI</td>\n",
       "      <td id=\"T_01dfc_row21_col1\" class=\"data row21 col1\" >3b71</td>\n",
       "    </tr>\n",
       "    <tr>\n",
       "      <th id=\"T_01dfc_level0_row22\" class=\"row_heading level0 row22\" >22</th>\n",
       "      <td id=\"T_01dfc_row22_col0\" class=\"data row22 col0\" >Imputation Type</td>\n",
       "      <td id=\"T_01dfc_row22_col1\" class=\"data row22 col1\" >simple</td>\n",
       "    </tr>\n",
       "    <tr>\n",
       "      <th id=\"T_01dfc_level0_row23\" class=\"row_heading level0 row23\" >23</th>\n",
       "      <td id=\"T_01dfc_row23_col0\" class=\"data row23 col0\" >Iterative Imputation Iteration</td>\n",
       "      <td id=\"T_01dfc_row23_col1\" class=\"data row23 col1\" >None</td>\n",
       "    </tr>\n",
       "    <tr>\n",
       "      <th id=\"T_01dfc_level0_row24\" class=\"row_heading level0 row24\" >24</th>\n",
       "      <td id=\"T_01dfc_row24_col0\" class=\"data row24 col0\" >Numeric Imputer</td>\n",
       "      <td id=\"T_01dfc_row24_col1\" class=\"data row24 col1\" >mean</td>\n",
       "    </tr>\n",
       "    <tr>\n",
       "      <th id=\"T_01dfc_level0_row25\" class=\"row_heading level0 row25\" >25</th>\n",
       "      <td id=\"T_01dfc_row25_col0\" class=\"data row25 col0\" >Iterative Imputation Numeric Model</td>\n",
       "      <td id=\"T_01dfc_row25_col1\" class=\"data row25 col1\" >None</td>\n",
       "    </tr>\n",
       "    <tr>\n",
       "      <th id=\"T_01dfc_level0_row26\" class=\"row_heading level0 row26\" >26</th>\n",
       "      <td id=\"T_01dfc_row26_col0\" class=\"data row26 col0\" >Categorical Imputer</td>\n",
       "      <td id=\"T_01dfc_row26_col1\" class=\"data row26 col1\" >constant</td>\n",
       "    </tr>\n",
       "    <tr>\n",
       "      <th id=\"T_01dfc_level0_row27\" class=\"row_heading level0 row27\" >27</th>\n",
       "      <td id=\"T_01dfc_row27_col0\" class=\"data row27 col0\" >Iterative Imputation Categorical Model</td>\n",
       "      <td id=\"T_01dfc_row27_col1\" class=\"data row27 col1\" >None</td>\n",
       "    </tr>\n",
       "    <tr>\n",
       "      <th id=\"T_01dfc_level0_row28\" class=\"row_heading level0 row28\" >28</th>\n",
       "      <td id=\"T_01dfc_row28_col0\" class=\"data row28 col0\" >Unknown Categoricals Handling</td>\n",
       "      <td id=\"T_01dfc_row28_col1\" class=\"data row28 col1\" >least_frequent</td>\n",
       "    </tr>\n",
       "    <tr>\n",
       "      <th id=\"T_01dfc_level0_row29\" class=\"row_heading level0 row29\" >29</th>\n",
       "      <td id=\"T_01dfc_row29_col0\" class=\"data row29 col0\" >Normalize</td>\n",
       "      <td id=\"T_01dfc_row29_col1\" class=\"data row29 col1\" >0</td>\n",
       "    </tr>\n",
       "    <tr>\n",
       "      <th id=\"T_01dfc_level0_row30\" class=\"row_heading level0 row30\" >30</th>\n",
       "      <td id=\"T_01dfc_row30_col0\" class=\"data row30 col0\" >Normalize Method</td>\n",
       "      <td id=\"T_01dfc_row30_col1\" class=\"data row30 col1\" >None</td>\n",
       "    </tr>\n",
       "    <tr>\n",
       "      <th id=\"T_01dfc_level0_row31\" class=\"row_heading level0 row31\" >31</th>\n",
       "      <td id=\"T_01dfc_row31_col0\" class=\"data row31 col0\" >Transformation</td>\n",
       "      <td id=\"T_01dfc_row31_col1\" class=\"data row31 col1\" >0</td>\n",
       "    </tr>\n",
       "    <tr>\n",
       "      <th id=\"T_01dfc_level0_row32\" class=\"row_heading level0 row32\" >32</th>\n",
       "      <td id=\"T_01dfc_row32_col0\" class=\"data row32 col0\" >Transformation Method</td>\n",
       "      <td id=\"T_01dfc_row32_col1\" class=\"data row32 col1\" >None</td>\n",
       "    </tr>\n",
       "    <tr>\n",
       "      <th id=\"T_01dfc_level0_row33\" class=\"row_heading level0 row33\" >33</th>\n",
       "      <td id=\"T_01dfc_row33_col0\" class=\"data row33 col0\" >PCA</td>\n",
       "      <td id=\"T_01dfc_row33_col1\" class=\"data row33 col1\" >0</td>\n",
       "    </tr>\n",
       "    <tr>\n",
       "      <th id=\"T_01dfc_level0_row34\" class=\"row_heading level0 row34\" >34</th>\n",
       "      <td id=\"T_01dfc_row34_col0\" class=\"data row34 col0\" >PCA Method</td>\n",
       "      <td id=\"T_01dfc_row34_col1\" class=\"data row34 col1\" >None</td>\n",
       "    </tr>\n",
       "    <tr>\n",
       "      <th id=\"T_01dfc_level0_row35\" class=\"row_heading level0 row35\" >35</th>\n",
       "      <td id=\"T_01dfc_row35_col0\" class=\"data row35 col0\" >PCA Components</td>\n",
       "      <td id=\"T_01dfc_row35_col1\" class=\"data row35 col1\" >None</td>\n",
       "    </tr>\n",
       "    <tr>\n",
       "      <th id=\"T_01dfc_level0_row36\" class=\"row_heading level0 row36\" >36</th>\n",
       "      <td id=\"T_01dfc_row36_col0\" class=\"data row36 col0\" >Ignore Low Variance</td>\n",
       "      <td id=\"T_01dfc_row36_col1\" class=\"data row36 col1\" >0</td>\n",
       "    </tr>\n",
       "    <tr>\n",
       "      <th id=\"T_01dfc_level0_row37\" class=\"row_heading level0 row37\" >37</th>\n",
       "      <td id=\"T_01dfc_row37_col0\" class=\"data row37 col0\" >Combine Rare Levels</td>\n",
       "      <td id=\"T_01dfc_row37_col1\" class=\"data row37 col1\" >0</td>\n",
       "    </tr>\n",
       "    <tr>\n",
       "      <th id=\"T_01dfc_level0_row38\" class=\"row_heading level0 row38\" >38</th>\n",
       "      <td id=\"T_01dfc_row38_col0\" class=\"data row38 col0\" >Rare Level Threshold</td>\n",
       "      <td id=\"T_01dfc_row38_col1\" class=\"data row38 col1\" >None</td>\n",
       "    </tr>\n",
       "    <tr>\n",
       "      <th id=\"T_01dfc_level0_row39\" class=\"row_heading level0 row39\" >39</th>\n",
       "      <td id=\"T_01dfc_row39_col0\" class=\"data row39 col0\" >Numeric Binning</td>\n",
       "      <td id=\"T_01dfc_row39_col1\" class=\"data row39 col1\" >0</td>\n",
       "    </tr>\n",
       "    <tr>\n",
       "      <th id=\"T_01dfc_level0_row40\" class=\"row_heading level0 row40\" >40</th>\n",
       "      <td id=\"T_01dfc_row40_col0\" class=\"data row40 col0\" >Remove Outliers</td>\n",
       "      <td id=\"T_01dfc_row40_col1\" class=\"data row40 col1\" >0</td>\n",
       "    </tr>\n",
       "    <tr>\n",
       "      <th id=\"T_01dfc_level0_row41\" class=\"row_heading level0 row41\" >41</th>\n",
       "      <td id=\"T_01dfc_row41_col0\" class=\"data row41 col0\" >Outliers Threshold</td>\n",
       "      <td id=\"T_01dfc_row41_col1\" class=\"data row41 col1\" >None</td>\n",
       "    </tr>\n",
       "    <tr>\n",
       "      <th id=\"T_01dfc_level0_row42\" class=\"row_heading level0 row42\" >42</th>\n",
       "      <td id=\"T_01dfc_row42_col0\" class=\"data row42 col0\" >Remove Multicollinearity</td>\n",
       "      <td id=\"T_01dfc_row42_col1\" class=\"data row42 col1\" >0</td>\n",
       "    </tr>\n",
       "    <tr>\n",
       "      <th id=\"T_01dfc_level0_row43\" class=\"row_heading level0 row43\" >43</th>\n",
       "      <td id=\"T_01dfc_row43_col0\" class=\"data row43 col0\" >Multicollinearity Threshold</td>\n",
       "      <td id=\"T_01dfc_row43_col1\" class=\"data row43 col1\" >None</td>\n",
       "    </tr>\n",
       "    <tr>\n",
       "      <th id=\"T_01dfc_level0_row44\" class=\"row_heading level0 row44\" >44</th>\n",
       "      <td id=\"T_01dfc_row44_col0\" class=\"data row44 col0\" >Remove Perfect Collinearity</td>\n",
       "      <td id=\"T_01dfc_row44_col1\" class=\"data row44 col1\" >1</td>\n",
       "    </tr>\n",
       "    <tr>\n",
       "      <th id=\"T_01dfc_level0_row45\" class=\"row_heading level0 row45\" >45</th>\n",
       "      <td id=\"T_01dfc_row45_col0\" class=\"data row45 col0\" >Clustering</td>\n",
       "      <td id=\"T_01dfc_row45_col1\" class=\"data row45 col1\" >0</td>\n",
       "    </tr>\n",
       "    <tr>\n",
       "      <th id=\"T_01dfc_level0_row46\" class=\"row_heading level0 row46\" >46</th>\n",
       "      <td id=\"T_01dfc_row46_col0\" class=\"data row46 col0\" >Clustering Iteration</td>\n",
       "      <td id=\"T_01dfc_row46_col1\" class=\"data row46 col1\" >None</td>\n",
       "    </tr>\n",
       "    <tr>\n",
       "      <th id=\"T_01dfc_level0_row47\" class=\"row_heading level0 row47\" >47</th>\n",
       "      <td id=\"T_01dfc_row47_col0\" class=\"data row47 col0\" >Polynomial Features</td>\n",
       "      <td id=\"T_01dfc_row47_col1\" class=\"data row47 col1\" >0</td>\n",
       "    </tr>\n",
       "    <tr>\n",
       "      <th id=\"T_01dfc_level0_row48\" class=\"row_heading level0 row48\" >48</th>\n",
       "      <td id=\"T_01dfc_row48_col0\" class=\"data row48 col0\" >Polynomial Degree</td>\n",
       "      <td id=\"T_01dfc_row48_col1\" class=\"data row48 col1\" >None</td>\n",
       "    </tr>\n",
       "    <tr>\n",
       "      <th id=\"T_01dfc_level0_row49\" class=\"row_heading level0 row49\" >49</th>\n",
       "      <td id=\"T_01dfc_row49_col0\" class=\"data row49 col0\" >Trignometry Features</td>\n",
       "      <td id=\"T_01dfc_row49_col1\" class=\"data row49 col1\" >0</td>\n",
       "    </tr>\n",
       "    <tr>\n",
       "      <th id=\"T_01dfc_level0_row50\" class=\"row_heading level0 row50\" >50</th>\n",
       "      <td id=\"T_01dfc_row50_col0\" class=\"data row50 col0\" >Polynomial Threshold</td>\n",
       "      <td id=\"T_01dfc_row50_col1\" class=\"data row50 col1\" >None</td>\n",
       "    </tr>\n",
       "    <tr>\n",
       "      <th id=\"T_01dfc_level0_row51\" class=\"row_heading level0 row51\" >51</th>\n",
       "      <td id=\"T_01dfc_row51_col0\" class=\"data row51 col0\" >Group Features</td>\n",
       "      <td id=\"T_01dfc_row51_col1\" class=\"data row51 col1\" >0</td>\n",
       "    </tr>\n",
       "    <tr>\n",
       "      <th id=\"T_01dfc_level0_row52\" class=\"row_heading level0 row52\" >52</th>\n",
       "      <td id=\"T_01dfc_row52_col0\" class=\"data row52 col0\" >Feature Selection</td>\n",
       "      <td id=\"T_01dfc_row52_col1\" class=\"data row52 col1\" >0</td>\n",
       "    </tr>\n",
       "    <tr>\n",
       "      <th id=\"T_01dfc_level0_row53\" class=\"row_heading level0 row53\" >53</th>\n",
       "      <td id=\"T_01dfc_row53_col0\" class=\"data row53 col0\" >Feature Selection Method</td>\n",
       "      <td id=\"T_01dfc_row53_col1\" class=\"data row53 col1\" >classic</td>\n",
       "    </tr>\n",
       "    <tr>\n",
       "      <th id=\"T_01dfc_level0_row54\" class=\"row_heading level0 row54\" >54</th>\n",
       "      <td id=\"T_01dfc_row54_col0\" class=\"data row54 col0\" >Features Selection Threshold</td>\n",
       "      <td id=\"T_01dfc_row54_col1\" class=\"data row54 col1\" >None</td>\n",
       "    </tr>\n",
       "    <tr>\n",
       "      <th id=\"T_01dfc_level0_row55\" class=\"row_heading level0 row55\" >55</th>\n",
       "      <td id=\"T_01dfc_row55_col0\" class=\"data row55 col0\" >Feature Interaction</td>\n",
       "      <td id=\"T_01dfc_row55_col1\" class=\"data row55 col1\" >0</td>\n",
       "    </tr>\n",
       "    <tr>\n",
       "      <th id=\"T_01dfc_level0_row56\" class=\"row_heading level0 row56\" >56</th>\n",
       "      <td id=\"T_01dfc_row56_col0\" class=\"data row56 col0\" >Feature Ratio</td>\n",
       "      <td id=\"T_01dfc_row56_col1\" class=\"data row56 col1\" >0</td>\n",
       "    </tr>\n",
       "    <tr>\n",
       "      <th id=\"T_01dfc_level0_row57\" class=\"row_heading level0 row57\" >57</th>\n",
       "      <td id=\"T_01dfc_row57_col0\" class=\"data row57 col0\" >Interaction Threshold</td>\n",
       "      <td id=\"T_01dfc_row57_col1\" class=\"data row57 col1\" >None</td>\n",
       "    </tr>\n",
       "    <tr>\n",
       "      <th id=\"T_01dfc_level0_row58\" class=\"row_heading level0 row58\" >58</th>\n",
       "      <td id=\"T_01dfc_row58_col0\" class=\"data row58 col0\" >Fix Imbalance</td>\n",
       "      <td id=\"T_01dfc_row58_col1\" class=\"data row58 col1\" >0</td>\n",
       "    </tr>\n",
       "    <tr>\n",
       "      <th id=\"T_01dfc_level0_row59\" class=\"row_heading level0 row59\" >59</th>\n",
       "      <td id=\"T_01dfc_row59_col0\" class=\"data row59 col0\" >Fix Imbalance Method</td>\n",
       "      <td id=\"T_01dfc_row59_col1\" class=\"data row59 col1\" >SMOTE</td>\n",
       "    </tr>\n",
       "  </tbody>\n",
       "</table>\n"
      ],
      "text/plain": [
       "<pandas.io.formats.style.Styler at 0x240a3bc0280>"
      ]
     },
     "metadata": {},
     "output_type": "display_data"
    }
   ],
   "source": [
    "exp_clf101 = setup(data = data, target = 'mau', session_id=123) "
   ]
  },
  {
   "cell_type": "markdown",
   "metadata": {
    "colab_type": "text",
    "id": "it_nJo1IEQob"
   },
   "source": [
    "# Comparando todos os modelos"
   ]
  },
  {
   "cell_type": "code",
   "execution_count": 17,
   "metadata": {
    "colab": {},
    "colab_type": "code",
    "id": "AsG0b1NIEQoj",
    "outputId": "a6e3a510-45a1-4782-8ffe-0ec138a64eed",
    "scrolled": false
   },
   "outputs": [
    {
     "data": {
      "text/html": [
       "<style type=\"text/css\">\n",
       "#T_9127f th {\n",
       "  text-align: left;\n",
       "}\n",
       "#T_9127f_row0_col0, #T_9127f_row0_col2, #T_9127f_row0_col3, #T_9127f_row0_col5, #T_9127f_row0_col6, #T_9127f_row0_col7, #T_9127f_row1_col0, #T_9127f_row1_col1, #T_9127f_row1_col3, #T_9127f_row1_col4, #T_9127f_row1_col5, #T_9127f_row1_col6, #T_9127f_row1_col7, #T_9127f_row2_col0, #T_9127f_row2_col1, #T_9127f_row2_col2, #T_9127f_row2_col3, #T_9127f_row2_col4, #T_9127f_row2_col5, #T_9127f_row2_col6, #T_9127f_row2_col7, #T_9127f_row3_col0, #T_9127f_row3_col1, #T_9127f_row3_col2, #T_9127f_row3_col3, #T_9127f_row3_col4, #T_9127f_row3_col5, #T_9127f_row3_col6, #T_9127f_row3_col7, #T_9127f_row4_col0, #T_9127f_row4_col1, #T_9127f_row4_col2, #T_9127f_row4_col3, #T_9127f_row4_col4, #T_9127f_row4_col5, #T_9127f_row4_col6, #T_9127f_row4_col7, #T_9127f_row5_col0, #T_9127f_row5_col1, #T_9127f_row5_col2, #T_9127f_row5_col3, #T_9127f_row5_col4, #T_9127f_row5_col5, #T_9127f_row5_col6, #T_9127f_row5_col7, #T_9127f_row6_col0, #T_9127f_row6_col1, #T_9127f_row6_col2, #T_9127f_row6_col3, #T_9127f_row6_col4, #T_9127f_row6_col5, #T_9127f_row6_col6, #T_9127f_row6_col7, #T_9127f_row7_col0, #T_9127f_row7_col1, #T_9127f_row7_col2, #T_9127f_row7_col3, #T_9127f_row7_col4, #T_9127f_row7_col5, #T_9127f_row7_col6, #T_9127f_row7_col7, #T_9127f_row8_col0, #T_9127f_row8_col1, #T_9127f_row8_col2, #T_9127f_row8_col3, #T_9127f_row8_col4, #T_9127f_row8_col5, #T_9127f_row8_col6, #T_9127f_row8_col7, #T_9127f_row9_col0, #T_9127f_row9_col1, #T_9127f_row9_col2, #T_9127f_row9_col3, #T_9127f_row9_col4, #T_9127f_row9_col5, #T_9127f_row9_col6, #T_9127f_row9_col7, #T_9127f_row10_col0, #T_9127f_row10_col1, #T_9127f_row10_col2, #T_9127f_row10_col3, #T_9127f_row10_col4, #T_9127f_row10_col5, #T_9127f_row10_col7, #T_9127f_row11_col0, #T_9127f_row11_col1, #T_9127f_row11_col2, #T_9127f_row11_col3, #T_9127f_row11_col4, #T_9127f_row11_col5, #T_9127f_row11_col6, #T_9127f_row11_col7, #T_9127f_row12_col0, #T_9127f_row12_col1, #T_9127f_row12_col2, #T_9127f_row12_col3, #T_9127f_row12_col4, #T_9127f_row12_col5, #T_9127f_row12_col6, #T_9127f_row12_col7, #T_9127f_row13_col0, #T_9127f_row13_col1, #T_9127f_row13_col2, #T_9127f_row13_col3, #T_9127f_row13_col4, #T_9127f_row13_col5, #T_9127f_row13_col6, #T_9127f_row13_col7, #T_9127f_row14_col0, #T_9127f_row14_col1, #T_9127f_row14_col2, #T_9127f_row14_col4, #T_9127f_row14_col6 {\n",
       "  text-align: left;\n",
       "}\n",
       "#T_9127f_row0_col1, #T_9127f_row0_col4, #T_9127f_row1_col2, #T_9127f_row10_col6, #T_9127f_row14_col3, #T_9127f_row14_col5, #T_9127f_row14_col7 {\n",
       "  text-align: left;\n",
       "  background-color: yellow;\n",
       "}\n",
       "#T_9127f_row0_col8, #T_9127f_row1_col8, #T_9127f_row2_col8, #T_9127f_row3_col8, #T_9127f_row4_col8, #T_9127f_row5_col8, #T_9127f_row7_col8, #T_9127f_row8_col8, #T_9127f_row9_col8, #T_9127f_row10_col8, #T_9127f_row11_col8, #T_9127f_row12_col8, #T_9127f_row13_col8, #T_9127f_row14_col8 {\n",
       "  text-align: left;\n",
       "  background-color: lightgrey;\n",
       "}\n",
       "#T_9127f_row6_col8 {\n",
       "  text-align: left;\n",
       "  background-color: yellow;\n",
       "  background-color: lightgrey;\n",
       "}\n",
       "</style>\n",
       "<table id=\"T_9127f\">\n",
       "  <thead>\n",
       "    <tr>\n",
       "      <th class=\"blank level0\" >&nbsp;</th>\n",
       "      <th id=\"T_9127f_level0_col0\" class=\"col_heading level0 col0\" >Model</th>\n",
       "      <th id=\"T_9127f_level0_col1\" class=\"col_heading level0 col1\" >Accuracy</th>\n",
       "      <th id=\"T_9127f_level0_col2\" class=\"col_heading level0 col2\" >AUC</th>\n",
       "      <th id=\"T_9127f_level0_col3\" class=\"col_heading level0 col3\" >Recall</th>\n",
       "      <th id=\"T_9127f_level0_col4\" class=\"col_heading level0 col4\" >Prec.</th>\n",
       "      <th id=\"T_9127f_level0_col5\" class=\"col_heading level0 col5\" >F1</th>\n",
       "      <th id=\"T_9127f_level0_col6\" class=\"col_heading level0 col6\" >Kappa</th>\n",
       "      <th id=\"T_9127f_level0_col7\" class=\"col_heading level0 col7\" >MCC</th>\n",
       "      <th id=\"T_9127f_level0_col8\" class=\"col_heading level0 col8\" >TT (Sec)</th>\n",
       "    </tr>\n",
       "  </thead>\n",
       "  <tbody>\n",
       "    <tr>\n",
       "      <th id=\"T_9127f_level0_row0\" class=\"row_heading level0 row0\" >ada</th>\n",
       "      <td id=\"T_9127f_row0_col0\" class=\"data row0 col0\" >Ada Boost Classifier</td>\n",
       "      <td id=\"T_9127f_row0_col1\" class=\"data row0 col1\" >0.9223</td>\n",
       "      <td id=\"T_9127f_row0_col2\" class=\"data row0 col2\" >0.7692</td>\n",
       "      <td id=\"T_9127f_row0_col3\" class=\"data row0 col3\" >0.0154</td>\n",
       "      <td id=\"T_9127f_row0_col4\" class=\"data row0 col4\" >0.5849</td>\n",
       "      <td id=\"T_9127f_row0_col5\" class=\"data row0 col5\" >0.0297</td>\n",
       "      <td id=\"T_9127f_row0_col6\" class=\"data row0 col6\" >0.0257</td>\n",
       "      <td id=\"T_9127f_row0_col7\" class=\"data row0 col7\" >0.0817</td>\n",
       "      <td id=\"T_9127f_row0_col8\" class=\"data row0 col8\" >0.8580</td>\n",
       "    </tr>\n",
       "    <tr>\n",
       "      <th id=\"T_9127f_level0_row1\" class=\"row_heading level0 row1\" >gbc</th>\n",
       "      <td id=\"T_9127f_row1_col0\" class=\"data row1 col0\" >Gradient Boosting Classifier</td>\n",
       "      <td id=\"T_9127f_row1_col1\" class=\"data row1 col1\" >0.9222</td>\n",
       "      <td id=\"T_9127f_row1_col2\" class=\"data row1 col2\" >0.7728</td>\n",
       "      <td id=\"T_9127f_row1_col3\" class=\"data row1 col3\" >0.0285</td>\n",
       "      <td id=\"T_9127f_row1_col4\" class=\"data row1 col4\" >0.5441</td>\n",
       "      <td id=\"T_9127f_row1_col5\" class=\"data row1 col5\" >0.0540</td>\n",
       "      <td id=\"T_9127f_row1_col6\" class=\"data row1 col6\" >0.0463</td>\n",
       "      <td id=\"T_9127f_row1_col7\" class=\"data row1 col7\" >0.1094</td>\n",
       "      <td id=\"T_9127f_row1_col8\" class=\"data row1 col8\" >3.2150</td>\n",
       "    </tr>\n",
       "    <tr>\n",
       "      <th id=\"T_9127f_level0_row2\" class=\"row_heading level0 row2\" >lr</th>\n",
       "      <td id=\"T_9127f_row2_col0\" class=\"data row2 col0\" >Logistic Regression</td>\n",
       "      <td id=\"T_9127f_row2_col1\" class=\"data row2 col1\" >0.9220</td>\n",
       "      <td id=\"T_9127f_row2_col2\" class=\"data row2 col2\" >0.7608</td>\n",
       "      <td id=\"T_9127f_row2_col3\" class=\"data row2 col3\" >0.0000</td>\n",
       "      <td id=\"T_9127f_row2_col4\" class=\"data row2 col4\" >0.0000</td>\n",
       "      <td id=\"T_9127f_row2_col5\" class=\"data row2 col5\" >0.0000</td>\n",
       "      <td id=\"T_9127f_row2_col6\" class=\"data row2 col6\" >0.0000</td>\n",
       "      <td id=\"T_9127f_row2_col7\" class=\"data row2 col7\" >0.0000</td>\n",
       "      <td id=\"T_9127f_row2_col8\" class=\"data row2 col8\" >2.3450</td>\n",
       "    </tr>\n",
       "    <tr>\n",
       "      <th id=\"T_9127f_level0_row3\" class=\"row_heading level0 row3\" >ridge</th>\n",
       "      <td id=\"T_9127f_row3_col0\" class=\"data row3 col0\" >Ridge Classifier</td>\n",
       "      <td id=\"T_9127f_row3_col1\" class=\"data row3 col1\" >0.9220</td>\n",
       "      <td id=\"T_9127f_row3_col2\" class=\"data row3 col2\" >0.0000</td>\n",
       "      <td id=\"T_9127f_row3_col3\" class=\"data row3 col3\" >0.0000</td>\n",
       "      <td id=\"T_9127f_row3_col4\" class=\"data row3 col4\" >0.0000</td>\n",
       "      <td id=\"T_9127f_row3_col5\" class=\"data row3 col5\" >0.0000</td>\n",
       "      <td id=\"T_9127f_row3_col6\" class=\"data row3 col6\" >0.0000</td>\n",
       "      <td id=\"T_9127f_row3_col7\" class=\"data row3 col7\" >0.0000</td>\n",
       "      <td id=\"T_9127f_row3_col8\" class=\"data row3 col8\" >0.0510</td>\n",
       "    </tr>\n",
       "    <tr>\n",
       "      <th id=\"T_9127f_level0_row4\" class=\"row_heading level0 row4\" >qda</th>\n",
       "      <td id=\"T_9127f_row4_col0\" class=\"data row4 col0\" >Quadratic Discriminant Analysis</td>\n",
       "      <td id=\"T_9127f_row4_col1\" class=\"data row4 col1\" >0.9220</td>\n",
       "      <td id=\"T_9127f_row4_col2\" class=\"data row4 col2\" >0.5000</td>\n",
       "      <td id=\"T_9127f_row4_col3\" class=\"data row4 col3\" >0.0000</td>\n",
       "      <td id=\"T_9127f_row4_col4\" class=\"data row4 col4\" >0.0000</td>\n",
       "      <td id=\"T_9127f_row4_col5\" class=\"data row4 col5\" >0.0000</td>\n",
       "      <td id=\"T_9127f_row4_col6\" class=\"data row4 col6\" >-0.0001</td>\n",
       "      <td id=\"T_9127f_row4_col7\" class=\"data row4 col7\" >-0.0005</td>\n",
       "      <td id=\"T_9127f_row4_col8\" class=\"data row4 col8\" >0.1990</td>\n",
       "    </tr>\n",
       "    <tr>\n",
       "      <th id=\"T_9127f_level0_row5\" class=\"row_heading level0 row5\" >lda</th>\n",
       "      <td id=\"T_9127f_row5_col0\" class=\"data row5 col0\" >Linear Discriminant Analysis</td>\n",
       "      <td id=\"T_9127f_row5_col1\" class=\"data row5 col1\" >0.9220</td>\n",
       "      <td id=\"T_9127f_row5_col2\" class=\"data row5 col2\" >0.6404</td>\n",
       "      <td id=\"T_9127f_row5_col3\" class=\"data row5 col3\" >0.0000</td>\n",
       "      <td id=\"T_9127f_row5_col4\" class=\"data row5 col4\" >0.0000</td>\n",
       "      <td id=\"T_9127f_row5_col5\" class=\"data row5 col5\" >0.0000</td>\n",
       "      <td id=\"T_9127f_row5_col6\" class=\"data row5 col6\" >0.0000</td>\n",
       "      <td id=\"T_9127f_row5_col7\" class=\"data row5 col7\" >0.0000</td>\n",
       "      <td id=\"T_9127f_row5_col8\" class=\"data row5 col8\" >0.2170</td>\n",
       "    </tr>\n",
       "    <tr>\n",
       "      <th id=\"T_9127f_level0_row6\" class=\"row_heading level0 row6\" >dummy</th>\n",
       "      <td id=\"T_9127f_row6_col0\" class=\"data row6 col0\" >Dummy Classifier</td>\n",
       "      <td id=\"T_9127f_row6_col1\" class=\"data row6 col1\" >0.9220</td>\n",
       "      <td id=\"T_9127f_row6_col2\" class=\"data row6 col2\" >0.5000</td>\n",
       "      <td id=\"T_9127f_row6_col3\" class=\"data row6 col3\" >0.0000</td>\n",
       "      <td id=\"T_9127f_row6_col4\" class=\"data row6 col4\" >0.0000</td>\n",
       "      <td id=\"T_9127f_row6_col5\" class=\"data row6 col5\" >0.0000</td>\n",
       "      <td id=\"T_9127f_row6_col6\" class=\"data row6 col6\" >0.0000</td>\n",
       "      <td id=\"T_9127f_row6_col7\" class=\"data row6 col7\" >0.0000</td>\n",
       "      <td id=\"T_9127f_row6_col8\" class=\"data row6 col8\" >0.0400</td>\n",
       "    </tr>\n",
       "    <tr>\n",
       "      <th id=\"T_9127f_level0_row7\" class=\"row_heading level0 row7\" >lightgbm</th>\n",
       "      <td id=\"T_9127f_row7_col0\" class=\"data row7 col0\" >Light Gradient Boosting Machine</td>\n",
       "      <td id=\"T_9127f_row7_col1\" class=\"data row7 col1\" >0.9218</td>\n",
       "      <td id=\"T_9127f_row7_col2\" class=\"data row7 col2\" >0.7600</td>\n",
       "      <td id=\"T_9127f_row7_col3\" class=\"data row7 col3\" >0.0359</td>\n",
       "      <td id=\"T_9127f_row7_col4\" class=\"data row7 col4\" >0.4825</td>\n",
       "      <td id=\"T_9127f_row7_col5\" class=\"data row7 col5\" >0.0666</td>\n",
       "      <td id=\"T_9127f_row7_col6\" class=\"data row7 col6\" >0.0564</td>\n",
       "      <td id=\"T_9127f_row7_col7\" class=\"data row7 col7\" >0.1145</td>\n",
       "      <td id=\"T_9127f_row7_col8\" class=\"data row7 col8\" >0.7950</td>\n",
       "    </tr>\n",
       "    <tr>\n",
       "      <th id=\"T_9127f_level0_row8\" class=\"row_heading level0 row8\" >xgboost</th>\n",
       "      <td id=\"T_9127f_row8_col0\" class=\"data row8 col0\" >Extreme Gradient Boosting</td>\n",
       "      <td id=\"T_9127f_row8_col1\" class=\"data row8 col1\" >0.9206</td>\n",
       "      <td id=\"T_9127f_row8_col2\" class=\"data row8 col2\" >0.7448</td>\n",
       "      <td id=\"T_9127f_row8_col3\" class=\"data row8 col3\" >0.0478</td>\n",
       "      <td id=\"T_9127f_row8_col4\" class=\"data row8 col4\" >0.4340</td>\n",
       "      <td id=\"T_9127f_row8_col5\" class=\"data row8 col5\" >0.0857</td>\n",
       "      <td id=\"T_9127f_row8_col6\" class=\"data row8 col6\" >0.0710</td>\n",
       "      <td id=\"T_9127f_row8_col7\" class=\"data row8 col7\" >0.1223</td>\n",
       "      <td id=\"T_9127f_row8_col8\" class=\"data row8 col8\" >3.7990</td>\n",
       "    </tr>\n",
       "    <tr>\n",
       "      <th id=\"T_9127f_level0_row9\" class=\"row_heading level0 row9\" >knn</th>\n",
       "      <td id=\"T_9127f_row9_col0\" class=\"data row9 col0\" >K Neighbors Classifier</td>\n",
       "      <td id=\"T_9127f_row9_col1\" class=\"data row9 col1\" >0.9150</td>\n",
       "      <td id=\"T_9127f_row9_col2\" class=\"data row9 col2\" >0.6307</td>\n",
       "      <td id=\"T_9127f_row9_col3\" class=\"data row9 col3\" >0.0775</td>\n",
       "      <td id=\"T_9127f_row9_col4\" class=\"data row9 col4\" >0.3177</td>\n",
       "      <td id=\"T_9127f_row9_col5\" class=\"data row9 col5\" >0.1242</td>\n",
       "      <td id=\"T_9127f_row9_col6\" class=\"data row9 col6\" >0.0967</td>\n",
       "      <td id=\"T_9127f_row9_col7\" class=\"data row9 col7\" >0.1242</td>\n",
       "      <td id=\"T_9127f_row9_col8\" class=\"data row9 col8\" >0.4000</td>\n",
       "    </tr>\n",
       "    <tr>\n",
       "      <th id=\"T_9127f_level0_row10\" class=\"row_heading level0 row10\" >svm</th>\n",
       "      <td id=\"T_9127f_row10_col0\" class=\"data row10 col0\" >SVM - Linear Kernel</td>\n",
       "      <td id=\"T_9127f_row10_col1\" class=\"data row10 col1\" >0.9024</td>\n",
       "      <td id=\"T_9127f_row10_col2\" class=\"data row10 col2\" >0.0000</td>\n",
       "      <td id=\"T_9127f_row10_col3\" class=\"data row10 col3\" >0.1597</td>\n",
       "      <td id=\"T_9127f_row10_col4\" class=\"data row10 col4\" >0.1980</td>\n",
       "      <td id=\"T_9127f_row10_col5\" class=\"data row10 col5\" >0.1558</td>\n",
       "      <td id=\"T_9127f_row10_col6\" class=\"data row10 col6\" >0.1228</td>\n",
       "      <td id=\"T_9127f_row10_col7\" class=\"data row10 col7\" >0.1310</td>\n",
       "      <td id=\"T_9127f_row10_col8\" class=\"data row10 col8\" >0.1540</td>\n",
       "    </tr>\n",
       "    <tr>\n",
       "      <th id=\"T_9127f_level0_row11\" class=\"row_heading level0 row11\" >rf</th>\n",
       "      <td id=\"T_9127f_row11_col0\" class=\"data row11 col0\" >Random Forest Classifier</td>\n",
       "      <td id=\"T_9127f_row11_col1\" class=\"data row11 col1\" >0.8999</td>\n",
       "      <td id=\"T_9127f_row11_col2\" class=\"data row11 col2\" >0.6973</td>\n",
       "      <td id=\"T_9127f_row11_col3\" class=\"data row11 col3\" >0.0783</td>\n",
       "      <td id=\"T_9127f_row11_col4\" class=\"data row11 col4\" >0.1769</td>\n",
       "      <td id=\"T_9127f_row11_col5\" class=\"data row11 col5\" >0.1084</td>\n",
       "      <td id=\"T_9127f_row11_col6\" class=\"data row11 col6\" >0.0639</td>\n",
       "      <td id=\"T_9127f_row11_col7\" class=\"data row11 col7\" >0.0698</td>\n",
       "      <td id=\"T_9127f_row11_col8\" class=\"data row11 col8\" >1.7030</td>\n",
       "    </tr>\n",
       "    <tr>\n",
       "      <th id=\"T_9127f_level0_row12\" class=\"row_heading level0 row12\" >et</th>\n",
       "      <td id=\"T_9127f_row12_col0\" class=\"data row12 col0\" >Extra Trees Classifier</td>\n",
       "      <td id=\"T_9127f_row12_col1\" class=\"data row12 col1\" >0.8786</td>\n",
       "      <td id=\"T_9127f_row12_col2\" class=\"data row12 col2\" >0.6109</td>\n",
       "      <td id=\"T_9127f_row12_col3\" class=\"data row12 col3\" >0.1261</td>\n",
       "      <td id=\"T_9127f_row12_col4\" class=\"data row12 col4\" >0.1556</td>\n",
       "      <td id=\"T_9127f_row12_col5\" class=\"data row12 col5\" >0.1392</td>\n",
       "      <td id=\"T_9127f_row12_col6\" class=\"data row12 col6\" >0.0748</td>\n",
       "      <td id=\"T_9127f_row12_col7\" class=\"data row12 col7\" >0.0753</td>\n",
       "      <td id=\"T_9127f_row12_col8\" class=\"data row12 col8\" >2.1830</td>\n",
       "    </tr>\n",
       "    <tr>\n",
       "      <th id=\"T_9127f_level0_row13\" class=\"row_heading level0 row13\" >dt</th>\n",
       "      <td id=\"T_9127f_row13_col0\" class=\"data row13 col0\" >Decision Tree Classifier</td>\n",
       "      <td id=\"T_9127f_row13_col1\" class=\"data row13 col1\" >0.8662</td>\n",
       "      <td id=\"T_9127f_row13_col2\" class=\"data row13 col2\" >0.5472</td>\n",
       "      <td id=\"T_9127f_row13_col3\" class=\"data row13 col3\" >0.1604</td>\n",
       "      <td id=\"T_9127f_row13_col4\" class=\"data row13 col4\" >0.1551</td>\n",
       "      <td id=\"T_9127f_row13_col5\" class=\"data row13 col5\" >0.1576</td>\n",
       "      <td id=\"T_9127f_row13_col6\" class=\"data row13 col6\" >0.0850</td>\n",
       "      <td id=\"T_9127f_row13_col7\" class=\"data row13 col7\" >0.0851</td>\n",
       "      <td id=\"T_9127f_row13_col8\" class=\"data row13 col8\" >0.2360</td>\n",
       "    </tr>\n",
       "    <tr>\n",
       "      <th id=\"T_9127f_level0_row14\" class=\"row_heading level0 row14\" >nb</th>\n",
       "      <td id=\"T_9127f_row14_col0\" class=\"data row14 col0\" >Naive Bayes</td>\n",
       "      <td id=\"T_9127f_row14_col1\" class=\"data row14 col1\" >0.6465</td>\n",
       "      <td id=\"T_9127f_row14_col2\" class=\"data row14 col2\" >0.6811</td>\n",
       "      <td id=\"T_9127f_row14_col3\" class=\"data row14 col3\" >0.6090</td>\n",
       "      <td id=\"T_9127f_row14_col4\" class=\"data row14 col4\" >0.1283</td>\n",
       "      <td id=\"T_9127f_row14_col5\" class=\"data row14 col5\" >0.2119</td>\n",
       "      <td id=\"T_9127f_row14_col6\" class=\"data row14 col6\" >0.0953</td>\n",
       "      <td id=\"T_9127f_row14_col7\" class=\"data row14 col7\" >0.1437</td>\n",
       "      <td id=\"T_9127f_row14_col8\" class=\"data row14 col8\" >0.0600</td>\n",
       "    </tr>\n",
       "  </tbody>\n",
       "</table>\n"
      ],
      "text/plain": [
       "<pandas.io.formats.style.Styler at 0x240a5993700>"
      ]
     },
     "metadata": {},
     "output_type": "display_data"
    }
   ],
   "source": [
    "best_model = compare_models(fold=10)"
   ]
  },
  {
   "cell_type": "code",
   "execution_count": 10,
   "metadata": {},
   "outputs": [
    {
     "data": {
      "text/html": [
       "<style type=\"text/css\">\n",
       "#T_ce59d th {\n",
       "  text-align: left;\n",
       "}\n",
       "#T_ce59d_row0_col0, #T_ce59d_row0_col1, #T_ce59d_row0_col3, #T_ce59d_row0_col4, #T_ce59d_row0_col5, #T_ce59d_row0_col6, #T_ce59d_row0_col7, #T_ce59d_row1_col0, #T_ce59d_row1_col1, #T_ce59d_row1_col2, #T_ce59d_row1_col3, #T_ce59d_row1_col4, #T_ce59d_row1_col5, #T_ce59d_row1_col6, #T_ce59d_row1_col7, #T_ce59d_row2_col0, #T_ce59d_row2_col1, #T_ce59d_row2_col2, #T_ce59d_row2_col3, #T_ce59d_row2_col5, #T_ce59d_row2_col6, #T_ce59d_row2_col7, #T_ce59d_row3_col0, #T_ce59d_row3_col2, #T_ce59d_row3_col3, #T_ce59d_row3_col4, #T_ce59d_row3_col5, #T_ce59d_row3_col6, #T_ce59d_row3_col7, #T_ce59d_row4_col0, #T_ce59d_row4_col1, #T_ce59d_row4_col2, #T_ce59d_row4_col3, #T_ce59d_row4_col4, #T_ce59d_row4_col5, #T_ce59d_row4_col6, #T_ce59d_row4_col7, #T_ce59d_row5_col0, #T_ce59d_row5_col1, #T_ce59d_row5_col2, #T_ce59d_row5_col3, #T_ce59d_row5_col4, #T_ce59d_row5_col5, #T_ce59d_row5_col6, #T_ce59d_row5_col7, #T_ce59d_row6_col0, #T_ce59d_row6_col1, #T_ce59d_row6_col2, #T_ce59d_row6_col3, #T_ce59d_row6_col4, #T_ce59d_row6_col5, #T_ce59d_row6_col6, #T_ce59d_row6_col7, #T_ce59d_row7_col0, #T_ce59d_row7_col1, #T_ce59d_row7_col2, #T_ce59d_row7_col3, #T_ce59d_row7_col4, #T_ce59d_row7_col5, #T_ce59d_row8_col0, #T_ce59d_row8_col1, #T_ce59d_row8_col2, #T_ce59d_row8_col3, #T_ce59d_row8_col4, #T_ce59d_row8_col5, #T_ce59d_row8_col6, #T_ce59d_row8_col7, #T_ce59d_row9_col0, #T_ce59d_row9_col2, #T_ce59d_row9_col3, #T_ce59d_row9_col4, #T_ce59d_row9_col5, #T_ce59d_row9_col6, #T_ce59d_row9_col7, #T_ce59d_row10_col0, #T_ce59d_row10_col1, #T_ce59d_row10_col2, #T_ce59d_row10_col4, #T_ce59d_row10_col6, #T_ce59d_row10_col7, #T_ce59d_row11_col0, #T_ce59d_row11_col1, #T_ce59d_row11_col2, #T_ce59d_row11_col3, #T_ce59d_row11_col4, #T_ce59d_row11_col5, #T_ce59d_row11_col6, #T_ce59d_row11_col7, #T_ce59d_row12_col0, #T_ce59d_row12_col2, #T_ce59d_row12_col3, #T_ce59d_row12_col4, #T_ce59d_row12_col5, #T_ce59d_row12_col6, #T_ce59d_row12_col7, #T_ce59d_row13_col0, #T_ce59d_row13_col1, #T_ce59d_row13_col2, #T_ce59d_row13_col3, #T_ce59d_row13_col4, #T_ce59d_row13_col5, #T_ce59d_row13_col6, #T_ce59d_row13_col7, #T_ce59d_row14_col0, #T_ce59d_row14_col2, #T_ce59d_row14_col3, #T_ce59d_row14_col4, #T_ce59d_row14_col5, #T_ce59d_row14_col6, #T_ce59d_row14_col7 {\n",
       "  text-align: left;\n",
       "}\n",
       "#T_ce59d_row0_col2, #T_ce59d_row2_col4, #T_ce59d_row3_col1, #T_ce59d_row7_col6, #T_ce59d_row7_col7, #T_ce59d_row9_col1, #T_ce59d_row10_col3, #T_ce59d_row10_col5, #T_ce59d_row12_col1, #T_ce59d_row14_col1 {\n",
       "  text-align: left;\n",
       "  background-color: yellow;\n",
       "}\n",
       "#T_ce59d_row0_col8, #T_ce59d_row1_col8, #T_ce59d_row2_col8, #T_ce59d_row3_col8, #T_ce59d_row4_col8, #T_ce59d_row5_col8, #T_ce59d_row6_col8, #T_ce59d_row7_col8, #T_ce59d_row8_col8, #T_ce59d_row9_col8, #T_ce59d_row10_col8, #T_ce59d_row11_col8, #T_ce59d_row13_col8, #T_ce59d_row14_col8 {\n",
       "  text-align: left;\n",
       "  background-color: lightgrey;\n",
       "}\n",
       "#T_ce59d_row12_col8 {\n",
       "  text-align: left;\n",
       "  background-color: yellow;\n",
       "  background-color: lightgrey;\n",
       "}\n",
       "</style>\n",
       "<table id=\"T_ce59d\">\n",
       "  <thead>\n",
       "    <tr>\n",
       "      <th class=\"blank level0\" >&nbsp;</th>\n",
       "      <th id=\"T_ce59d_level0_col0\" class=\"col_heading level0 col0\" >Model</th>\n",
       "      <th id=\"T_ce59d_level0_col1\" class=\"col_heading level0 col1\" >Accuracy</th>\n",
       "      <th id=\"T_ce59d_level0_col2\" class=\"col_heading level0 col2\" >AUC</th>\n",
       "      <th id=\"T_ce59d_level0_col3\" class=\"col_heading level0 col3\" >Recall</th>\n",
       "      <th id=\"T_ce59d_level0_col4\" class=\"col_heading level0 col4\" >Prec.</th>\n",
       "      <th id=\"T_ce59d_level0_col5\" class=\"col_heading level0 col5\" >F1</th>\n",
       "      <th id=\"T_ce59d_level0_col6\" class=\"col_heading level0 col6\" >Kappa</th>\n",
       "      <th id=\"T_ce59d_level0_col7\" class=\"col_heading level0 col7\" >MCC</th>\n",
       "      <th id=\"T_ce59d_level0_col8\" class=\"col_heading level0 col8\" >TT (Sec)</th>\n",
       "    </tr>\n",
       "  </thead>\n",
       "  <tbody>\n",
       "    <tr>\n",
       "      <th id=\"T_ce59d_level0_row0\" class=\"row_heading level0 row0\" >gbc</th>\n",
       "      <td id=\"T_ce59d_row0_col0\" class=\"data row0 col0\" >Gradient Boosting Classifier</td>\n",
       "      <td id=\"T_ce59d_row0_col1\" class=\"data row0 col1\" >0.9219</td>\n",
       "      <td id=\"T_ce59d_row0_col2\" class=\"data row0 col2\" >0.7840</td>\n",
       "      <td id=\"T_ce59d_row0_col3\" class=\"data row0 col3\" >0.0345</td>\n",
       "      <td id=\"T_ce59d_row0_col4\" class=\"data row0 col4\" >0.3822</td>\n",
       "      <td id=\"T_ce59d_row0_col5\" class=\"data row0 col5\" >0.0627</td>\n",
       "      <td id=\"T_ce59d_row0_col6\" class=\"data row0 col6\" >0.0513</td>\n",
       "      <td id=\"T_ce59d_row0_col7\" class=\"data row0 col7\" >0.0946</td>\n",
       "      <td id=\"T_ce59d_row0_col8\" class=\"data row0 col8\" >0.6970</td>\n",
       "    </tr>\n",
       "    <tr>\n",
       "      <th id=\"T_ce59d_level0_row1\" class=\"row_heading level0 row1\" >ada</th>\n",
       "      <td id=\"T_ce59d_row1_col0\" class=\"data row1 col0\" >Ada Boost Classifier</td>\n",
       "      <td id=\"T_ce59d_row1_col1\" class=\"data row1 col1\" >0.9221</td>\n",
       "      <td id=\"T_ce59d_row1_col2\" class=\"data row1 col2\" >0.7780</td>\n",
       "      <td id=\"T_ce59d_row1_col3\" class=\"data row1 col3\" >0.0251</td>\n",
       "      <td id=\"T_ce59d_row1_col4\" class=\"data row1 col4\" >0.2812</td>\n",
       "      <td id=\"T_ce59d_row1_col5\" class=\"data row1 col5\" >0.0454</td>\n",
       "      <td id=\"T_ce59d_row1_col6\" class=\"data row1 col6\" >0.0369</td>\n",
       "      <td id=\"T_ce59d_row1_col7\" class=\"data row1 col7\" >0.0673</td>\n",
       "      <td id=\"T_ce59d_row1_col8\" class=\"data row1 col8\" >0.2250</td>\n",
       "    </tr>\n",
       "    <tr>\n",
       "      <th id=\"T_ce59d_level0_row2\" class=\"row_heading level0 row2\" >lightgbm</th>\n",
       "      <td id=\"T_ce59d_row2_col0\" class=\"data row2 col0\" >Light Gradient Boosting Machine</td>\n",
       "      <td id=\"T_ce59d_row2_col1\" class=\"data row2 col1\" >0.9220</td>\n",
       "      <td id=\"T_ce59d_row2_col2\" class=\"data row2 col2\" >0.7750</td>\n",
       "      <td id=\"T_ce59d_row2_col3\" class=\"data row2 col3\" >0.0400</td>\n",
       "      <td id=\"T_ce59d_row2_col4\" class=\"data row2 col4\" >0.4063</td>\n",
       "      <td id=\"T_ce59d_row2_col5\" class=\"data row2 col5\" >0.0722</td>\n",
       "      <td id=\"T_ce59d_row2_col6\" class=\"data row2 col6\" >0.0598</td>\n",
       "      <td id=\"T_ce59d_row2_col7\" class=\"data row2 col7\" >0.1071</td>\n",
       "      <td id=\"T_ce59d_row2_col8\" class=\"data row2 col8\" >0.3590</td>\n",
       "    </tr>\n",
       "    <tr>\n",
       "      <th id=\"T_ce59d_level0_row3\" class=\"row_heading level0 row3\" >lr</th>\n",
       "      <td id=\"T_ce59d_row3_col0\" class=\"data row3 col0\" >Logistic Regression</td>\n",
       "      <td id=\"T_ce59d_row3_col1\" class=\"data row3 col1\" >0.9232</td>\n",
       "      <td id=\"T_ce59d_row3_col2\" class=\"data row3 col2\" >0.7737</td>\n",
       "      <td id=\"T_ce59d_row3_col3\" class=\"data row3 col3\" >0.0000</td>\n",
       "      <td id=\"T_ce59d_row3_col4\" class=\"data row3 col4\" >0.0000</td>\n",
       "      <td id=\"T_ce59d_row3_col5\" class=\"data row3 col5\" >0.0000</td>\n",
       "      <td id=\"T_ce59d_row3_col6\" class=\"data row3 col6\" >0.0000</td>\n",
       "      <td id=\"T_ce59d_row3_col7\" class=\"data row3 col7\" >0.0000</td>\n",
       "      <td id=\"T_ce59d_row3_col8\" class=\"data row3 col8\" >1.0140</td>\n",
       "    </tr>\n",
       "    <tr>\n",
       "      <th id=\"T_ce59d_level0_row4\" class=\"row_heading level0 row4\" >xgboost</th>\n",
       "      <td id=\"T_ce59d_row4_col0\" class=\"data row4 col0\" >Extreme Gradient Boosting</td>\n",
       "      <td id=\"T_ce59d_row4_col1\" class=\"data row4 col1\" >0.9185</td>\n",
       "      <td id=\"T_ce59d_row4_col2\" class=\"data row4 col2\" >0.7541</td>\n",
       "      <td id=\"T_ce59d_row4_col3\" class=\"data row4 col3\" >0.0588</td>\n",
       "      <td id=\"T_ce59d_row4_col4\" class=\"data row4 col4\" >0.3284</td>\n",
       "      <td id=\"T_ce59d_row4_col5\" class=\"data row4 col5\" >0.0993</td>\n",
       "      <td id=\"T_ce59d_row4_col6\" class=\"data row4 col6\" >0.0779</td>\n",
       "      <td id=\"T_ce59d_row4_col7\" class=\"data row4 col7\" >0.1111</td>\n",
       "      <td id=\"T_ce59d_row4_col8\" class=\"data row4 col8\" >1.9830</td>\n",
       "    </tr>\n",
       "    <tr>\n",
       "      <th id=\"T_ce59d_level0_row5\" class=\"row_heading level0 row5\" >rf</th>\n",
       "      <td id=\"T_ce59d_row5_col0\" class=\"data row5 col0\" >Random Forest Classifier</td>\n",
       "      <td id=\"T_ce59d_row5_col1\" class=\"data row5 col1\" >0.9077</td>\n",
       "      <td id=\"T_ce59d_row5_col2\" class=\"data row5 col2\" >0.7282</td>\n",
       "      <td id=\"T_ce59d_row5_col3\" class=\"data row5 col3\" >0.0815</td>\n",
       "      <td id=\"T_ce59d_row5_col4\" class=\"data row5 col4\" >0.2226</td>\n",
       "      <td id=\"T_ce59d_row5_col5\" class=\"data row5 col5\" >0.1191</td>\n",
       "      <td id=\"T_ce59d_row5_col6\" class=\"data row5 col6\" >0.0815</td>\n",
       "      <td id=\"T_ce59d_row5_col7\" class=\"data row5 col7\" >0.0931</td>\n",
       "      <td id=\"T_ce59d_row5_col8\" class=\"data row5 col8\" >0.4800</td>\n",
       "    </tr>\n",
       "    <tr>\n",
       "      <th id=\"T_ce59d_level0_row6\" class=\"row_heading level0 row6\" >nb</th>\n",
       "      <td id=\"T_ce59d_row6_col0\" class=\"data row6 col0\" >Naive Bayes</td>\n",
       "      <td id=\"T_ce59d_row6_col1\" class=\"data row6 col1\" >0.8556</td>\n",
       "      <td id=\"T_ce59d_row6_col2\" class=\"data row6 col2\" >0.6788</td>\n",
       "      <td id=\"T_ce59d_row6_col3\" class=\"data row6 col3\" >0.1581</td>\n",
       "      <td id=\"T_ce59d_row6_col4\" class=\"data row6 col4\" >0.1363</td>\n",
       "      <td id=\"T_ce59d_row6_col5\" class=\"data row6 col5\" >0.1317</td>\n",
       "      <td id=\"T_ce59d_row6_col6\" class=\"data row6 col6\" >0.0610</td>\n",
       "      <td id=\"T_ce59d_row6_col7\" class=\"data row6 col7\" >0.0655</td>\n",
       "      <td id=\"T_ce59d_row6_col8\" class=\"data row6 col8\" >0.0280</td>\n",
       "    </tr>\n",
       "    <tr>\n",
       "      <th id=\"T_ce59d_level0_row7\" class=\"row_heading level0 row7\" >knn</th>\n",
       "      <td id=\"T_ce59d_row7_col0\" class=\"data row7 col0\" >K Neighbors Classifier</td>\n",
       "      <td id=\"T_ce59d_row7_col1\" class=\"data row7 col1\" >0.9164</td>\n",
       "      <td id=\"T_ce59d_row7_col2\" class=\"data row7 col2\" >0.6663</td>\n",
       "      <td id=\"T_ce59d_row7_col3\" class=\"data row7 col3\" >0.0948</td>\n",
       "      <td id=\"T_ce59d_row7_col4\" class=\"data row7 col4\" >0.3427</td>\n",
       "      <td id=\"T_ce59d_row7_col5\" class=\"data row7 col5\" >0.1475</td>\n",
       "      <td id=\"T_ce59d_row7_col6\" class=\"data row7 col6\" >0.1183</td>\n",
       "      <td id=\"T_ce59d_row7_col7\" class=\"data row7 col7\" >0.1463</td>\n",
       "      <td id=\"T_ce59d_row7_col8\" class=\"data row7 col8\" >0.1280</td>\n",
       "    </tr>\n",
       "    <tr>\n",
       "      <th id=\"T_ce59d_level0_row8\" class=\"row_heading level0 row8\" >et</th>\n",
       "      <td id=\"T_ce59d_row8_col0\" class=\"data row8 col0\" >Extra Trees Classifier</td>\n",
       "      <td id=\"T_ce59d_row8_col1\" class=\"data row8 col1\" >0.8831</td>\n",
       "      <td id=\"T_ce59d_row8_col2\" class=\"data row8 col2\" >0.6406</td>\n",
       "      <td id=\"T_ce59d_row8_col3\" class=\"data row8 col3\" >0.1097</td>\n",
       "      <td id=\"T_ce59d_row8_col4\" class=\"data row8 col4\" >0.1472</td>\n",
       "      <td id=\"T_ce59d_row8_col5\" class=\"data row8 col5\" >0.1254</td>\n",
       "      <td id=\"T_ce59d_row8_col6\" class=\"data row8 col6\" >0.0644</td>\n",
       "      <td id=\"T_ce59d_row8_col7\" class=\"data row8 col7\" >0.0652</td>\n",
       "      <td id=\"T_ce59d_row8_col8\" class=\"data row8 col8\" >0.5430</td>\n",
       "    </tr>\n",
       "    <tr>\n",
       "      <th id=\"T_ce59d_level0_row9\" class=\"row_heading level0 row9\" >lda</th>\n",
       "      <td id=\"T_ce59d_row9_col0\" class=\"data row9 col0\" >Linear Discriminant Analysis</td>\n",
       "      <td id=\"T_ce59d_row9_col1\" class=\"data row9 col1\" >0.9232</td>\n",
       "      <td id=\"T_ce59d_row9_col2\" class=\"data row9 col2\" >0.6254</td>\n",
       "      <td id=\"T_ce59d_row9_col3\" class=\"data row9 col3\" >0.0000</td>\n",
       "      <td id=\"T_ce59d_row9_col4\" class=\"data row9 col4\" >0.0000</td>\n",
       "      <td id=\"T_ce59d_row9_col5\" class=\"data row9 col5\" >0.0000</td>\n",
       "      <td id=\"T_ce59d_row9_col6\" class=\"data row9 col6\" >0.0000</td>\n",
       "      <td id=\"T_ce59d_row9_col7\" class=\"data row9 col7\" >0.0000</td>\n",
       "      <td id=\"T_ce59d_row9_col8\" class=\"data row9 col8\" >0.0710</td>\n",
       "    </tr>\n",
       "    <tr>\n",
       "      <th id=\"T_ce59d_level0_row10\" class=\"row_heading level0 row10\" >dt</th>\n",
       "      <td id=\"T_ce59d_row10_col0\" class=\"data row10 col0\" >Decision Tree Classifier</td>\n",
       "      <td id=\"T_ce59d_row10_col1\" class=\"data row10 col1\" >0.8683</td>\n",
       "      <td id=\"T_ce59d_row10_col2\" class=\"data row10 col2\" >0.5466</td>\n",
       "      <td id=\"T_ce59d_row10_col3\" class=\"data row10 col3\" >0.1677</td>\n",
       "      <td id=\"T_ce59d_row10_col4\" class=\"data row10 col4\" >0.1595</td>\n",
       "      <td id=\"T_ce59d_row10_col5\" class=\"data row10 col5\" >0.1633</td>\n",
       "      <td id=\"T_ce59d_row10_col6\" class=\"data row10 col6\" >0.0919</td>\n",
       "      <td id=\"T_ce59d_row10_col7\" class=\"data row10 col7\" >0.0920</td>\n",
       "      <td id=\"T_ce59d_row10_col8\" class=\"data row10 col8\" >0.0530</td>\n",
       "    </tr>\n",
       "    <tr>\n",
       "      <th id=\"T_ce59d_level0_row11\" class=\"row_heading level0 row11\" >qda</th>\n",
       "      <td id=\"T_ce59d_row11_col0\" class=\"data row11 col0\" >Quadratic Discriminant Analysis</td>\n",
       "      <td id=\"T_ce59d_row11_col1\" class=\"data row11 col1\" >0.9225</td>\n",
       "      <td id=\"T_ce59d_row11_col2\" class=\"data row11 col2\" >0.5003</td>\n",
       "      <td id=\"T_ce59d_row11_col3\" class=\"data row11 col3\" >0.0016</td>\n",
       "      <td id=\"T_ce59d_row11_col4\" class=\"data row11 col4\" >0.0125</td>\n",
       "      <td id=\"T_ce59d_row11_col5\" class=\"data row11 col5\" >0.0028</td>\n",
       "      <td id=\"T_ce59d_row11_col6\" class=\"data row11 col6\" >0.0011</td>\n",
       "      <td id=\"T_ce59d_row11_col7\" class=\"data row11 col7\" >0.0018</td>\n",
       "      <td id=\"T_ce59d_row11_col8\" class=\"data row11 col8\" >0.0650</td>\n",
       "    </tr>\n",
       "    <tr>\n",
       "      <th id=\"T_ce59d_level0_row12\" class=\"row_heading level0 row12\" >dummy</th>\n",
       "      <td id=\"T_ce59d_row12_col0\" class=\"data row12 col0\" >Dummy Classifier</td>\n",
       "      <td id=\"T_ce59d_row12_col1\" class=\"data row12 col1\" >0.9232</td>\n",
       "      <td id=\"T_ce59d_row12_col2\" class=\"data row12 col2\" >0.5000</td>\n",
       "      <td id=\"T_ce59d_row12_col3\" class=\"data row12 col3\" >0.0000</td>\n",
       "      <td id=\"T_ce59d_row12_col4\" class=\"data row12 col4\" >0.0000</td>\n",
       "      <td id=\"T_ce59d_row12_col5\" class=\"data row12 col5\" >0.0000</td>\n",
       "      <td id=\"T_ce59d_row12_col6\" class=\"data row12 col6\" >0.0000</td>\n",
       "      <td id=\"T_ce59d_row12_col7\" class=\"data row12 col7\" >0.0000</td>\n",
       "      <td id=\"T_ce59d_row12_col8\" class=\"data row12 col8\" >0.0230</td>\n",
       "    </tr>\n",
       "    <tr>\n",
       "      <th id=\"T_ce59d_level0_row13\" class=\"row_heading level0 row13\" >svm</th>\n",
       "      <td id=\"T_ce59d_row13_col0\" class=\"data row13 col0\" >SVM - Linear Kernel</td>\n",
       "      <td id=\"T_ce59d_row13_col1\" class=\"data row13 col1\" >0.9026</td>\n",
       "      <td id=\"T_ce59d_row13_col2\" class=\"data row13 col2\" >0.0000</td>\n",
       "      <td id=\"T_ce59d_row13_col3\" class=\"data row13 col3\" >0.1566</td>\n",
       "      <td id=\"T_ce59d_row13_col4\" class=\"data row13 col4\" >0.2405</td>\n",
       "      <td id=\"T_ce59d_row13_col5\" class=\"data row13 col5\" >0.1468</td>\n",
       "      <td id=\"T_ce59d_row13_col6\" class=\"data row13 col6\" >0.1157</td>\n",
       "      <td id=\"T_ce59d_row13_col7\" class=\"data row13 col7\" >0.1284</td>\n",
       "      <td id=\"T_ce59d_row13_col8\" class=\"data row13 col8\" >0.0420</td>\n",
       "    </tr>\n",
       "    <tr>\n",
       "      <th id=\"T_ce59d_level0_row14\" class=\"row_heading level0 row14\" >ridge</th>\n",
       "      <td id=\"T_ce59d_row14_col0\" class=\"data row14 col0\" >Ridge Classifier</td>\n",
       "      <td id=\"T_ce59d_row14_col1\" class=\"data row14 col1\" >0.9232</td>\n",
       "      <td id=\"T_ce59d_row14_col2\" class=\"data row14 col2\" >0.0000</td>\n",
       "      <td id=\"T_ce59d_row14_col3\" class=\"data row14 col3\" >0.0000</td>\n",
       "      <td id=\"T_ce59d_row14_col4\" class=\"data row14 col4\" >0.0000</td>\n",
       "      <td id=\"T_ce59d_row14_col5\" class=\"data row14 col5\" >0.0000</td>\n",
       "      <td id=\"T_ce59d_row14_col6\" class=\"data row14 col6\" >0.0000</td>\n",
       "      <td id=\"T_ce59d_row14_col7\" class=\"data row14 col7\" >0.0000</td>\n",
       "      <td id=\"T_ce59d_row14_col8\" class=\"data row14 col8\" >0.0250</td>\n",
       "    </tr>\n",
       "  </tbody>\n",
       "</table>\n"
      ],
      "text/plain": [
       "<pandas.io.formats.style.Styler at 0x1ef0b6e1610>"
      ]
     },
     "metadata": {},
     "output_type": "display_data"
    }
   ],
   "source": [
    "#ordenando a tabela por AUC\n",
    "best_model = compare_models(fold=10, sort='AUC')"
   ]
  },
  {
   "cell_type": "code",
   "execution_count": 19,
   "metadata": {},
   "outputs": [
    {
     "name": "stdout",
     "output_type": "stream",
     "text": [
      "GradientBoostingClassifier(ccp_alpha=0.0, criterion='friedman_mse', init=None,\n",
      "                           learning_rate=0.1, loss='deviance', max_depth=3,\n",
      "                           max_features=None, max_leaf_nodes=None,\n",
      "                           min_impurity_decrease=0.0, min_impurity_split=None,\n",
      "                           min_samples_leaf=1, min_samples_split=2,\n",
      "                           min_weight_fraction_leaf=0.0, n_estimators=100,\n",
      "                           n_iter_no_change=None, presort='deprecated',\n",
      "                           random_state=123, subsample=1.0, tol=0.0001,\n",
      "                           validation_fraction=0.1, verbose=0,\n",
      "                           warm_start=False)\n"
     ]
    }
   ],
   "source": [
    "print(best_model)"
   ]
  },
  {
   "cell_type": "markdown",
   "metadata": {
    "colab_type": "text",
    "id": "P5m2pciOEQo4"
   },
   "source": [
    "# Criando um modelo"
   ]
  },
  {
   "cell_type": "code",
   "execution_count": 19,
   "metadata": {},
   "outputs": [
    {
     "data": {
      "text/html": [
       "<div>\n",
       "<style scoped>\n",
       "    .dataframe tbody tr th:only-of-type {\n",
       "        vertical-align: middle;\n",
       "    }\n",
       "\n",
       "    .dataframe tbody tr th {\n",
       "        vertical-align: top;\n",
       "    }\n",
       "\n",
       "    .dataframe thead th {\n",
       "        text-align: right;\n",
       "    }\n",
       "</style>\n",
       "<table border=\"1\" class=\"dataframe\">\n",
       "  <thead>\n",
       "    <tr style=\"text-align: right;\">\n",
       "      <th></th>\n",
       "      <th>Name</th>\n",
       "      <th>Reference</th>\n",
       "      <th>Turbo</th>\n",
       "    </tr>\n",
       "    <tr>\n",
       "      <th>ID</th>\n",
       "      <th></th>\n",
       "      <th></th>\n",
       "      <th></th>\n",
       "    </tr>\n",
       "  </thead>\n",
       "  <tbody>\n",
       "    <tr>\n",
       "      <th>lr</th>\n",
       "      <td>Logistic Regression</td>\n",
       "      <td>sklearn.linear_model._logistic.LogisticRegression</td>\n",
       "      <td>True</td>\n",
       "    </tr>\n",
       "    <tr>\n",
       "      <th>knn</th>\n",
       "      <td>K Neighbors Classifier</td>\n",
       "      <td>sklearn.neighbors._classification.KNeighborsCl...</td>\n",
       "      <td>True</td>\n",
       "    </tr>\n",
       "    <tr>\n",
       "      <th>nb</th>\n",
       "      <td>Naive Bayes</td>\n",
       "      <td>sklearn.naive_bayes.GaussianNB</td>\n",
       "      <td>True</td>\n",
       "    </tr>\n",
       "    <tr>\n",
       "      <th>dt</th>\n",
       "      <td>Decision Tree Classifier</td>\n",
       "      <td>sklearn.tree._classes.DecisionTreeClassifier</td>\n",
       "      <td>True</td>\n",
       "    </tr>\n",
       "    <tr>\n",
       "      <th>svm</th>\n",
       "      <td>SVM - Linear Kernel</td>\n",
       "      <td>sklearn.linear_model._stochastic_gradient.SGDC...</td>\n",
       "      <td>True</td>\n",
       "    </tr>\n",
       "    <tr>\n",
       "      <th>rbfsvm</th>\n",
       "      <td>SVM - Radial Kernel</td>\n",
       "      <td>sklearn.svm._classes.SVC</td>\n",
       "      <td>False</td>\n",
       "    </tr>\n",
       "    <tr>\n",
       "      <th>gpc</th>\n",
       "      <td>Gaussian Process Classifier</td>\n",
       "      <td>sklearn.gaussian_process._gpc.GaussianProcessC...</td>\n",
       "      <td>False</td>\n",
       "    </tr>\n",
       "    <tr>\n",
       "      <th>mlp</th>\n",
       "      <td>MLP Classifier</td>\n",
       "      <td>sklearn.neural_network._multilayer_perceptron....</td>\n",
       "      <td>False</td>\n",
       "    </tr>\n",
       "    <tr>\n",
       "      <th>ridge</th>\n",
       "      <td>Ridge Classifier</td>\n",
       "      <td>sklearn.linear_model._ridge.RidgeClassifier</td>\n",
       "      <td>True</td>\n",
       "    </tr>\n",
       "    <tr>\n",
       "      <th>rf</th>\n",
       "      <td>Random Forest Classifier</td>\n",
       "      <td>sklearn.ensemble._forest.RandomForestClassifier</td>\n",
       "      <td>True</td>\n",
       "    </tr>\n",
       "    <tr>\n",
       "      <th>qda</th>\n",
       "      <td>Quadratic Discriminant Analysis</td>\n",
       "      <td>sklearn.discriminant_analysis.QuadraticDiscrim...</td>\n",
       "      <td>True</td>\n",
       "    </tr>\n",
       "    <tr>\n",
       "      <th>ada</th>\n",
       "      <td>Ada Boost Classifier</td>\n",
       "      <td>sklearn.ensemble._weight_boosting.AdaBoostClas...</td>\n",
       "      <td>True</td>\n",
       "    </tr>\n",
       "    <tr>\n",
       "      <th>gbc</th>\n",
       "      <td>Gradient Boosting Classifier</td>\n",
       "      <td>sklearn.ensemble._gb.GradientBoostingClassifier</td>\n",
       "      <td>True</td>\n",
       "    </tr>\n",
       "    <tr>\n",
       "      <th>lda</th>\n",
       "      <td>Linear Discriminant Analysis</td>\n",
       "      <td>sklearn.discriminant_analysis.LinearDiscrimina...</td>\n",
       "      <td>True</td>\n",
       "    </tr>\n",
       "    <tr>\n",
       "      <th>et</th>\n",
       "      <td>Extra Trees Classifier</td>\n",
       "      <td>sklearn.ensemble._forest.ExtraTreesClassifier</td>\n",
       "      <td>True</td>\n",
       "    </tr>\n",
       "    <tr>\n",
       "      <th>xgboost</th>\n",
       "      <td>Extreme Gradient Boosting</td>\n",
       "      <td>xgboost.sklearn.XGBClassifier</td>\n",
       "      <td>True</td>\n",
       "    </tr>\n",
       "    <tr>\n",
       "      <th>lightgbm</th>\n",
       "      <td>Light Gradient Boosting Machine</td>\n",
       "      <td>lightgbm.sklearn.LGBMClassifier</td>\n",
       "      <td>True</td>\n",
       "    </tr>\n",
       "    <tr>\n",
       "      <th>dummy</th>\n",
       "      <td>Dummy Classifier</td>\n",
       "      <td>sklearn.dummy.DummyClassifier</td>\n",
       "      <td>True</td>\n",
       "    </tr>\n",
       "  </tbody>\n",
       "</table>\n",
       "</div>"
      ],
      "text/plain": [
       "                                     Name  \\\n",
       "ID                                          \n",
       "lr                    Logistic Regression   \n",
       "knn                K Neighbors Classifier   \n",
       "nb                            Naive Bayes   \n",
       "dt               Decision Tree Classifier   \n",
       "svm                   SVM - Linear Kernel   \n",
       "rbfsvm                SVM - Radial Kernel   \n",
       "gpc           Gaussian Process Classifier   \n",
       "mlp                        MLP Classifier   \n",
       "ridge                    Ridge Classifier   \n",
       "rf               Random Forest Classifier   \n",
       "qda       Quadratic Discriminant Analysis   \n",
       "ada                  Ada Boost Classifier   \n",
       "gbc          Gradient Boosting Classifier   \n",
       "lda          Linear Discriminant Analysis   \n",
       "et                 Extra Trees Classifier   \n",
       "xgboost         Extreme Gradient Boosting   \n",
       "lightgbm  Light Gradient Boosting Machine   \n",
       "dummy                    Dummy Classifier   \n",
       "\n",
       "                                                  Reference  Turbo  \n",
       "ID                                                                  \n",
       "lr        sklearn.linear_model._logistic.LogisticRegression   True  \n",
       "knn       sklearn.neighbors._classification.KNeighborsCl...   True  \n",
       "nb                           sklearn.naive_bayes.GaussianNB   True  \n",
       "dt             sklearn.tree._classes.DecisionTreeClassifier   True  \n",
       "svm       sklearn.linear_model._stochastic_gradient.SGDC...   True  \n",
       "rbfsvm                             sklearn.svm._classes.SVC  False  \n",
       "gpc       sklearn.gaussian_process._gpc.GaussianProcessC...  False  \n",
       "mlp       sklearn.neural_network._multilayer_perceptron....  False  \n",
       "ridge           sklearn.linear_model._ridge.RidgeClassifier   True  \n",
       "rf          sklearn.ensemble._forest.RandomForestClassifier   True  \n",
       "qda       sklearn.discriminant_analysis.QuadraticDiscrim...   True  \n",
       "ada       sklearn.ensemble._weight_boosting.AdaBoostClas...   True  \n",
       "gbc         sklearn.ensemble._gb.GradientBoostingClassifier   True  \n",
       "lda       sklearn.discriminant_analysis.LinearDiscrimina...   True  \n",
       "et            sklearn.ensemble._forest.ExtraTreesClassifier   True  \n",
       "xgboost                       xgboost.sklearn.XGBClassifier   True  \n",
       "lightgbm                    lightgbm.sklearn.LGBMClassifier   True  \n",
       "dummy                         sklearn.dummy.DummyClassifier   True  "
      ]
     },
     "execution_count": 19,
     "metadata": {},
     "output_type": "execute_result"
    }
   ],
   "source": [
    "models()"
   ]
  },
  {
   "cell_type": "markdown",
   "metadata": {
    "colab_type": "text",
    "id": "nSg3OUjuEQpu"
   },
   "source": [
    "### 8.3 Gradient Boosting Classifier"
   ]
  },
  {
   "cell_type": "code",
   "execution_count": 20,
   "metadata": {
    "colab": {
     "base_uri": "https://localhost:8080/",
     "height": 392
    },
    "colab_type": "code",
    "id": "FGCoUiQpEQpz",
    "outputId": "212cb736-6dcb-4b77-e45b-14ad895bff43"
   },
   "outputs": [
    {
     "data": {
      "text/html": [
       "<style type=\"text/css\">\n",
       "#T_6b424_row10_col0, #T_6b424_row10_col1, #T_6b424_row10_col2, #T_6b424_row10_col3, #T_6b424_row10_col4, #T_6b424_row10_col5, #T_6b424_row10_col6 {\n",
       "  background: yellow;\n",
       "}\n",
       "</style>\n",
       "<table id=\"T_6b424\">\n",
       "  <thead>\n",
       "    <tr>\n",
       "      <th class=\"blank level0\" >&nbsp;</th>\n",
       "      <th id=\"T_6b424_level0_col0\" class=\"col_heading level0 col0\" >Accuracy</th>\n",
       "      <th id=\"T_6b424_level0_col1\" class=\"col_heading level0 col1\" >AUC</th>\n",
       "      <th id=\"T_6b424_level0_col2\" class=\"col_heading level0 col2\" >Recall</th>\n",
       "      <th id=\"T_6b424_level0_col3\" class=\"col_heading level0 col3\" >Prec.</th>\n",
       "      <th id=\"T_6b424_level0_col4\" class=\"col_heading level0 col4\" >F1</th>\n",
       "      <th id=\"T_6b424_level0_col5\" class=\"col_heading level0 col5\" >Kappa</th>\n",
       "      <th id=\"T_6b424_level0_col6\" class=\"col_heading level0 col6\" >MCC</th>\n",
       "    </tr>\n",
       "    <tr>\n",
       "      <th class=\"index_name level0\" >Fold</th>\n",
       "      <th class=\"blank col0\" >&nbsp;</th>\n",
       "      <th class=\"blank col1\" >&nbsp;</th>\n",
       "      <th class=\"blank col2\" >&nbsp;</th>\n",
       "      <th class=\"blank col3\" >&nbsp;</th>\n",
       "      <th class=\"blank col4\" >&nbsp;</th>\n",
       "      <th class=\"blank col5\" >&nbsp;</th>\n",
       "      <th class=\"blank col6\" >&nbsp;</th>\n",
       "    </tr>\n",
       "  </thead>\n",
       "  <tbody>\n",
       "    <tr>\n",
       "      <th id=\"T_6b424_level0_row0\" class=\"row_heading level0 row0\" >0</th>\n",
       "      <td id=\"T_6b424_row0_col0\" class=\"data row0 col0\" >0.9224</td>\n",
       "      <td id=\"T_6b424_row0_col1\" class=\"data row0 col1\" >0.7937</td>\n",
       "      <td id=\"T_6b424_row0_col2\" class=\"data row0 col2\" >0.0323</td>\n",
       "      <td id=\"T_6b424_row0_col3\" class=\"data row0 col3\" >0.3077</td>\n",
       "      <td id=\"T_6b424_row0_col4\" class=\"data row0 col4\" >0.0584</td>\n",
       "      <td id=\"T_6b424_row0_col5\" class=\"data row0 col5\" >0.0449</td>\n",
       "      <td id=\"T_6b424_row0_col6\" class=\"data row0 col6\" >0.0788</td>\n",
       "    </tr>\n",
       "    <tr>\n",
       "      <th id=\"T_6b424_level0_row1\" class=\"row_heading level0 row1\" >1</th>\n",
       "      <td id=\"T_6b424_row1_col0\" class=\"data row1 col0\" >0.9260</td>\n",
       "      <td id=\"T_6b424_row1_col1\" class=\"data row1 col1\" >0.7916</td>\n",
       "      <td id=\"T_6b424_row1_col2\" class=\"data row1 col2\" >0.0242</td>\n",
       "      <td id=\"T_6b424_row1_col3\" class=\"data row1 col3\" >0.6000</td>\n",
       "      <td id=\"T_6b424_row1_col4\" class=\"data row1 col4\" >0.0465</td>\n",
       "      <td id=\"T_6b424_row1_col5\" class=\"data row1 col5\" >0.0410</td>\n",
       "      <td id=\"T_6b424_row1_col6\" class=\"data row1 col6\" >0.1098</td>\n",
       "    </tr>\n",
       "    <tr>\n",
       "      <th id=\"T_6b424_level0_row2\" class=\"row_heading level0 row2\" >2</th>\n",
       "      <td id=\"T_6b424_row2_col0\" class=\"data row2 col0\" >0.9230</td>\n",
       "      <td id=\"T_6b424_row2_col1\" class=\"data row2 col1\" >0.8031</td>\n",
       "      <td id=\"T_6b424_row2_col2\" class=\"data row2 col2\" >0.0403</td>\n",
       "      <td id=\"T_6b424_row2_col3\" class=\"data row2 col3\" >0.3571</td>\n",
       "      <td id=\"T_6b424_row2_col4\" class=\"data row2 col4\" >0.0725</td>\n",
       "      <td id=\"T_6b424_row2_col5\" class=\"data row2 col5\" >0.0582</td>\n",
       "      <td id=\"T_6b424_row2_col6\" class=\"data row2 col6\" >0.0991</td>\n",
       "    </tr>\n",
       "    <tr>\n",
       "      <th id=\"T_6b424_level0_row3\" class=\"row_heading level0 row3\" >3</th>\n",
       "      <td id=\"T_6b424_row3_col0\" class=\"data row3 col0\" >0.9212</td>\n",
       "      <td id=\"T_6b424_row3_col1\" class=\"data row3 col1\" >0.7760</td>\n",
       "      <td id=\"T_6b424_row3_col2\" class=\"data row3 col2\" >0.0242</td>\n",
       "      <td id=\"T_6b424_row3_col3\" class=\"data row3 col3\" >0.2308</td>\n",
       "      <td id=\"T_6b424_row3_col4\" class=\"data row3 col4\" >0.0438</td>\n",
       "      <td id=\"T_6b424_row3_col5\" class=\"data row3 col5\" >0.0301</td>\n",
       "      <td id=\"T_6b424_row3_col6\" class=\"data row3 col6\" >0.0528</td>\n",
       "    </tr>\n",
       "    <tr>\n",
       "      <th id=\"T_6b424_level0_row4\" class=\"row_heading level0 row4\" >4</th>\n",
       "      <td id=\"T_6b424_row4_col0\" class=\"data row4 col0\" >0.9254</td>\n",
       "      <td id=\"T_6b424_row4_col1\" class=\"data row4 col1\" >0.7727</td>\n",
       "      <td id=\"T_6b424_row4_col2\" class=\"data row4 col2\" >0.0488</td>\n",
       "      <td id=\"T_6b424_row4_col3\" class=\"data row4 col3\" >0.4615</td>\n",
       "      <td id=\"T_6b424_row4_col4\" class=\"data row4 col4\" >0.0882</td>\n",
       "      <td id=\"T_6b424_row4_col5\" class=\"data row4 col5\" >0.0752</td>\n",
       "      <td id=\"T_6b424_row4_col6\" class=\"data row4 col6\" >0.1314</td>\n",
       "    </tr>\n",
       "    <tr>\n",
       "      <th id=\"T_6b424_level0_row5\" class=\"row_heading level0 row5\" >5</th>\n",
       "      <td id=\"T_6b424_row5_col0\" class=\"data row5 col0\" >0.9266</td>\n",
       "      <td id=\"T_6b424_row5_col1\" class=\"data row5 col1\" >0.7921</td>\n",
       "      <td id=\"T_6b424_row5_col2\" class=\"data row5 col2\" >0.0569</td>\n",
       "      <td id=\"T_6b424_row5_col3\" class=\"data row5 col3\" >0.5385</td>\n",
       "      <td id=\"T_6b424_row5_col4\" class=\"data row5 col4\" >0.1029</td>\n",
       "      <td id=\"T_6b424_row5_col5\" class=\"data row5 col5\" >0.0901</td>\n",
       "      <td id=\"T_6b424_row5_col6\" class=\"data row5 col6\" >0.1575</td>\n",
       "    </tr>\n",
       "    <tr>\n",
       "      <th id=\"T_6b424_level0_row6\" class=\"row_heading level0 row6\" >6</th>\n",
       "      <td id=\"T_6b424_row6_col0\" class=\"data row6 col0\" >0.9200</td>\n",
       "      <td id=\"T_6b424_row6_col1\" class=\"data row6 col1\" >0.7921</td>\n",
       "      <td id=\"T_6b424_row6_col2\" class=\"data row6 col2\" >0.0244</td>\n",
       "      <td id=\"T_6b424_row6_col3\" class=\"data row6 col3\" >0.1875</td>\n",
       "      <td id=\"T_6b424_row6_col4\" class=\"data row6 col4\" >0.0432</td>\n",
       "      <td id=\"T_6b424_row6_col5\" class=\"data row6 col5\" >0.0266</td>\n",
       "      <td id=\"T_6b424_row6_col6\" class=\"data row6 col6\" >0.0427</td>\n",
       "    </tr>\n",
       "    <tr>\n",
       "      <th id=\"T_6b424_level0_row7\" class=\"row_heading level0 row7\" >7</th>\n",
       "      <td id=\"T_6b424_row7_col0\" class=\"data row7 col0\" >0.9278</td>\n",
       "      <td id=\"T_6b424_row7_col1\" class=\"data row7 col1\" >0.8042</td>\n",
       "      <td id=\"T_6b424_row7_col2\" class=\"data row7 col2\" >0.0732</td>\n",
       "      <td id=\"T_6b424_row7_col3\" class=\"data row7 col3\" >0.6000</td>\n",
       "      <td id=\"T_6b424_row7_col4\" class=\"data row7 col4\" >0.1304</td>\n",
       "      <td id=\"T_6b424_row7_col5\" class=\"data row7 col5\" >0.1162</td>\n",
       "      <td id=\"T_6b424_row7_col6\" class=\"data row7 col6\" >0.1918</td>\n",
       "    </tr>\n",
       "    <tr>\n",
       "      <th id=\"T_6b424_level0_row8\" class=\"row_heading level0 row8\" >8</th>\n",
       "      <td id=\"T_6b424_row8_col0\" class=\"data row8 col0\" >0.9230</td>\n",
       "      <td id=\"T_6b424_row8_col1\" class=\"data row8 col1\" >0.7805</td>\n",
       "      <td id=\"T_6b424_row8_col2\" class=\"data row8 col2\" >0.0407</td>\n",
       "      <td id=\"T_6b424_row8_col3\" class=\"data row8 col3\" >0.3333</td>\n",
       "      <td id=\"T_6b424_row8_col4\" class=\"data row8 col4\" >0.0725</td>\n",
       "      <td id=\"T_6b424_row8_col5\" class=\"data row8 col5\" >0.0573</td>\n",
       "      <td id=\"T_6b424_row8_col6\" class=\"data row8 col6\" >0.0945</td>\n",
       "    </tr>\n",
       "    <tr>\n",
       "      <th id=\"T_6b424_level0_row9\" class=\"row_heading level0 row9\" >9</th>\n",
       "      <td id=\"T_6b424_row9_col0\" class=\"data row9 col0\" >0.9212</td>\n",
       "      <td id=\"T_6b424_row9_col1\" class=\"data row9 col1\" >0.7667</td>\n",
       "      <td id=\"T_6b424_row9_col2\" class=\"data row9 col2\" >0.0323</td>\n",
       "      <td id=\"T_6b424_row9_col3\" class=\"data row9 col3\" >0.2667</td>\n",
       "      <td id=\"T_6b424_row9_col4\" class=\"data row9 col4\" >0.0576</td>\n",
       "      <td id=\"T_6b424_row9_col5\" class=\"data row9 col5\" >0.0421</td>\n",
       "      <td id=\"T_6b424_row9_col6\" class=\"data row9 col6\" >0.0698</td>\n",
       "    </tr>\n",
       "    <tr>\n",
       "      <th id=\"T_6b424_level0_row10\" class=\"row_heading level0 row10\" >Mean</th>\n",
       "      <td id=\"T_6b424_row10_col0\" class=\"data row10 col0\" >0.9237</td>\n",
       "      <td id=\"T_6b424_row10_col1\" class=\"data row10 col1\" >0.7873</td>\n",
       "      <td id=\"T_6b424_row10_col2\" class=\"data row10 col2\" >0.0397</td>\n",
       "      <td id=\"T_6b424_row10_col3\" class=\"data row10 col3\" >0.3883</td>\n",
       "      <td id=\"T_6b424_row10_col4\" class=\"data row10 col4\" >0.0716</td>\n",
       "      <td id=\"T_6b424_row10_col5\" class=\"data row10 col5\" >0.0582</td>\n",
       "      <td id=\"T_6b424_row10_col6\" class=\"data row10 col6\" >0.1028</td>\n",
       "    </tr>\n",
       "    <tr>\n",
       "      <th id=\"T_6b424_level0_row11\" class=\"row_heading level0 row11\" >Std</th>\n",
       "      <td id=\"T_6b424_row11_col0\" class=\"data row11 col0\" >0.0025</td>\n",
       "      <td id=\"T_6b424_row11_col1\" class=\"data row11 col1\" >0.0121</td>\n",
       "      <td id=\"T_6b424_row11_col2\" class=\"data row11 col2\" >0.0153</td>\n",
       "      <td id=\"T_6b424_row11_col3\" class=\"data row11 col3\" >0.1442</td>\n",
       "      <td id=\"T_6b424_row11_col4\" class=\"data row11 col4\" >0.0270</td>\n",
       "      <td id=\"T_6b424_row11_col5\" class=\"data row11 col5\" >0.0268</td>\n",
       "      <td id=\"T_6b424_row11_col6\" class=\"data row11 col6\" >0.0443</td>\n",
       "    </tr>\n",
       "  </tbody>\n",
       "</table>\n"
      ],
      "text/plain": [
       "<pandas.io.formats.style.Styler at 0x21a1d37db80>"
      ]
     },
     "metadata": {},
     "output_type": "display_data"
    }
   ],
   "source": [
    "gbc = create_model('gbc')"
   ]
  },
  {
   "cell_type": "markdown",
   "metadata": {
    "colab_type": "text",
    "id": "XvpjzbGQEQqB"
   },
   "source": [
    "# Model tunning (Hyperparameter Tunning)"
   ]
  },
  {
   "cell_type": "markdown",
   "metadata": {
    "colab_type": "text",
    "id": "KO3zIfs-EQrA"
   },
   "source": [
    "### Gradient Boosting"
   ]
  },
  {
   "cell_type": "code",
   "execution_count": 31,
   "metadata": {
    "colab": {
     "base_uri": "https://localhost:8080/",
     "height": 392
    },
    "colab_type": "code",
    "id": "gmaIfnBMEQrE",
    "outputId": "a59cebfa-f81e-477c-f83c-e9443fd80b0f"
   },
   "outputs": [
    {
     "data": {
      "text/html": [
       "<style type=\"text/css\">\n",
       "#T_44de3_row10_col0, #T_44de3_row10_col1, #T_44de3_row10_col2, #T_44de3_row10_col3, #T_44de3_row10_col4, #T_44de3_row10_col5, #T_44de3_row10_col6 {\n",
       "  background: yellow;\n",
       "}\n",
       "</style>\n",
       "<table id=\"T_44de3\">\n",
       "  <thead>\n",
       "    <tr>\n",
       "      <th class=\"blank level0\" >&nbsp;</th>\n",
       "      <th id=\"T_44de3_level0_col0\" class=\"col_heading level0 col0\" >Accuracy</th>\n",
       "      <th id=\"T_44de3_level0_col1\" class=\"col_heading level0 col1\" >AUC</th>\n",
       "      <th id=\"T_44de3_level0_col2\" class=\"col_heading level0 col2\" >Recall</th>\n",
       "      <th id=\"T_44de3_level0_col3\" class=\"col_heading level0 col3\" >Prec.</th>\n",
       "      <th id=\"T_44de3_level0_col4\" class=\"col_heading level0 col4\" >F1</th>\n",
       "      <th id=\"T_44de3_level0_col5\" class=\"col_heading level0 col5\" >Kappa</th>\n",
       "      <th id=\"T_44de3_level0_col6\" class=\"col_heading level0 col6\" >MCC</th>\n",
       "    </tr>\n",
       "    <tr>\n",
       "      <th class=\"index_name level0\" >Fold</th>\n",
       "      <th class=\"blank col0\" >&nbsp;</th>\n",
       "      <th class=\"blank col1\" >&nbsp;</th>\n",
       "      <th class=\"blank col2\" >&nbsp;</th>\n",
       "      <th class=\"blank col3\" >&nbsp;</th>\n",
       "      <th class=\"blank col4\" >&nbsp;</th>\n",
       "      <th class=\"blank col5\" >&nbsp;</th>\n",
       "      <th class=\"blank col6\" >&nbsp;</th>\n",
       "    </tr>\n",
       "  </thead>\n",
       "  <tbody>\n",
       "    <tr>\n",
       "      <th id=\"T_44de3_level0_row0\" class=\"row_heading level0 row0\" >0</th>\n",
       "      <td id=\"T_44de3_row0_col0\" class=\"data row0 col0\" >0.8984</td>\n",
       "      <td id=\"T_44de3_row0_col1\" class=\"data row0 col1\" >0.6124</td>\n",
       "      <td id=\"T_44de3_row0_col2\" class=\"data row0 col2\" >0.1210</td>\n",
       "      <td id=\"T_44de3_row0_col3\" class=\"data row0 col3\" >0.2000</td>\n",
       "      <td id=\"T_44de3_row0_col4\" class=\"data row0 col4\" >0.1508</td>\n",
       "      <td id=\"T_44de3_row0_col5\" class=\"data row0 col5\" >0.1002</td>\n",
       "      <td id=\"T_44de3_row0_col6\" class=\"data row0 col6\" >0.1038</td>\n",
       "    </tr>\n",
       "    <tr>\n",
       "      <th id=\"T_44de3_level0_row1\" class=\"row_heading level0 row1\" >1</th>\n",
       "      <td id=\"T_44de3_row1_col0\" class=\"data row1 col0\" >0.8827</td>\n",
       "      <td id=\"T_44de3_row1_col1\" class=\"data row1 col1\" >0.6642</td>\n",
       "      <td id=\"T_44de3_row1_col2\" class=\"data row1 col2\" >0.1532</td>\n",
       "      <td id=\"T_44de3_row1_col3\" class=\"data row1 col3\" >0.1743</td>\n",
       "      <td id=\"T_44de3_row1_col4\" class=\"data row1 col4\" >0.1631</td>\n",
       "      <td id=\"T_44de3_row1_col5\" class=\"data row1 col5\" >0.1003</td>\n",
       "      <td id=\"T_44de3_row1_col6\" class=\"data row1 col6\" >0.1006</td>\n",
       "    </tr>\n",
       "    <tr>\n",
       "      <th id=\"T_44de3_level0_row2\" class=\"row_heading level0 row2\" >2</th>\n",
       "      <td id=\"T_44de3_row2_col0\" class=\"data row2 col0\" >0.9008</td>\n",
       "      <td id=\"T_44de3_row2_col1\" class=\"data row2 col1\" >0.6948</td>\n",
       "      <td id=\"T_44de3_row2_col2\" class=\"data row2 col2\" >0.2016</td>\n",
       "      <td id=\"T_44de3_row2_col3\" class=\"data row2 col3\" >0.2747</td>\n",
       "      <td id=\"T_44de3_row2_col4\" class=\"data row2 col4\" >0.2326</td>\n",
       "      <td id=\"T_44de3_row2_col5\" class=\"data row2 col5\" >0.1809</td>\n",
       "      <td id=\"T_44de3_row2_col6\" class=\"data row2 col6\" >0.1833</td>\n",
       "    </tr>\n",
       "    <tr>\n",
       "      <th id=\"T_44de3_level0_row3\" class=\"row_heading level0 row3\" >3</th>\n",
       "      <td id=\"T_44de3_row3_col0\" class=\"data row3 col0\" >0.9008</td>\n",
       "      <td id=\"T_44de3_row3_col1\" class=\"data row3 col1\" >0.5858</td>\n",
       "      <td id=\"T_44de3_row3_col2\" class=\"data row3 col2\" >0.0968</td>\n",
       "      <td id=\"T_44de3_row3_col3\" class=\"data row3 col3\" >0.1846</td>\n",
       "      <td id=\"T_44de3_row3_col4\" class=\"data row3 col4\" >0.1270</td>\n",
       "      <td id=\"T_44de3_row3_col5\" class=\"data row3 col5\" >0.0798</td>\n",
       "      <td id=\"T_44de3_row3_col6\" class=\"data row3 col6\" >0.0845</td>\n",
       "    </tr>\n",
       "    <tr>\n",
       "      <th id=\"T_44de3_level0_row4\" class=\"row_heading level0 row4\" >4</th>\n",
       "      <td id=\"T_44de3_row4_col0\" class=\"data row4 col0\" >0.8959</td>\n",
       "      <td id=\"T_44de3_row4_col1\" class=\"data row4 col1\" >0.6640</td>\n",
       "      <td id=\"T_44de3_row4_col2\" class=\"data row4 col2\" >0.1220</td>\n",
       "      <td id=\"T_44de3_row4_col3\" class=\"data row4 col3\" >0.1875</td>\n",
       "      <td id=\"T_44de3_row4_col4\" class=\"data row4 col4\" >0.1478</td>\n",
       "      <td id=\"T_44de3_row4_col5\" class=\"data row4 col5\" >0.0950</td>\n",
       "      <td id=\"T_44de3_row4_col6\" class=\"data row4 col6\" >0.0975</td>\n",
       "    </tr>\n",
       "    <tr>\n",
       "      <th id=\"T_44de3_level0_row5\" class=\"row_heading level0 row5\" >5</th>\n",
       "      <td id=\"T_44de3_row5_col0\" class=\"data row5 col0\" >0.8833</td>\n",
       "      <td id=\"T_44de3_row5_col1\" class=\"data row5 col1\" >0.6045</td>\n",
       "      <td id=\"T_44de3_row5_col2\" class=\"data row5 col2\" >0.1382</td>\n",
       "      <td id=\"T_44de3_row5_col3\" class=\"data row5 col3\" >0.1619</td>\n",
       "      <td id=\"T_44de3_row5_col4\" class=\"data row5 col4\" >0.1491</td>\n",
       "      <td id=\"T_44de3_row5_col5\" class=\"data row5 col5\" >0.0869</td>\n",
       "      <td id=\"T_44de3_row5_col6\" class=\"data row5 col6\" >0.0872</td>\n",
       "    </tr>\n",
       "    <tr>\n",
       "      <th id=\"T_44de3_level0_row6\" class=\"row_heading level0 row6\" >6</th>\n",
       "      <td id=\"T_44de3_row6_col0\" class=\"data row6 col0\" >0.8911</td>\n",
       "      <td id=\"T_44de3_row6_col1\" class=\"data row6 col1\" >0.6558</td>\n",
       "      <td id=\"T_44de3_row6_col2\" class=\"data row6 col2\" >0.1382</td>\n",
       "      <td id=\"T_44de3_row6_col3\" class=\"data row6 col3\" >0.1848</td>\n",
       "      <td id=\"T_44de3_row6_col4\" class=\"data row6 col4\" >0.1581</td>\n",
       "      <td id=\"T_44de3_row6_col5\" class=\"data row6 col5\" >0.1012</td>\n",
       "      <td id=\"T_44de3_row6_col6\" class=\"data row6 col6\" >0.1024</td>\n",
       "    </tr>\n",
       "    <tr>\n",
       "      <th id=\"T_44de3_level0_row7\" class=\"row_heading level0 row7\" >7</th>\n",
       "      <td id=\"T_44de3_row7_col0\" class=\"data row7 col0\" >0.8965</td>\n",
       "      <td id=\"T_44de3_row7_col1\" class=\"data row7 col1\" >0.6338</td>\n",
       "      <td id=\"T_44de3_row7_col2\" class=\"data row7 col2\" >0.1789</td>\n",
       "      <td id=\"T_44de3_row7_col3\" class=\"data row7 col3\" >0.2366</td>\n",
       "      <td id=\"T_44de3_row7_col4\" class=\"data row7 col4\" >0.2037</td>\n",
       "      <td id=\"T_44de3_row7_col5\" class=\"data row7 col5\" >0.1495</td>\n",
       "      <td id=\"T_44de3_row7_col6\" class=\"data row7 col6\" >0.1512</td>\n",
       "    </tr>\n",
       "    <tr>\n",
       "      <th id=\"T_44de3_level0_row8\" class=\"row_heading level0 row8\" >8</th>\n",
       "      <td id=\"T_44de3_row8_col0\" class=\"data row8 col0\" >0.8959</td>\n",
       "      <td id=\"T_44de3_row8_col1\" class=\"data row8 col1\" >0.6229</td>\n",
       "      <td id=\"T_44de3_row8_col2\" class=\"data row8 col2\" >0.1138</td>\n",
       "      <td id=\"T_44de3_row8_col3\" class=\"data row8 col3\" >0.1795</td>\n",
       "      <td id=\"T_44de3_row8_col4\" class=\"data row8 col4\" >0.1393</td>\n",
       "      <td id=\"T_44de3_row8_col5\" class=\"data row8 col5\" >0.0869</td>\n",
       "      <td id=\"T_44de3_row8_col6\" class=\"data row8 col6\" >0.0894</td>\n",
       "    </tr>\n",
       "    <tr>\n",
       "      <th id=\"T_44de3_level0_row9\" class=\"row_heading level0 row9\" >9</th>\n",
       "      <td id=\"T_44de3_row9_col0\" class=\"data row9 col0\" >0.8688</td>\n",
       "      <td id=\"T_44de3_row9_col1\" class=\"data row9 col1\" >0.6203</td>\n",
       "      <td id=\"T_44de3_row9_col2\" class=\"data row9 col2\" >0.1048</td>\n",
       "      <td id=\"T_44de3_row9_col3\" class=\"data row9 col3\" >0.1083</td>\n",
       "      <td id=\"T_44de3_row9_col4\" class=\"data row9 col4\" >0.1066</td>\n",
       "      <td id=\"T_44de3_row9_col5\" class=\"data row9 col5\" >0.0358</td>\n",
       "      <td id=\"T_44de3_row9_col6\" class=\"data row9 col6\" >0.0358</td>\n",
       "    </tr>\n",
       "    <tr>\n",
       "      <th id=\"T_44de3_level0_row10\" class=\"row_heading level0 row10\" >Mean</th>\n",
       "      <td id=\"T_44de3_row10_col0\" class=\"data row10 col0\" >0.8914</td>\n",
       "      <td id=\"T_44de3_row10_col1\" class=\"data row10 col1\" >0.6359</td>\n",
       "      <td id=\"T_44de3_row10_col2\" class=\"data row10 col2\" >0.1368</td>\n",
       "      <td id=\"T_44de3_row10_col3\" class=\"data row10 col3\" >0.1892</td>\n",
       "      <td id=\"T_44de3_row10_col4\" class=\"data row10 col4\" >0.1578</td>\n",
       "      <td id=\"T_44de3_row10_col5\" class=\"data row10 col5\" >0.1016</td>\n",
       "      <td id=\"T_44de3_row10_col6\" class=\"data row10 col6\" >0.1036</td>\n",
       "    </tr>\n",
       "    <tr>\n",
       "      <th id=\"T_44de3_level0_row11\" class=\"row_heading level0 row11\" >Std</th>\n",
       "      <td id=\"T_44de3_row11_col0\" class=\"data row11 col0\" >0.0097</td>\n",
       "      <td id=\"T_44de3_row11_col1\" class=\"data row11 col1\" >0.0315</td>\n",
       "      <td id=\"T_44de3_row11_col2\" class=\"data row11 col2\" >0.0314</td>\n",
       "      <td id=\"T_44de3_row11_col3\" class=\"data row11 col3\" >0.0416</td>\n",
       "      <td id=\"T_44de3_row11_col4\" class=\"data row11 col4\" >0.0344</td>\n",
       "      <td id=\"T_44de3_row11_col5\" class=\"data row11 col5\" >0.0372</td>\n",
       "      <td id=\"T_44de3_row11_col6\" class=\"data row11 col6\" >0.0376</td>\n",
       "    </tr>\n",
       "  </tbody>\n",
       "</table>\n"
      ],
      "text/plain": [
       "<pandas.io.formats.style.Styler at 0x21a1edadd90>"
      ]
     },
     "metadata": {},
     "output_type": "display_data"
    }
   ],
   "source": [
    "tuned_gbc = tune_model(gbc, optimize='F1')"
   ]
  },
  {
   "cell_type": "markdown",
   "metadata": {
    "colab_type": "text",
    "id": "w_P46O0jEQrT"
   },
   "source": [
    "# Analisando o resultado do modelo"
   ]
  },
  {
   "cell_type": "markdown",
   "metadata": {
    "colab_type": "text",
    "id": "euqkQYJaEQrY"
   },
   "source": [
    "### 10.1 AUC Plot"
   ]
  },
  {
   "cell_type": "code",
   "execution_count": 32,
   "metadata": {
    "colab": {},
    "colab_type": "code",
    "id": "RLbLqvkHEQra",
    "outputId": "fe40b5e3-6375-43e8-e97d-1d487e02eb2d"
   },
   "outputs": [
    {
     "data": {
      "image/png": "[encoded data removed]",
      "text/plain": [
       "<Figure size 576x396 with 1 Axes>"
      ]
     },
     "metadata": {},
     "output_type": "display_data"
    }
   ],
   "source": [
    "plot_model(tuned_gbc, plot = 'auc')"
   ]
  },
  {
   "cell_type": "markdown",
   "metadata": {
    "colab_type": "text",
    "id": "bwyoTUDQEQrm"
   },
   "source": [
    "### 10.2 Precision-Recall Plot"
   ]
  },
  {
   "cell_type": "code",
   "execution_count": 33,
   "metadata": {
    "colab": {},
    "colab_type": "code",
    "id": "4IvchQoiEQrr",
    "outputId": "fdff2076-86fc-42f5-beee-f0051ea30dd4"
   },
   "outputs": [
    {
     "data": {
      "image/png": "[encoded data removed]",
      "text/plain": [
       "<Figure size 576x396 with 1 Axes>"
      ]
     },
     "metadata": {},
     "output_type": "display_data"
    }
   ],
   "source": [
    "plot_model(tuned_gbc, plot = 'pr')"
   ]
  },
  {
   "cell_type": "markdown",
   "metadata": {
    "colab_type": "text",
    "id": "_r9rwEw7EQrz"
   },
   "source": [
    "### 10.3 Importância das variáveis (Feature Importance) Plot"
   ]
  },
  {
   "cell_type": "code",
   "execution_count": 34,
   "metadata": {
    "colab": {},
    "colab_type": "code",
    "id": "nVScSxJ-EQr2",
    "outputId": "f44f4b08-b749-4d0e-dcc9-d7e3dc6240c8"
   },
   "outputs": [
    {
     "data": {
      "image/png": "[encoded data removed]",
      "text/plain": [
       "<Figure size 800x500 with 1 Axes>"
      ]
     },
     "metadata": {},
     "output_type": "display_data"
    }
   ],
   "source": [
    "plot_model(tuned_gbc, plot='feature')"
   ]
  },
  {
   "cell_type": "markdown",
   "metadata": {
    "colab_type": "text",
    "id": "FfWC3NEhEQr9"
   },
   "source": [
    "### 10.4 Matriz de confusão (Confusion matrix)"
   ]
  },
  {
   "cell_type": "code",
   "execution_count": 35,
   "metadata": {
    "colab": {},
    "colab_type": "code",
    "id": "OAB5mes-EQsA",
    "outputId": "bd82130d-2cc3-4b63-df5d-03b7aa54bf52"
   },
   "outputs": [
    {
     "data": {
      "image/png": "[encoded data removed]",
      "text/plain": [
       "<Figure size 576x396 with 1 Axes>"
      ]
     },
     "metadata": {},
     "output_type": "display_data"
    }
   ],
   "source": [
    "plot_model(tuned_gbc, plot = 'confusion_matrix')"
   ]
  },
  {
   "cell_type": "code",
   "execution_count": 36,
   "metadata": {
    "colab": {
     "base_uri": "https://localhost:8080/",
     "height": 436,
     "referenced_widgets": [
      "42d5400d235d40b78190016ef0dabe11",
      "41031579127f4a53b58957e601465083",
      "12bf8b3c6ae8444a900474912589fdf1",
      "9bb3600d38c04691b444ff375ad5e3f5",
      "8886001bc7c1463ba58a8453f5c55073",
      "0a06fb091bd94ce6b6ab892e2c6faadf",
      "3cc1e83b91f34b289c7d52003f20a97a",
      "8d709ec9ec484944b1f9773748857f84",
      "8399e21b17634116861a5abaa9c0ccf7",
      "d5b6fce1763b4b54898ff3397b0f5bb0",
      "57b94ac505d142769b79de2f1e5c1166",
      "2a81017413ca4fe789c2272a5831a069",
      "02771b4dc3284414ab05df1906f4556b",
      "9e338844e75b4e17be8483529f5f38fd",
      "22588a12c0db4067982e62ebbe7e6930"
     ]
    },
    "colab_type": "code",
    "id": "OcLV1Ln6EQsN",
    "outputId": "7b5b8b4e-8d4a-4371-9a4f-cabb0a96265a"
   },
   "outputs": [
    {
     "data": {
      "application/vnd.jupyter.widget-view+json": {
       "model_id": "8b7c11f2e8d748cbb20474d7f2777b42",
       "version_major": 2,
       "version_minor": 0
      },
      "text/plain": [
       "interactive(children=(ToggleButtons(description='Plot Type:', icons=('',), options=(('Hyperparameters', 'param…"
      ]
     },
     "metadata": {},
     "output_type": "display_data"
    }
   ],
   "source": [
    "evaluate_model(tuned_gbc)"
   ]
  },
  {
   "cell_type": "markdown",
   "metadata": {
    "colab_type": "text",
    "id": "RX5pYUJJEQsV"
   },
   "source": [
    "# Predict na amostra de validação / hold-out"
   ]
  },
  {
   "cell_type": "code",
   "execution_count": 37,
   "metadata": {
    "colab": {},
    "colab_type": "code",
    "id": "nwaZk6oTEQsi",
    "outputId": "d30c8533-d347-4fa6-f18e-5b2abc937bec"
   },
   "outputs": [
    {
     "data": {
      "text/html": [
       "<style type=\"text/css\">\n",
       "</style>\n",
       "<table id=\"T_105a8\">\n",
       "  <thead>\n",
       "    <tr>\n",
       "      <th class=\"blank level0\" >&nbsp;</th>\n",
       "      <th id=\"T_105a8_level0_col0\" class=\"col_heading level0 col0\" >Model</th>\n",
       "      <th id=\"T_105a8_level0_col1\" class=\"col_heading level0 col1\" >Accuracy</th>\n",
       "      <th id=\"T_105a8_level0_col2\" class=\"col_heading level0 col2\" >AUC</th>\n",
       "      <th id=\"T_105a8_level0_col3\" class=\"col_heading level0 col3\" >Recall</th>\n",
       "      <th id=\"T_105a8_level0_col4\" class=\"col_heading level0 col4\" >Prec.</th>\n",
       "      <th id=\"T_105a8_level0_col5\" class=\"col_heading level0 col5\" >F1</th>\n",
       "      <th id=\"T_105a8_level0_col6\" class=\"col_heading level0 col6\" >Kappa</th>\n",
       "      <th id=\"T_105a8_level0_col7\" class=\"col_heading level0 col7\" >MCC</th>\n",
       "    </tr>\n",
       "  </thead>\n",
       "  <tbody>\n",
       "    <tr>\n",
       "      <th id=\"T_105a8_level0_row0\" class=\"row_heading level0 row0\" >0</th>\n",
       "      <td id=\"T_105a8_row0_col0\" class=\"data row0 col0\" >Gradient Boosting Classifier</td>\n",
       "      <td id=\"T_105a8_row0_col1\" class=\"data row0 col1\" >0.8921</td>\n",
       "      <td id=\"T_105a8_row0_col2\" class=\"data row0 col2\" >0.6500</td>\n",
       "      <td id=\"T_105a8_row0_col3\" class=\"data row0 col3\" >0.1453</td>\n",
       "      <td id=\"T_105a8_row0_col4\" class=\"data row0 col4\" >0.1959</td>\n",
       "      <td id=\"T_105a8_row0_col5\" class=\"data row0 col5\" >0.1668</td>\n",
       "      <td id=\"T_105a8_row0_col6\" class=\"data row0 col6\" >0.1105</td>\n",
       "      <td id=\"T_105a8_row0_col7\" class=\"data row0 col7\" >0.1119</td>\n",
       "    </tr>\n",
       "  </tbody>\n",
       "</table>\n"
      ],
      "text/plain": [
       "<pandas.io.formats.style.Styler at 0x21a1ba83d60>"
      ]
     },
     "metadata": {},
     "output_type": "display_data"
    }
   ],
   "source": [
    "predict_model(tuned_gbc);"
   ]
  },
  {
   "cell_type": "markdown",
   "metadata": {
    "colab_type": "text",
    "id": "r79BGjIfEQs1"
   },
   "source": [
    "# Finalizando o modelo para deploy"
   ]
  },
  {
   "cell_type": "code",
   "execution_count": 39,
   "metadata": {
    "colab": {},
    "colab_type": "code",
    "id": "_--tO4KGEQs-"
   },
   "outputs": [],
   "source": [
    "final_gbc = finalize_model(tuned_gbc)"
   ]
  },
  {
   "cell_type": "code",
   "execution_count": 40,
   "metadata": {
    "colab": {
     "base_uri": "https://localhost:8080/",
     "height": 147
    },
    "colab_type": "code",
    "id": "U9W6kXsSEQtQ",
    "outputId": "794b24a4-9c95-4730-eddd-f82e4925b866"
   },
   "outputs": [
    {
     "name": "stdout",
     "output_type": "stream",
     "text": [
      "GradientBoostingClassifier(ccp_alpha=0.0, criterion='friedman_mse', init=None,\n",
      "                           learning_rate=0.4, loss='deviance', max_depth=8,\n",
      "                           max_features='sqrt', max_leaf_nodes=None,\n",
      "                           min_impurity_decrease=0.05, min_impurity_split=None,\n",
      "                           min_samples_leaf=2, min_samples_split=9,\n",
      "                           min_weight_fraction_leaf=0.0, n_estimators=30,\n",
      "                           n_iter_no_change=None, presort='deprecated',\n",
      "                           random_state=123, subsample=0.2, tol=0.0001,\n",
      "                           validation_fraction=0.1, verbose=0,\n",
      "                           warm_start=False)\n"
     ]
    }
   ],
   "source": [
    "#Parâmetros finais do modelo Random Forest para deploy\n",
    "print(final_gbc)"
   ]
  },
  {
   "cell_type": "code",
   "execution_count": 41,
   "metadata": {
    "colab": {},
    "colab_type": "code",
    "id": "NJDk3I-EEQtg",
    "outputId": "4d75663a-e86f-4826-c8e4-c9aa722648df"
   },
   "outputs": [
    {
     "data": {
      "text/html": [
       "<style type=\"text/css\">\n",
       "</style>\n",
       "<table id=\"T_1644e\">\n",
       "  <thead>\n",
       "    <tr>\n",
       "      <th class=\"blank level0\" >&nbsp;</th>\n",
       "      <th id=\"T_1644e_level0_col0\" class=\"col_heading level0 col0\" >Model</th>\n",
       "      <th id=\"T_1644e_level0_col1\" class=\"col_heading level0 col1\" >Accuracy</th>\n",
       "      <th id=\"T_1644e_level0_col2\" class=\"col_heading level0 col2\" >AUC</th>\n",
       "      <th id=\"T_1644e_level0_col3\" class=\"col_heading level0 col3\" >Recall</th>\n",
       "      <th id=\"T_1644e_level0_col4\" class=\"col_heading level0 col4\" >Prec.</th>\n",
       "      <th id=\"T_1644e_level0_col5\" class=\"col_heading level0 col5\" >F1</th>\n",
       "      <th id=\"T_1644e_level0_col6\" class=\"col_heading level0 col6\" >Kappa</th>\n",
       "      <th id=\"T_1644e_level0_col7\" class=\"col_heading level0 col7\" >MCC</th>\n",
       "    </tr>\n",
       "  </thead>\n",
       "  <tbody>\n",
       "    <tr>\n",
       "      <th id=\"T_1644e_level0_row0\" class=\"row_heading level0 row0\" >0</th>\n",
       "      <td id=\"T_1644e_row0_col0\" class=\"data row0 col0\" >Gradient Boosting Classifier</td>\n",
       "      <td id=\"T_1644e_row0_col1\" class=\"data row0 col1\" >0.9099</td>\n",
       "      <td id=\"T_1644e_row0_col2\" class=\"data row0 col2\" >0.7612</td>\n",
       "      <td id=\"T_1644e_row0_col3\" class=\"data row0 col3\" >0.1962</td>\n",
       "      <td id=\"T_1644e_row0_col4\" class=\"data row0 col4\" >0.3250</td>\n",
       "      <td id=\"T_1644e_row0_col5\" class=\"data row0 col5\" >0.2447</td>\n",
       "      <td id=\"T_1644e_row0_col6\" class=\"data row0 col6\" >0.1999</td>\n",
       "      <td id=\"T_1644e_row0_col7\" class=\"data row0 col7\" >0.2071</td>\n",
       "    </tr>\n",
       "  </tbody>\n",
       "</table>\n"
      ],
      "text/plain": [
       "<pandas.io.formats.style.Styler at 0x21a1d3e16a0>"
      ]
     },
     "metadata": {},
     "output_type": "display_data"
    }
   ],
   "source": [
    "predict_model(final_gbc);"
   ]
  },
  {
   "cell_type": "markdown",
   "metadata": {
    "colab_type": "text",
    "id": "hUzc6tXNEQtr"
   },
   "source": [
    "# Predizendo o conjunto de dados que não foi usado no treino"
   ]
  },
  {
   "cell_type": "code",
   "execution_count": 42,
   "metadata": {
    "colab": {
     "base_uri": "https://localhost:8080/",
     "height": 211
    },
    "colab_type": "code",
    "id": "0y5KWLC6EQtx",
    "outputId": "30771f87-7847-43ce-e984-9963cff7d043"
   },
   "outputs": [
    {
     "data": {
      "text/html": [
       "<style type=\"text/css\">\n",
       "</style>\n",
       "<table id=\"T_a6a18\">\n",
       "  <thead>\n",
       "    <tr>\n",
       "      <th class=\"blank level0\" >&nbsp;</th>\n",
       "      <th id=\"T_a6a18_level0_col0\" class=\"col_heading level0 col0\" >Model</th>\n",
       "      <th id=\"T_a6a18_level0_col1\" class=\"col_heading level0 col1\" >Accuracy</th>\n",
       "      <th id=\"T_a6a18_level0_col2\" class=\"col_heading level0 col2\" >AUC</th>\n",
       "      <th id=\"T_a6a18_level0_col3\" class=\"col_heading level0 col3\" >Recall</th>\n",
       "      <th id=\"T_a6a18_level0_col4\" class=\"col_heading level0 col4\" >Prec.</th>\n",
       "      <th id=\"T_a6a18_level0_col5\" class=\"col_heading level0 col5\" >F1</th>\n",
       "      <th id=\"T_a6a18_level0_col6\" class=\"col_heading level0 col6\" >Kappa</th>\n",
       "      <th id=\"T_a6a18_level0_col7\" class=\"col_heading level0 col7\" >MCC</th>\n",
       "    </tr>\n",
       "  </thead>\n",
       "  <tbody>\n",
       "    <tr>\n",
       "      <th id=\"T_a6a18_level0_row0\" class=\"row_heading level0 row0\" >0</th>\n",
       "      <td id=\"T_a6a18_row0_col0\" class=\"data row0 col0\" >Gradient Boosting Classifier</td>\n",
       "      <td id=\"T_a6a18_row0_col1\" class=\"data row0 col1\" >0.8864</td>\n",
       "      <td id=\"T_a6a18_row0_col2\" class=\"data row0 col2\" >0.6677</td>\n",
       "      <td id=\"T_a6a18_row0_col3\" class=\"data row0 col3\" >0.1028</td>\n",
       "      <td id=\"T_a6a18_row0_col4\" class=\"data row0 col4\" >0.1930</td>\n",
       "      <td id=\"T_a6a18_row0_col5\" class=\"data row0 col5\" >0.1341</td>\n",
       "      <td id=\"T_a6a18_row0_col6\" class=\"data row0 col6\" >0.0794</td>\n",
       "      <td id=\"T_a6a18_row0_col7\" class=\"data row0 col7\" >0.0839</td>\n",
       "    </tr>\n",
       "  </tbody>\n",
       "</table>\n"
      ],
      "text/plain": [
       "<pandas.io.formats.style.Styler at 0x21a1d49b160>"
      ]
     },
     "metadata": {},
     "output_type": "display_data"
    },
    {
     "data": {
      "text/html": [
       "<div>\n",
       "<style scoped>\n",
       "    .dataframe tbody tr th:only-of-type {\n",
       "        vertical-align: middle;\n",
       "    }\n",
       "\n",
       "    .dataframe tbody tr th {\n",
       "        vertical-align: top;\n",
       "    }\n",
       "\n",
       "    .dataframe thead th {\n",
       "        text-align: right;\n",
       "    }\n",
       "</style>\n",
       "<table border=\"1\" class=\"dataframe\">\n",
       "  <thead>\n",
       "    <tr style=\"text-align: right;\">\n",
       "      <th></th>\n",
       "      <th>sexo</th>\n",
       "      <th>posse_de_veiculo</th>\n",
       "      <th>posse_de_imovel</th>\n",
       "      <th>qtd_filhos</th>\n",
       "      <th>tipo_renda</th>\n",
       "      <th>educacao</th>\n",
       "      <th>estado_civil</th>\n",
       "      <th>tipo_residencia</th>\n",
       "      <th>idade</th>\n",
       "      <th>tempo_emprego</th>\n",
       "      <th>qt_pessoas_residencia</th>\n",
       "      <th>renda</th>\n",
       "      <th>mau</th>\n",
       "      <th>Label</th>\n",
       "      <th>Score</th>\n",
       "    </tr>\n",
       "  </thead>\n",
       "  <tbody>\n",
       "    <tr>\n",
       "      <th>0</th>\n",
       "      <td>F</td>\n",
       "      <td>N</td>\n",
       "      <td>S</td>\n",
       "      <td>0</td>\n",
       "      <td>Assalariado</td>\n",
       "      <td>Superior completo</td>\n",
       "      <td>Separado</td>\n",
       "      <td>Casa</td>\n",
       "      <td>60</td>\n",
       "      <td>4.216438</td>\n",
       "      <td>1.0</td>\n",
       "      <td>7084.76</td>\n",
       "      <td>False</td>\n",
       "      <td>False</td>\n",
       "      <td>0.9838</td>\n",
       "    </tr>\n",
       "    <tr>\n",
       "      <th>1</th>\n",
       "      <td>F</td>\n",
       "      <td>N</td>\n",
       "      <td>S</td>\n",
       "      <td>0</td>\n",
       "      <td>Empresário</td>\n",
       "      <td>Médio</td>\n",
       "      <td>Solteiro</td>\n",
       "      <td>Aluguel</td>\n",
       "      <td>42</td>\n",
       "      <td>8.860274</td>\n",
       "      <td>1.0</td>\n",
       "      <td>22359.14</td>\n",
       "      <td>False</td>\n",
       "      <td>False</td>\n",
       "      <td>0.9930</td>\n",
       "    </tr>\n",
       "    <tr>\n",
       "      <th>2</th>\n",
       "      <td>F</td>\n",
       "      <td>S</td>\n",
       "      <td>S</td>\n",
       "      <td>0</td>\n",
       "      <td>Assalariado</td>\n",
       "      <td>Médio</td>\n",
       "      <td>Casado</td>\n",
       "      <td>Casa</td>\n",
       "      <td>47</td>\n",
       "      <td>4.895890</td>\n",
       "      <td>2.0</td>\n",
       "      <td>9643.94</td>\n",
       "      <td>False</td>\n",
       "      <td>False</td>\n",
       "      <td>0.9795</td>\n",
       "    </tr>\n",
       "    <tr>\n",
       "      <th>3</th>\n",
       "      <td>F</td>\n",
       "      <td>N</td>\n",
       "      <td>S</td>\n",
       "      <td>2</td>\n",
       "      <td>Empresário</td>\n",
       "      <td>Superior completo</td>\n",
       "      <td>Casado</td>\n",
       "      <td>Casa</td>\n",
       "      <td>37</td>\n",
       "      <td>0.200000</td>\n",
       "      <td>4.0</td>\n",
       "      <td>5225.44</td>\n",
       "      <td>False</td>\n",
       "      <td>False</td>\n",
       "      <td>0.9594</td>\n",
       "    </tr>\n",
       "    <tr>\n",
       "      <th>4</th>\n",
       "      <td>F</td>\n",
       "      <td>N</td>\n",
       "      <td>S</td>\n",
       "      <td>2</td>\n",
       "      <td>Empresário</td>\n",
       "      <td>Médio</td>\n",
       "      <td>Casado</td>\n",
       "      <td>Casa</td>\n",
       "      <td>41</td>\n",
       "      <td>8.695890</td>\n",
       "      <td>4.0</td>\n",
       "      <td>15386.78</td>\n",
       "      <td>False</td>\n",
       "      <td>False</td>\n",
       "      <td>0.9826</td>\n",
       "    </tr>\n",
       "  </tbody>\n",
       "</table>\n",
       "</div>"
      ],
      "text/plain": [
       "  sexo posse_de_veiculo posse_de_imovel  qtd_filhos   tipo_renda  \\\n",
       "0    F                N               S           0  Assalariado   \n",
       "1    F                N               S           0   Empresário   \n",
       "2    F                S               S           0  Assalariado   \n",
       "3    F                N               S           2   Empresário   \n",
       "4    F                N               S           2   Empresário   \n",
       "\n",
       "            educacao estado_civil tipo_residencia  idade  tempo_emprego  \\\n",
       "0  Superior completo     Separado            Casa     60       4.216438   \n",
       "1              Médio     Solteiro         Aluguel     42       8.860274   \n",
       "2              Médio       Casado            Casa     47       4.895890   \n",
       "3  Superior completo       Casado            Casa     37       0.200000   \n",
       "4              Médio       Casado            Casa     41       8.695890   \n",
       "\n",
       "   qt_pessoas_residencia     renda    mau  Label   Score  \n",
       "0                    1.0   7084.76  False  False  0.9838  \n",
       "1                    1.0  22359.14  False  False  0.9930  \n",
       "2                    2.0   9643.94  False  False  0.9795  \n",
       "3                    4.0   5225.44  False  False  0.9594  \n",
       "4                    4.0  15386.78  False  False  0.9826  "
      ]
     },
     "execution_count": 42,
     "metadata": {},
     "output_type": "execute_result"
    }
   ],
   "source": [
    "unseen_predictions = predict_model(final_gbc, data=data_unseen)\n",
    "unseen_predictions.head()"
   ]
  },
  {
   "cell_type": "code",
   "execution_count": 45,
   "metadata": {},
   "outputs": [
    {
     "data": {
      "text/plain": [
       "sexo                      object\n",
       "posse_de_veiculo          object\n",
       "posse_de_imovel           object\n",
       "qtd_filhos                 int64\n",
       "tipo_renda                object\n",
       "educacao                  object\n",
       "estado_civil              object\n",
       "tipo_residencia           object\n",
       "idade                      int64\n",
       "tempo_emprego            float64\n",
       "qt_pessoas_residencia    float64\n",
       "renda                    float64\n",
       "mau                         bool\n",
       "Label                     object\n",
       "Score                    float64\n",
       "dtype: object"
      ]
     },
     "execution_count": 45,
     "metadata": {},
     "output_type": "execute_result"
    }
   ],
   "source": [
    "unseen_predictions.dtypes"
   ]
  },
  {
   "cell_type": "code",
   "execution_count": 54,
   "metadata": {},
   "outputs": [
    {
     "data": {
      "text/plain": [
       "0.8864"
      ]
     },
     "execution_count": 54,
     "metadata": {},
     "output_type": "execute_result"
    }
   ],
   "source": [
    "from pycaret.utils import check_metric\n",
    "check_metric(unseen_predictions['mau'].astype(str), unseen_predictions['Label'], metric = 'Accuracy')"
   ]
  },
  {
   "cell_type": "markdown",
   "metadata": {
    "colab_type": "text",
    "id": "L__po3sUEQt7"
   },
   "source": [
    "# Salvando o modelo final"
   ]
  },
  {
   "cell_type": "code",
   "execution_count": 55,
   "metadata": {
    "colab": {},
    "colab_type": "code",
    "id": "ln1YWIXTEQuA",
    "outputId": "d3cb0652-f72e-44e8-9455-824b12740bff"
   },
   "outputs": [
    {
     "name": "stdout",
     "output_type": "stream",
     "text": [
      "Transformation Pipeline and Model Successfully Saved\n"
     ]
    },
    {
     "data": {
      "text/plain": [
       "(Pipeline(memory=None,\n",
       "          steps=[('dtypes',\n",
       "                  DataTypes_Auto_infer(categorical_features=[],\n",
       "                                       display_types=True, features_todrop=[],\n",
       "                                       id_columns=[],\n",
       "                                       ml_usecase='classification',\n",
       "                                       numerical_features=[], target='mau',\n",
       "                                       time_features=[])),\n",
       "                 ('imputer',\n",
       "                  Simple_Imputer(categorical_strategy='not_available',\n",
       "                                 fill_value_categorical=None,\n",
       "                                 fill_value_numerical=None,\n",
       "                                 numeric_strategy...\n",
       "                                             learning_rate=0.4, loss='deviance',\n",
       "                                             max_depth=8, max_features='sqrt',\n",
       "                                             max_leaf_nodes=None,\n",
       "                                             min_impurity_decrease=0.05,\n",
       "                                             min_impurity_split=None,\n",
       "                                             min_samples_leaf=2,\n",
       "                                             min_samples_split=9,\n",
       "                                             min_weight_fraction_leaf=0.0,\n",
       "                                             n_estimators=30,\n",
       "                                             n_iter_no_change=None,\n",
       "                                             presort='deprecated',\n",
       "                                             random_state=123, subsample=0.2,\n",
       "                                             tol=0.0001, validation_fraction=0.1,\n",
       "                                             verbose=0, warm_start=False)]],\n",
       "          verbose=False),\n",
       " 'Final GBC Model 02Jun2022.pkl')"
      ]
     },
     "execution_count": 55,
     "metadata": {},
     "output_type": "execute_result"
    }
   ],
   "source": [
    "save_model(final_gbc,'Final GBC Model 02Jun2022')"
   ]
  },
  {
   "cell_type": "markdown",
   "metadata": {
    "colab_type": "text",
    "id": "WE6f48AYEQuR"
   },
   "source": [
    "(DICA: É sempre bom usar data no nome do arquivo ao salvar modelos, é bom para controle de versão.)"
   ]
  },
  {
   "cell_type": "markdown",
   "metadata": {
    "colab_type": "text",
    "id": "Z8OBesfkEQuU"
   },
   "source": [
    "# Carregando o modelo salvo"
   ]
  },
  {
   "cell_type": "markdown",
   "metadata": {
    "colab_type": "text",
    "id": "V2K_WLaaEQuW"
   },
   "source": [
    "Para carregar um modelo salvo em uma data futura no mesmo ambiente ou em um ambiente alternativo, usaríamos a função `load_model()` do PyCaret e, em seguida, aplicaríamos facilmente o modelo salvo em novos dados não vistos para previsão."
   ]
  },
  {
   "cell_type": "code",
   "execution_count": 23,
   "metadata": {
    "colab": {},
    "colab_type": "code",
    "id": "Siw_2EIUEQub",
    "outputId": "5da8b7c9-01f7-469c-f0c9-b19c8ce11bcc"
   },
   "outputs": [
    {
     "name": "stdout",
     "output_type": "stream",
     "text": [
      "Transformation Pipeline and Model Successfully Loaded\n"
     ]
    }
   ],
   "source": [
    "saved_final_gbc = load_model('Final GBC Model 02Jun2022')"
   ]
  },
  {
   "cell_type": "markdown",
   "metadata": {
    "colab_type": "text",
    "id": "1zyi6-Q-EQuq"
   },
   "source": [
    "Uma vez que o modelo é carregado no ambiente, você pode simplesmente usá-lo para prever quaisquer novos dados usando a mesma função `predict_model()`. Abaixo, aplicamos o modelo carregado para prever o mesmo `data_unseen` que usamos na seção 13 acima."
   ]
  },
  {
   "cell_type": "code",
   "execution_count": 24,
   "metadata": {
    "colab": {},
    "colab_type": "code",
    "id": "HMPO1ka9EQut"
   },
   "outputs": [
    {
     "data": {
      "text/html": [
       "<style type=\"text/css\">\n",
       "</style>\n",
       "<table id=\"T_dec40\">\n",
       "  <thead>\n",
       "    <tr>\n",
       "      <th class=\"blank level0\" >&nbsp;</th>\n",
       "      <th id=\"T_dec40_level0_col0\" class=\"col_heading level0 col0\" >Model</th>\n",
       "      <th id=\"T_dec40_level0_col1\" class=\"col_heading level0 col1\" >Accuracy</th>\n",
       "      <th id=\"T_dec40_level0_col2\" class=\"col_heading level0 col2\" >AUC</th>\n",
       "      <th id=\"T_dec40_level0_col3\" class=\"col_heading level0 col3\" >Recall</th>\n",
       "      <th id=\"T_dec40_level0_col4\" class=\"col_heading level0 col4\" >Prec.</th>\n",
       "      <th id=\"T_dec40_level0_col5\" class=\"col_heading level0 col5\" >F1</th>\n",
       "      <th id=\"T_dec40_level0_col6\" class=\"col_heading level0 col6\" >Kappa</th>\n",
       "      <th id=\"T_dec40_level0_col7\" class=\"col_heading level0 col7\" >MCC</th>\n",
       "    </tr>\n",
       "  </thead>\n",
       "  <tbody>\n",
       "    <tr>\n",
       "      <th id=\"T_dec40_level0_row0\" class=\"row_heading level0 row0\" >0</th>\n",
       "      <td id=\"T_dec40_row0_col0\" class=\"data row0 col0\" >Gradient Boosting Classifier</td>\n",
       "      <td id=\"T_dec40_row0_col1\" class=\"data row0 col1\" >0.9068</td>\n",
       "      <td id=\"T_dec40_row0_col2\" class=\"data row0 col2\" >0.6743</td>\n",
       "      <td id=\"T_dec40_row0_col3\" class=\"data row0 col3\" >0.1180</td>\n",
       "      <td id=\"T_dec40_row0_col4\" class=\"data row0 col4\" >0.2165</td>\n",
       "      <td id=\"T_dec40_row0_col5\" class=\"data row0 col5\" >0.1527</td>\n",
       "      <td id=\"T_dec40_row0_col6\" class=\"data row0 col6\" >0.1079</td>\n",
       "      <td id=\"T_dec40_row0_col7\" class=\"data row0 col7\" >0.1135</td>\n",
       "    </tr>\n",
       "  </tbody>\n",
       "</table>\n"
      ],
      "text/plain": [
       "<pandas.io.formats.style.Styler at 0x1e3c2cc9d30>"
      ]
     },
     "metadata": {},
     "output_type": "display_data"
    }
   ],
   "source": [
    "new_prediction = predict_model(saved_final_gbc, data=data_unseen)"
   ]
  },
  {
   "cell_type": "code",
   "execution_count": 59,
   "metadata": {
    "colab": {},
    "colab_type": "code",
    "id": "7wyDQQSzEQu8",
    "outputId": "23065436-42e3-4441-ed58-a8863f8971f9"
   },
   "outputs": [
    {
     "data": {
      "text/html": [
       "<div>\n",
       "<style scoped>\n",
       "    .dataframe tbody tr th:only-of-type {\n",
       "        vertical-align: middle;\n",
       "    }\n",
       "\n",
       "    .dataframe tbody tr th {\n",
       "        vertical-align: top;\n",
       "    }\n",
       "\n",
       "    .dataframe thead th {\n",
       "        text-align: right;\n",
       "    }\n",
       "</style>\n",
       "<table border=\"1\" class=\"dataframe\">\n",
       "  <thead>\n",
       "    <tr style=\"text-align: right;\">\n",
       "      <th></th>\n",
       "      <th>sexo</th>\n",
       "      <th>posse_de_veiculo</th>\n",
       "      <th>posse_de_imovel</th>\n",
       "      <th>qtd_filhos</th>\n",
       "      <th>tipo_renda</th>\n",
       "      <th>educacao</th>\n",
       "      <th>estado_civil</th>\n",
       "      <th>tipo_residencia</th>\n",
       "      <th>idade</th>\n",
       "      <th>tempo_emprego</th>\n",
       "      <th>qt_pessoas_residencia</th>\n",
       "      <th>renda</th>\n",
       "      <th>mau</th>\n",
       "      <th>Label</th>\n",
       "      <th>Score</th>\n",
       "    </tr>\n",
       "  </thead>\n",
       "  <tbody>\n",
       "    <tr>\n",
       "      <th>0</th>\n",
       "      <td>F</td>\n",
       "      <td>N</td>\n",
       "      <td>S</td>\n",
       "      <td>0</td>\n",
       "      <td>Assalariado</td>\n",
       "      <td>Superior completo</td>\n",
       "      <td>Separado</td>\n",
       "      <td>Casa</td>\n",
       "      <td>60</td>\n",
       "      <td>4.216438</td>\n",
       "      <td>1.0</td>\n",
       "      <td>7084.76</td>\n",
       "      <td>False</td>\n",
       "      <td>False</td>\n",
       "      <td>0.9838</td>\n",
       "    </tr>\n",
       "    <tr>\n",
       "      <th>1</th>\n",
       "      <td>F</td>\n",
       "      <td>N</td>\n",
       "      <td>S</td>\n",
       "      <td>0</td>\n",
       "      <td>Empresário</td>\n",
       "      <td>Médio</td>\n",
       "      <td>Solteiro</td>\n",
       "      <td>Aluguel</td>\n",
       "      <td>42</td>\n",
       "      <td>8.860274</td>\n",
       "      <td>1.0</td>\n",
       "      <td>22359.14</td>\n",
       "      <td>False</td>\n",
       "      <td>False</td>\n",
       "      <td>0.9930</td>\n",
       "    </tr>\n",
       "    <tr>\n",
       "      <th>2</th>\n",
       "      <td>F</td>\n",
       "      <td>S</td>\n",
       "      <td>S</td>\n",
       "      <td>0</td>\n",
       "      <td>Assalariado</td>\n",
       "      <td>Médio</td>\n",
       "      <td>Casado</td>\n",
       "      <td>Casa</td>\n",
       "      <td>47</td>\n",
       "      <td>4.895890</td>\n",
       "      <td>2.0</td>\n",
       "      <td>9643.94</td>\n",
       "      <td>False</td>\n",
       "      <td>False</td>\n",
       "      <td>0.9795</td>\n",
       "    </tr>\n",
       "    <tr>\n",
       "      <th>3</th>\n",
       "      <td>F</td>\n",
       "      <td>N</td>\n",
       "      <td>S</td>\n",
       "      <td>2</td>\n",
       "      <td>Empresário</td>\n",
       "      <td>Superior completo</td>\n",
       "      <td>Casado</td>\n",
       "      <td>Casa</td>\n",
       "      <td>37</td>\n",
       "      <td>0.200000</td>\n",
       "      <td>4.0</td>\n",
       "      <td>5225.44</td>\n",
       "      <td>False</td>\n",
       "      <td>False</td>\n",
       "      <td>0.9594</td>\n",
       "    </tr>\n",
       "    <tr>\n",
       "      <th>4</th>\n",
       "      <td>F</td>\n",
       "      <td>N</td>\n",
       "      <td>S</td>\n",
       "      <td>2</td>\n",
       "      <td>Empresário</td>\n",
       "      <td>Médio</td>\n",
       "      <td>Casado</td>\n",
       "      <td>Casa</td>\n",
       "      <td>41</td>\n",
       "      <td>8.695890</td>\n",
       "      <td>4.0</td>\n",
       "      <td>15386.78</td>\n",
       "      <td>False</td>\n",
       "      <td>False</td>\n",
       "      <td>0.9826</td>\n",
       "    </tr>\n",
       "  </tbody>\n",
       "</table>\n",
       "</div>"
      ],
      "text/plain": [
       "  sexo posse_de_veiculo posse_de_imovel  qtd_filhos   tipo_renda  \\\n",
       "0    F                N               S           0  Assalariado   \n",
       "1    F                N               S           0   Empresário   \n",
       "2    F                S               S           0  Assalariado   \n",
       "3    F                N               S           2   Empresário   \n",
       "4    F                N               S           2   Empresário   \n",
       "\n",
       "            educacao estado_civil tipo_residencia  idade  tempo_emprego  \\\n",
       "0  Superior completo     Separado            Casa     60       4.216438   \n",
       "1              Médio     Solteiro         Aluguel     42       8.860274   \n",
       "2              Médio       Casado            Casa     47       4.895890   \n",
       "3  Superior completo       Casado            Casa     37       0.200000   \n",
       "4              Médio       Casado            Casa     41       8.695890   \n",
       "\n",
       "   qt_pessoas_residencia     renda    mau  Label   Score  \n",
       "0                    1.0   7084.76  False  False  0.9838  \n",
       "1                    1.0  22359.14  False  False  0.9930  \n",
       "2                    2.0   9643.94  False  False  0.9795  \n",
       "3                    4.0   5225.44  False  False  0.9594  \n",
       "4                    4.0  15386.78  False  False  0.9826  "
      ]
     },
     "execution_count": 59,
     "metadata": {},
     "output_type": "execute_result"
    }
   ],
   "source": [
    "new_prediction.head()"
   ]
  },
  {
   "cell_type": "code",
   "execution_count": 60,
   "metadata": {},
   "outputs": [
    {
     "data": {
      "text/plain": [
       "0.8864"
      ]
     },
     "execution_count": 60,
     "metadata": {},
     "output_type": "execute_result"
    }
   ],
   "source": [
    "from pycaret.utils import check_metric\n",
    "check_metric(new_prediction['mau'].astype(str), new_prediction['Label'], metric = 'Accuracy')"
   ]
  },
  {
   "cell_type": "code",
   "execution_count": 32,
   "metadata": {},
   "outputs": [
    {
     "data": {
      "text/plain": [
       "{'dtypes': DataTypes_Auto_infer(categorical_features=[], display_types=True,\n",
       "                      features_todrop=[], id_columns=[],\n",
       "                      ml_usecase='classification', numerical_features=[],\n",
       "                      target='mau', time_features=[]),\n",
       " 'imputer': Simple_Imputer(categorical_strategy='not_available',\n",
       "                fill_value_categorical=None, fill_value_numerical=None,\n",
       "                numeric_strategy='mean', target_variable=None),\n",
       " 'new_levels1': New_Catagorical_Levels_in_TestData(replacement_strategy='least frequent',\n",
       "                                    target='mau'),\n",
       " 'ordinal': 'passthrough',\n",
       " 'cardinality': 'passthrough',\n",
       " 'znz': 'passthrough',\n",
       " 'club_R_L': 'passthrough',\n",
       " 'new_levels': New_Catagorical_Levels_in_TestData(replacement_strategy='least frequent',\n",
       "                                    target='mau'),\n",
       " 'feature_time': Make_Time_Features(list_of_features=None,\n",
       "                    time_feature=Index([], dtype='object')),\n",
       " 'group': 'passthrough',\n",
       " 'nonliner': 'passthrough',\n",
       " 'scaling': 'passthrough',\n",
       " 'P_transform': 'passthrough',\n",
       " 'binn': 'passthrough',\n",
       " 'rem_outliers': 'passthrough',\n",
       " 'cluster_all': 'passthrough',\n",
       " 'dummy': Dummify(target='mau'),\n",
       " 'fix_perfect': Remove_100(target='mau'),\n",
       " 'clean_names': Clean_Colum_Names(),\n",
       " 'feature_select': 'passthrough',\n",
       " 'fix_multi': 'passthrough',\n",
       " 'dfs': 'passthrough',\n",
       " 'pca': 'passthrough',\n",
       " 'trained_model': GradientBoostingClassifier(ccp_alpha=0.0, criterion='friedman_mse', init=None,\n",
       "                            learning_rate=0.4, loss='deviance', max_depth=8,\n",
       "                            max_features='sqrt', max_leaf_nodes=None,\n",
       "                            min_impurity_decrease=0.05, min_impurity_split=None,\n",
       "                            min_samples_leaf=2, min_samples_split=9,\n",
       "                            min_weight_fraction_leaf=0.0, n_estimators=30,\n",
       "                            n_iter_no_change=None, presort='deprecated',\n",
       "                            random_state=123, subsample=0.2, tol=0.0001,\n",
       "                            validation_fraction=0.1, verbose=0,\n",
       "                            warm_start=False)}"
      ]
     },
     "execution_count": 32,
     "metadata": {},
     "output_type": "execute_result"
    }
   ],
   "source": [
    "saved_final_gbc.named_steps"
   ]
  },
  {
   "cell_type": "code",
   "execution_count": null,
   "metadata": {},
   "outputs": [],
   "source": []
  },
  {
   "cell_type": "code",
   "execution_count": null,
   "metadata": {},
   "outputs": [],
   "source": []
  }
 ],
 "metadata": {
  "colab": {
   "collapsed_sections": [
    "Ui_rALqYEQmv",
    "y9s9wNcjEQn0",
    "it_nJo1IEQob",
    "P5m2pciOEQo4",
    "UWMSeyNhEQo-",
    "rWUojqBCEQpb",
    "nSg3OUjuEQpu",
    "XvpjzbGQEQqB",
    "BQlMCxrUEQqG",
    "CD-f0delEQqq",
    "KO3zIfs-EQrA",
    "w_P46O0jEQrT",
    "euqkQYJaEQrY",
    "bwyoTUDQEQrm",
    "_r9rwEw7EQrz",
    "FfWC3NEhEQr9",
    "RX5pYUJJEQsV",
    "r79BGjIfEQs1",
    "hUzc6tXNEQtr",
    "L__po3sUEQt7",
    "Z8OBesfkEQuU",
    "_HeOs8BhEQvF"
   ],
   "name": "Binary Classification Tutorial (CLF101) - Level Beginner (ACN_EDITS).ipynb",
   "provenance": []
  },
  "kernelspec": {
   "display_name": "Python 3 (ipykernel)",
   "language": "python",
   "name": "python3"
  },
  "language_info": {
   "codemirror_mode": {
    "name": "ipython",
    "version": 3
   },
   "file_extension": ".py",
   "mimetype": "text/x-python",
   "name": "python",
   "nbconvert_exporter": "python",
   "pygments_lexer": "ipython3",
   "version": "3.9.13"
  },
  "varInspector": {
   "cols": {
    "lenName": 16,
    "lenType": 16,
    "lenVar": 40
   },
   "kernels_config": {
    "python": {
     "delete_cmd_postfix": "",
     "delete_cmd_prefix": "del ",
     "library": "var_list.py",
     "varRefreshCmd": "print(var_dic_list())"
    },
    "r": {
     "delete_cmd_postfix": ") ",
     "delete_cmd_prefix": "rm(",
     "library": "var_list.r",
     "varRefreshCmd": "cat(var_dic_list()) "
    }
   },
   "types_to_exclude": [
    "module",
    "function",
    "builtin_function_or_method",
    "instance",
    "_Feature"
   ],
   "window_display": false
  },
  "widgets": {
   "application/vnd.jupyter.widget-state+json": {
    "02771b4dc3284414ab05df1906f4556b": {
     "model_module": "@jupyter-widgets/controls",
     "model_name": "IntProgressModel",
     "state": {
      "_dom_classes": [],
      "_model_module": "@jupyter-widgets/controls",
      "_model_module_version": "1.5.0",
      "_model_name": "IntProgressModel",
      "_view_count": null,
      "_view_module": "@jupyter-widgets/controls",
      "_view_module_version": "1.5.0",
      "_view_name": "ProgressView",
      "bar_style": "",
      "description": "Processing: ",
      "description_tooltip": null,
      "layout": "IPY_MODEL_22588a12c0db4067982e62ebbe7e6930",
      "max": 5,
      "min": 0,
      "orientation": "horizontal",
      "style": "IPY_MODEL_9e338844e75b4e17be8483529f5f38fd",
      "value": 5
     }
    },
    "0a06fb091bd94ce6b6ab892e2c6faadf": {
     "model_module": "@jupyter-widgets/base",
     "model_name": "LayoutModel",
     "state": {
      "_model_module": "@jupyter-widgets/base",
      "_model_module_version": "1.2.0",
      "_model_name": "LayoutModel",
      "_view_count": null,
      "_view_module": "@jupyter-widgets/base",
      "_view_module_version": "1.2.0",
      "_view_name": "LayoutView",
      "align_content": null,
      "align_items": null,
      "align_self": null,
      "border": null,
      "bottom": null,
      "display": null,
      "flex": null,
      "flex_flow": null,
      "grid_area": null,
      "grid_auto_columns": null,
      "grid_auto_flow": null,
      "grid_auto_rows": null,
      "grid_column": null,
      "grid_gap": null,
      "grid_row": null,
      "grid_template_areas": null,
      "grid_template_columns": null,
      "grid_template_rows": null,
      "height": null,
      "justify_content": null,
      "justify_items": null,
      "left": null,
      "margin": null,
      "max_height": null,
      "max_width": null,
      "min_height": null,
      "min_width": null,
      "object_fit": null,
      "object_position": null,
      "order": null,
      "overflow": null,
      "overflow_x": null,
      "overflow_y": null,
      "padding": null,
      "right": null,
      "top": null,
      "visibility": null,
      "width": null
     }
    },
    "12bf8b3c6ae8444a900474912589fdf1": {
     "model_module": "@jupyter-widgets/controls",
     "model_name": "ToggleButtonsModel",
     "state": {
      "_dom_classes": [],
      "_model_module": "@jupyter-widgets/controls",
      "_model_module_version": "1.5.0",
      "_model_name": "ToggleButtonsModel",
      "_options_labels": [
       "Hyperparameters",
       "AUC",
       "Confusion Matrix",
       "Threshold",
       "Precision Recall",
       "Error",
       "Class Report",
       "Feature Selection",
       "Learning Curve",
       "Manifold Learning",
       "Calibration Curve",
       "Validation Curve",
       "Dimensions",
       "Feature Importance",
       "Decision Boundary"
      ],
      "_view_count": null,
      "_view_module": "@jupyter-widgets/controls",
      "_view_module_version": "1.5.0",
      "_view_name": "ToggleButtonsView",
      "button_style": "",
      "description": "Plot Type:",
      "description_tooltip": null,
      "disabled": false,
      "icons": [
       ""
      ],
      "index": 2,
      "layout": "IPY_MODEL_0a06fb091bd94ce6b6ab892e2c6faadf",
      "style": "IPY_MODEL_8886001bc7c1463ba58a8453f5c55073",
      "tooltips": []
     }
    },
    "22588a12c0db4067982e62ebbe7e6930": {
     "model_module": "@jupyter-widgets/base",
     "model_name": "LayoutModel",
     "state": {
      "_model_module": "@jupyter-widgets/base",
      "_model_module_version": "1.2.0",
      "_model_name": "LayoutModel",
      "_view_count": null,
      "_view_module": "@jupyter-widgets/base",
      "_view_module_version": "1.2.0",
      "_view_name": "LayoutView",
      "align_content": null,
      "align_items": null,
      "align_self": null,
      "border": null,
      "bottom": null,
      "display": null,
      "flex": null,
      "flex_flow": null,
      "grid_area": null,
      "grid_auto_columns": null,
      "grid_auto_flow": null,
      "grid_auto_rows": null,
      "grid_column": null,
      "grid_gap": null,
      "grid_row": null,
      "grid_template_areas": null,
      "grid_template_columns": null,
      "grid_template_rows": null,
      "height": null,
      "justify_content": null,
      "justify_items": null,
      "left": null,
      "margin": null,
      "max_height": null,
      "max_width": null,
      "min_height": null,
      "min_width": null,
      "object_fit": null,
      "object_position": null,
      "order": null,
      "overflow": null,
      "overflow_x": null,
      "overflow_y": null,
      "padding": null,
      "right": null,
      "top": null,
      "visibility": null,
      "width": null
     }
    },
    "2a81017413ca4fe789c2272a5831a069": {
     "model_module": "@jupyter-widgets/base",
     "model_name": "LayoutModel",
     "state": {
      "_model_module": "@jupyter-widgets/base",
      "_model_module_version": "1.2.0",
      "_model_name": "LayoutModel",
      "_view_count": null,
      "_view_module": "@jupyter-widgets/base",
      "_view_module_version": "1.2.0",
      "_view_name": "LayoutView",
      "align_content": null,
      "align_items": null,
      "align_self": null,
      "border": null,
      "bottom": null,
      "display": null,
      "flex": null,
      "flex_flow": null,
      "grid_area": null,
      "grid_auto_columns": null,
      "grid_auto_flow": null,
      "grid_auto_rows": null,
      "grid_column": null,
      "grid_gap": null,
      "grid_row": null,
      "grid_template_areas": null,
      "grid_template_columns": null,
      "grid_template_rows": null,
      "height": null,
      "justify_content": null,
      "justify_items": null,
      "left": null,
      "margin": null,
      "max_height": null,
      "max_width": null,
      "min_height": null,
      "min_width": null,
      "object_fit": null,
      "object_position": null,
      "order": null,
      "overflow": null,
      "overflow_x": null,
      "overflow_y": null,
      "padding": null,
      "right": null,
      "top": null,
      "visibility": null,
      "width": null
     }
    },
    "3cc1e83b91f34b289c7d52003f20a97a": {
     "model_module": "@jupyter-widgets/controls",
     "model_name": "IntProgressModel",
     "state": {
      "_dom_classes": [],
      "_model_module": "@jupyter-widgets/controls",
      "_model_module_version": "1.5.0",
      "_model_name": "IntProgressModel",
      "_view_count": null,
      "_view_module": "@jupyter-widgets/controls",
      "_view_module_version": "1.5.0",
      "_view_name": "ProgressView",
      "bar_style": "",
      "description": "Processing: ",
      "description_tooltip": null,
      "layout": "IPY_MODEL_8399e21b17634116861a5abaa9c0ccf7",
      "max": 5,
      "min": 0,
      "orientation": "horizontal",
      "style": "IPY_MODEL_8d709ec9ec484944b1f9773748857f84",
      "value": 2
     }
    },
    "41031579127f4a53b58957e601465083": {
     "model_module": "@jupyter-widgets/base",
     "model_name": "LayoutModel",
     "state": {
      "_model_module": "@jupyter-widgets/base",
      "_model_module_version": "1.2.0",
      "_model_name": "LayoutModel",
      "_view_count": null,
      "_view_module": "@jupyter-widgets/base",
      "_view_module_version": "1.2.0",
      "_view_name": "LayoutView",
      "align_content": null,
      "align_items": null,
      "align_self": null,
      "border": null,
      "bottom": null,
      "display": null,
      "flex": null,
      "flex_flow": null,
      "grid_area": null,
      "grid_auto_columns": null,
      "grid_auto_flow": null,
      "grid_auto_rows": null,
      "grid_column": null,
      "grid_gap": null,
      "grid_row": null,
      "grid_template_areas": null,
      "grid_template_columns": null,
      "grid_template_rows": null,
      "height": null,
      "justify_content": null,
      "justify_items": null,
      "left": null,
      "margin": null,
      "max_height": null,
      "max_width": null,
      "min_height": null,
      "min_width": null,
      "object_fit": null,
      "object_position": null,
      "order": null,
      "overflow": null,
      "overflow_x": null,
      "overflow_y": null,
      "padding": null,
      "right": null,
      "top": null,
      "visibility": null,
      "width": null
     }
    },
    "42d5400d235d40b78190016ef0dabe11": {
     "model_module": "@jupyter-widgets/controls",
     "model_name": "VBoxModel",
     "state": {
      "_dom_classes": [
       "widget-interact"
      ],
      "_model_module": "@jupyter-widgets/controls",
      "_model_module_version": "1.5.0",
      "_model_name": "VBoxModel",
      "_view_count": null,
      "_view_module": "@jupyter-widgets/controls",
      "_view_module_version": "1.5.0",
      "_view_name": "VBoxView",
      "box_style": "",
      "children": [
       "IPY_MODEL_12bf8b3c6ae8444a900474912589fdf1",
       "IPY_MODEL_9bb3600d38c04691b444ff375ad5e3f5"
      ],
      "layout": "IPY_MODEL_41031579127f4a53b58957e601465083"
     }
    },
    "57b94ac505d142769b79de2f1e5c1166": {
     "model_module": "@jupyter-widgets/controls",
     "model_name": "ProgressStyleModel",
     "state": {
      "_model_module": "@jupyter-widgets/controls",
      "_model_module_version": "1.5.0",
      "_model_name": "ProgressStyleModel",
      "_view_count": null,
      "_view_module": "@jupyter-widgets/base",
      "_view_module_version": "1.2.0",
      "_view_name": "StyleView",
      "bar_color": null,
      "description_width": ""
     }
    },
    "8399e21b17634116861a5abaa9c0ccf7": {
     "model_module": "@jupyter-widgets/base",
     "model_name": "LayoutModel",
     "state": {
      "_model_module": "@jupyter-widgets/base",
      "_model_module_version": "1.2.0",
      "_model_name": "LayoutModel",
      "_view_count": null,
      "_view_module": "@jupyter-widgets/base",
      "_view_module_version": "1.2.0",
      "_view_name": "LayoutView",
      "align_content": null,
      "align_items": null,
      "align_self": null,
      "border": null,
      "bottom": null,
      "display": null,
      "flex": null,
      "flex_flow": null,
      "grid_area": null,
      "grid_auto_columns": null,
      "grid_auto_flow": null,
      "grid_auto_rows": null,
      "grid_column": null,
      "grid_gap": null,
      "grid_row": null,
      "grid_template_areas": null,
      "grid_template_columns": null,
      "grid_template_rows": null,
      "height": null,
      "justify_content": null,
      "justify_items": null,
      "left": null,
      "margin": null,
      "max_height": null,
      "max_width": null,
      "min_height": null,
      "min_width": null,
      "object_fit": null,
      "object_position": null,
      "order": null,
      "overflow": null,
      "overflow_x": null,
      "overflow_y": null,
      "padding": null,
      "right": null,
      "top": null,
      "visibility": null,
      "width": null
     }
    },
    "8886001bc7c1463ba58a8453f5c55073": {
     "model_module": "@jupyter-widgets/controls",
     "model_name": "ToggleButtonsStyleModel",
     "state": {
      "_model_module": "@jupyter-widgets/controls",
      "_model_module_version": "1.5.0",
      "_model_name": "ToggleButtonsStyleModel",
      "_view_count": null,
      "_view_module": "@jupyter-widgets/base",
      "_view_module_version": "1.2.0",
      "_view_name": "StyleView",
      "button_width": "",
      "description_width": "",
      "font_weight": ""
     }
    },
    "8d709ec9ec484944b1f9773748857f84": {
     "model_module": "@jupyter-widgets/controls",
     "model_name": "ProgressStyleModel",
     "state": {
      "_model_module": "@jupyter-widgets/controls",
      "_model_module_version": "1.5.0",
      "_model_name": "ProgressStyleModel",
      "_view_count": null,
      "_view_module": "@jupyter-widgets/base",
      "_view_module_version": "1.2.0",
      "_view_name": "StyleView",
      "bar_color": null,
      "description_width": ""
     }
    },
    "9bb3600d38c04691b444ff375ad5e3f5": {
     "model_module": "@jupyter-widgets/output",
     "model_name": "OutputModel",
     "state": {
      "_dom_classes": [],
      "_model_module": "@jupyter-widgets/output",
      "_model_module_version": "1.0.0",
      "_model_name": "OutputModel",
      "_view_count": null,
      "_view_module": "@jupyter-widgets/output",
      "_view_module_version": "1.0.0",
      "_view_name": "OutputView",
      "layout": "IPY_MODEL_4f8f81ab97b041a58a53c85a1ab97bd4",
      "msg_id": "",
      "outputs": [
       {
        "image/png": "iVBORw0KGgoAAAANSUhEUgAAAeoAAAFlCAYAAAAki6s3AAAABHNCSVQICAgIfAhkiAAAAAlwSFlz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\nAAAm9n9QR+M8QEgGtgAAAABJRU5ErkJggg==\n",
        "metadata": {
         "tags": []
        },
        "output_type": "display_data",
        "text/plain": "<Figure size 576x396 with 1 Axes>"
       }
      ]
     }
    },
    "9e338844e75b4e17be8483529f5f38fd": {
     "model_module": "@jupyter-widgets/controls",
     "model_name": "ProgressStyleModel",
     "state": {
      "_model_module": "@jupyter-widgets/controls",
      "_model_module_version": "1.5.0",
      "_model_name": "ProgressStyleModel",
      "_view_count": null,
      "_view_module": "@jupyter-widgets/base",
      "_view_module_version": "1.2.0",
      "_view_name": "StyleView",
      "bar_color": null,
      "description_width": ""
     }
    },
    "d5b6fce1763b4b54898ff3397b0f5bb0": {
     "model_module": "@jupyter-widgets/controls",
     "model_name": "IntProgressModel",
     "state": {
      "_dom_classes": [],
      "_model_module": "@jupyter-widgets/controls",
      "_model_module_version": "1.5.0",
      "_model_name": "IntProgressModel",
      "_view_count": null,
      "_view_module": "@jupyter-widgets/controls",
      "_view_module_version": "1.5.0",
      "_view_name": "ProgressView",
      "bar_style": "",
      "description": "Processing: ",
      "description_tooltip": null,
      "layout": "IPY_MODEL_2a81017413ca4fe789c2272a5831a069",
      "max": 5,
      "min": 0,
      "orientation": "horizontal",
      "style": "IPY_MODEL_57b94ac505d142769b79de2f1e5c1166",
      "value": 5
     }
    }
   }
  }
 },
 "nbformat": 4,
 "nbformat_minor": 1
}
